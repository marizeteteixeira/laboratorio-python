{
 "cells": [
  {
   "cell_type": "markdown",
   "id": "ca564e9e",
   "metadata": {},
   "source": [
    "# Introdução ao Python\n",
    "\n",
    "## História do Python\n",
    "\n",
    "Python é uma linguagem de programação de alto nível, interpretada e de propósito geral, conhecida por sua simplicidade e legibilidade. Ela foi criada por Guido van Rossum e foi lançada pela primeira vez em 1991.\n",
    "\n",
    "**Linha do Tempo da História do Python:**\n",
    "\n",
    "- **Final dos anos 1980:** Guido van Rossum começou a trabalhar no Python no Centro de Pesquisa para Matemática e Informática (CWI) em Amsterdã, Holanda. Ele queria desenvolver uma linguagem de programação que pudesse ser usada por programadores iniciantes e experientes, que fosse simples de ler e escrever, e que tivesse uma sintaxe clara.\n",
    "\n",
    "- **1989:** Guido van Rossum começou o desenvolvimento do Python como um projeto de hobby durante as férias de Natal. Ele se inspirou em várias linguagens, como ABC, C, C++, Algol-68, Modula-3 e Smalltalk.\n",
    "\n",
    "- **1991:** A primeira versão do Python (versão 0.9.0) foi lançada publicamente. Esta versão já incluía muitas das principais funcionalidades do Python moderno, como exceções, funções e os tipos de dados centrais (`str`, `list`, `dict`).\n",
    "\n",
    "- **1994:** Foi lançada a versão 1.0 do Python. Esta versão introduziu recursos como o módulo de sistema de módulos (modular system), que permitia a reutilização de código entre programas.\n",
    "\n",
    "- **2000:** A Python Software Foundation (PSF) foi criada para gerenciar o desenvolvimento do Python e proteger a linguagem. Neste ano, foi lançada a versão 2.0 do Python, que trouxe várias melhorias, como o garbage collection e a compreensão de listas.\n",
    "\n",
    "- **2008:** Foi lançada a versão 3.0 do Python (também conhecida como Python 3000 ou Py3k). Esta versão não era compatível retroativamente com a série 2.x, introduzindo muitas mudanças significativas para corrigir falhas de design da linguagem e melhorar sua consistência. Algumas das mudanças incluem a mudança na sintaxe do `print` de uma declaração para uma função e a alteração na maneira como a divisão de inteiros funciona.\n",
    "\n",
    "- **Atualmente:** Python continua a evoluir, com novas versões sendo lançadas regularmente, adicionando novos recursos, melhorias de desempenho e correções de bugs. A comunidade Python é ativa e vibrante, contribuindo com uma vasta gama de bibliotecas e frameworks que tornam Python uma escolha popular para muitas áreas da computação, incluindo desenvolvimento web, ciência de dados, automação, e muito mais.\n",
    "\n",
    "## Características do Python\n",
    "\n",
    "Python é uma linguagem de programação poderosa e versátil, que oferece uma série de características que a tornam única e popular entre programadores de todos os níveis de experiência.\n",
    "\n",
    "**Principais Características do Python:**\n",
    "\n",
    "1. **Sintaxe Simples e Legível:**\n",
    "   - Python foi projetado com a legibilidade do código em mente. Sua sintaxe é clara e concisa, facilitando a escrita e a manutenção do código.\n",
    "   - Exemplos:"
   ]
  },
  {
   "cell_type": "code",
   "execution_count": null,
   "id": "6ecf8abd",
   "metadata": {},
   "outputs": [],
   "source": [
    "# Exemplo de código Python claro e legível\n",
    "for i in range(5):\n",
    "  print(i)"
   ]
  },
  {
   "cell_type": "markdown",
   "id": "7eb1268a",
   "metadata": {},
   "source": [
    "\n",
    "2. **Interpretação e Tipagem Dinâmica:**\n",
    "   - Python é uma linguagem interpretada, o que significa que o código é executado linha a linha, sem a necessidade de uma fase de compilação separada.\n",
    "   - Python é dinamicamente tipado, permitindo que variáveis mudem de tipo durante a execução do programa.\n",
    "   - Exemplos:"
   ]
  },
  {
   "cell_type": "code",
   "execution_count": null,
   "id": "ccca9461",
   "metadata": {},
   "outputs": [],
   "source": [
    "# Exemplo de tipagem dinâmica\n",
    "x = 10\n",
    "print(x)  # Saída: 10\n",
    "x = \"Olá, Python!\"\n",
    "print(x)  # Saída: Olá, Python!"
   ]
  },
  {
   "cell_type": "markdown",
   "id": "8429d121",
   "metadata": {},
   "source": [
    "\n",
    "3. **Suporte a Múltiplos Paradigmas:**\n",
    "   - Python suporta vários paradigmas de programação, incluindo programação orientada a objetos, imperativa, funcional e procedural.\n",
    "   - Exemplos:"
   ]
  },
  {
   "cell_type": "code",
   "execution_count": null,
   "id": "7e3f2dfd",
   "metadata": {},
   "outputs": [],
   "source": [
    "# Exemplo de programação orientada a objetos\n",
    "class Pessoa:\n",
    "  def __init__(self, nome):\n",
    "      self.nome = nome\n",
    "\n",
    "  def apresentar(self):\n",
    "      return f\"Olá, meu nome é {self.nome}\"\n",
    "\n",
    "p = Pessoa(\"Alice\")\n",
    "print(p.apresentar())  # Saída: Olá, meu nome é Alice"
   ]
  },
  {
   "cell_type": "markdown",
   "id": "b378f31f",
   "metadata": {},
   "source": [
    "\n",
    "4. **Bibliotecas Padrão e bibliotecas de terceiros:**\n",
    "   - Python possui uma extensa biblioteca padrão, que cobre muitas áreas da computação, como manipulação de arquivos, desenvolvimento web, e manipulação de dados.\n",
    "   - Além da biblioteca padrão, há uma vasta quantidade de bibliotecas de terceiros disponíveis no Python Package Index (PyPI) que expandem ainda mais as capacidades da linguagem.\n",
    "   - Exemplos:"
   ]
  },
  {
   "cell_type": "code",
   "execution_count": null,
   "id": "a7fda1fa",
   "metadata": {},
   "outputs": [],
   "source": [
    "# Exemplo de uso da biblioteca padrão (math)\n",
    "import math\n",
    "print(math.sqrt(16))  # Saída: 4.0\n",
    "\n",
    "# Exemplo de uso de uma biblioteca de terceiros (requests)\n",
    "import requests\n",
    "response = requests.get('https://api.github.com')\n",
    "print(response.status_code)  # Saída: 200"
   ]
  },
  {
   "cell_type": "markdown",
   "id": "93195114",
   "metadata": {},
   "source": [
    "\n",
    "5. **Portabilidade:**\n",
    "   - Python é uma linguagem multiplataforma, o que significa que o código Python pode ser executado em diferentes sistemas operacionais, como Windows, macOS e Linux, sem modificações significativas.\n",
    "   - Exemplos:"
   ]
  },
  {
   "cell_type": "code",
   "execution_count": null,
   "id": "3733dc14",
   "metadata": {},
   "outputs": [],
   "source": [
    "# O mesmo código pode ser executado em diferentes sistemas operacionais\n",
    "print(\"Este código é portátil!\")"
   ]
  },
  {
   "cell_type": "markdown",
   "id": "5333560e",
   "metadata": {},
   "source": [
    "\n",
    "6. **Comunidade Ativa e Suporte:**\n",
    "   - Python possui uma comunidade ativa e acolhedora, com muitos recursos disponíveis, incluindo fóruns, listas de discussão, tutoriais e documentação oficial abrangente.\n",
    "   - A Python Software Foundation (PSF) apoia o desenvolvimento contínuo da linguagem e promove a comunidade Python.\n",
    "\n",
    "7. **Integração com Outras Linguagens:**\n",
    "   - Python pode ser facilmente integrado com outras linguagens de programação como C, C++ e Java, permitindo a criação de aplicações híbridas e a reutilização de bibliotecas existentes.\n",
    "   - Exemplos:"
   ]
  },
  {
   "cell_type": "code",
   "execution_count": null,
   "id": "ef184329",
   "metadata": {},
   "outputs": [],
   "source": [
    "# Usando bibliotecas Python que são wrappers para código C/C++\n",
    "import numpy as np\n",
    "arr = np.array([1, 2, 3])\n",
    "print(arr)  # Saída: [1 2 3]"
   ]
  },
  {
   "cell_type": "markdown",
   "id": "3c100383",
   "metadata": {},
   "source": [
    "\n",
    "8. **Desenvolvimento Rápido:**\n",
    "   - A simplicidade e legibilidade de Python permitem um desenvolvimento rápido, tornando-o ideal para prototipagem e desenvolvimento ágil.\n",
    "   - Exemplos:"
   ]
  },
  {
   "cell_type": "code",
   "execution_count": null,
   "id": "b92ad15c",
   "metadata": {},
   "outputs": [],
   "source": [
    "# Exemplo de prototipagem rápida\n",
    "def saudacao(nome):\n",
    "   return f\"Olá, {nome}!\"\n",
    "\n",
    "print(saudacao(\"Mundo\"))  # Saída: Olá, Mundo!"
   ]
  },
  {
   "cell_type": "markdown",
   "id": "25d2cc89",
   "metadata": {},
   "source": []
  }
 ],
 "metadata": {},
 "nbformat": 4,
 "nbformat_minor": 5
}
