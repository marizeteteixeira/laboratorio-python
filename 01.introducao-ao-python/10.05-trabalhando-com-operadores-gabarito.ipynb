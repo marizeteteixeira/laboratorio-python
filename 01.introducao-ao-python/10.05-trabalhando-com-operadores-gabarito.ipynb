{
 "cells": [
  {
   "cell_type": "markdown",
   "id": "43fc54c7",
   "metadata": {},
   "source": [
    "# Exercícios sobre operadores - GABARITO\n",
    "\n",
    "### Operadores Aritméticos\n",
    "\n",
    "#### Exercício 1: Calculadora Simples\n",
    "Crie uma função chamada `calculadora_simples` que recebe três argumentos: dois números e um operador aritmético (como string). A função deve realizar a operação especificada entre os dois números e retornar o resultado.\n"
   ]
  },
  {
   "cell_type": "code",
   "execution_count": null,
   "id": "a386442d",
   "metadata": {},
   "outputs": [],
   "source": [
    "def calculadora_simples(num1, num2, operador):\n",
    "    if operador == '+':\n",
    "        return num1 + num2\n",
    "    elif operador == '-':\n",
    "        return num1 - num2\n",
    "    elif operador == '*':\n",
    "        return num1 * num2\n",
    "    elif operador == '/':\n",
    "        return num1 / num2\n",
    "    else:\n",
    "        return \"Operador inválido\"\n",
    "\n",
    "# Teste a função\n",
    "print(calculadora_simples(10, 5, '+'))  # resultado esperado 15\n",
    "print(calculadora_simples(10, 5, '-'))  # resultado esperado 5\n",
    "print(calculadora_simples(10, 5, '*'))  # resultado esperado 50\n",
    "print(calculadora_simples(10, 5, '/'))  # resultado esperado 2.0\n",
    "print(calculadora_simples(10, 5, '%'))  # resultado esperado Operador inválido"
   ]
  },
  {
   "cell_type": "markdown",
   "id": "a0537352",
   "metadata": {},
   "source": [
    "\n",
    "#### Exercício 2: Média Aritmética\n",
    "Crie uma função chamada `media_aritmetica` que recebe uma lista de números e retorna a média aritmética dos números na lista.\n"
   ]
  },
  {
   "cell_type": "code",
   "execution_count": null,
   "id": "0b65ca7d",
   "metadata": {},
   "outputs": [],
   "source": [
    "def media_aritmetica(numeros):\n",
    "    total = sum(numeros)\n",
    "    quantidade = len(numeros)\n",
    "    media = total / quantidade\n",
    "    return media\n",
    "\n",
    "# Teste a função\n",
    "print(media_aritmetica([10, 20, 30, 40, 50]))  # resultado esperado 30.0"
   ]
  },
  {
   "cell_type": "markdown",
   "id": "e448ee1d",
   "metadata": {},
   "source": [
    "\n",
    "### Operadores de Comparação\n",
    "\n",
    "#### Exercício 1: Maior de Dois Números\n",
    "Crie uma função chamada `maior_de_dois` que recebe dois números como argumentos e retorna o maior dos dois.\n"
   ]
  },
  {
   "cell_type": "code",
   "execution_count": null,
   "id": "899125d2",
   "metadata": {},
   "outputs": [],
   "source": [
    "def maior_de_dois(num1, num2):\n",
    "    if num1 > num2:\n",
    "        return num1\n",
    "    else:\n",
    "        return num2\n",
    "\n",
    "# Teste a função\n",
    "print(maior_de_dois(10, 20))  # resultado esperado 20\n",
    "print(maior_de_dois(30, 15))  # resultado esperado 30"
   ]
  },
  {
   "cell_type": "markdown",
   "id": "7b41a817",
   "metadata": {},
   "source": [
    "\n",
    "#### Exercício 2: Verificação de Intervalo\n",
    "Crie uma função chamada `verificar_intervalo` que recebe um número e verifica se ele está no intervalo de 10 a 20 (inclusive). A função deve retornar True se o número estiver no intervalo, caso contrário, deve retornar False.\n"
   ]
  },
  {
   "cell_type": "code",
   "execution_count": null,
   "id": "e50628bf",
   "metadata": {},
   "outputs": [],
   "source": [
    "def verificar_intervalo(num):\n",
    "    return 10 <= num <= 20\n",
    "\n",
    "# Teste a função\n",
    "print(verificar_intervalo(15))  # resultado esperado True\n",
    "print(verificar_intervalo(25))  # resultado esperado False"
   ]
  },
  {
   "cell_type": "markdown",
   "id": "36309bf5",
   "metadata": {},
   "source": [
    "\n",
    "### Operadores Lógicos\n",
    "\n",
    "#### Exercício 1: Verificação de Paridade\n",
    "Crie uma função chamada `verificar_paridade` que recebe um número e verifica se ele é par e positivo. A função deve retornar True se o número for par e positivo, caso contrário, deve retornar False.\n"
   ]
  },
  {
   "cell_type": "code",
   "execution_count": null,
   "id": "7abb389b",
   "metadata": {},
   "outputs": [],
   "source": [
    "def verificar_paridade(num):\n",
    "    return num > 0 and num % 2 == 0\n",
    "\n",
    "# Teste a função\n",
    "print(verificar_paridade(10))  # resultado esperado True\n",
    "print(verificar_paridade(-2))  # resultado esperado False\n",
    "print(verificar_paridade(3))   # resultado esperado False"
   ]
  },
  {
   "cell_type": "markdown",
   "id": "2dcd6ef6",
   "metadata": {},
   "source": [
    "\n",
    "#### Exercício 2: Verificação de Condições Múltiplas\n",
    "Crie uma função chamada `verificar_condicoes` que recebe três números. A função deve retornar True se o primeiro número for maior que o segundo e o segundo número for maior que o terceiro, caso contrário, deve retornar False.\n"
   ]
  },
  {
   "cell_type": "code",
   "execution_count": null,
   "id": "afdb03cf",
   "metadata": {},
   "outputs": [],
   "source": [
    "def verificar_condicoes(num1, num2, num3):\n",
    "    return num1 > num2 and num2 > num3\n",
    "\n",
    "# Teste a função\n",
    "print(verificar_condicoes(10, 5, 1))  # resultado esperado True\n",
    "print(verificar_condicoes(10, 5, 20)) # resultado esperado False"
   ]
  },
  {
   "cell_type": "markdown",
   "id": "0e2ad15f",
   "metadata": {},
   "source": []
  }
 ],
 "metadata": {},
 "nbformat": 4,
 "nbformat_minor": 5
}
