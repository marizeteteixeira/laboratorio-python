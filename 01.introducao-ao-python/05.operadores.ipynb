{
 "cells": [
  {
   "cell_type": "markdown",
   "id": "c3ea6057",
   "metadata": {},
   "source": [
    "#### 4. Operadores\n",
    "\n",
    "Operadores são usados para realizar operações em variáveis e valores.\n",
    "\n",
    "##### Operadores Aritméticos\n"
   ]
  },
  {
   "cell_type": "code",
   "execution_count": null,
   "id": "d02f5488",
   "metadata": {},
   "outputs": [],
   "source": [
    "a = 10\n",
    "b = 3\n",
    "\n",
    "print(a + b)  # Adição: 13\n",
    "print(a - b)  # Subtração: 7\n",
    "print(a * b)  # Multiplicação: 30\n",
    "print(a / b)  # Divisão: 3.333...\n",
    "print(a % b)  # Módulo: 1\n",
    "print(a ** b)  # Exponenciação: 1000\n",
    "print(a // b)  # Divisão inteira: 3"
   ]
  },
  {
   "cell_type": "markdown",
   "id": "cfffb24d",
   "metadata": {},
   "source": [
    "\n",
    "##### Operadores de Comparação\n"
   ]
  },
  {
   "cell_type": "code",
   "execution_count": null,
   "id": "2de5a31a",
   "metadata": {},
   "outputs": [],
   "source": [
    "a = 10\n",
    "b = 3\n",
    "\n",
    "print(a == b)  # Igual a: False\n",
    "print(a != b)  # Diferente de: True\n",
    "print(a > b)  # Maior que: True\n",
    "print(a < b)  # Menor que: False\n",
    "print(a >= b)  # Maior ou igual a: True\n",
    "print(a <= b)  # Menor ou igual a: False"
   ]
  },
  {
   "cell_type": "markdown",
   "id": "e69ae5cf",
   "metadata": {},
   "source": [
    "\n",
    "##### Operadores Lógicos\n"
   ]
  },
  {
   "cell_type": "code",
   "execution_count": null,
   "id": "7e425928",
   "metadata": {},
   "outputs": [],
   "source": [
    "x = True\n",
    "y = False\n",
    "\n",
    "print(x and y)  # E lógico: False\n",
    "print(x or y)  # Ou lógico: True\n",
    "print(not x)  # Não lógico: False"
   ]
  },
  {
   "cell_type": "markdown",
   "id": "b8ff08d0",
   "metadata": {},
   "source": [
    "\n",
    "##### Operadores de Atribuição\n"
   ]
  },
  {
   "cell_type": "code",
   "execution_count": null,
   "id": "3896ada8",
   "metadata": {},
   "outputs": [],
   "source": [
    "a = 5\n",
    "\n",
    "a += 2  # a = a + 2\n",
    "print(a)  # Saída: 7\n",
    "\n",
    "a *= 3  # a = a * 3\n",
    "print(a)  # Saída: 21\n",
    "\n",
    "a -= 4  # a = a - 4\n",
    "print(a)  # Saída: 17\n",
    "\n",
    "a /= 2  # a = a / 2\n",
    "print(a)  # Saída: 8.5"
   ]
  },
  {
   "cell_type": "markdown",
   "id": "3b0c7c5b",
   "metadata": {},
   "source": [
    "\n"
   ]
  }
 ],
 "metadata": {},
 "nbformat": 4,
 "nbformat_minor": 5
}
