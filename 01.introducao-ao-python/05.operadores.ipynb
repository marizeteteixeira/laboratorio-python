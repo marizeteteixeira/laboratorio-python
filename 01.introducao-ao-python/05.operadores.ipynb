{
 "cells": [
  {
   "cell_type": "markdown",
   "id": "d97aa72c",
   "metadata": {},
   "source": [
    "#### 4. Operadores\n",
    "\n",
    "Operadores são usados para realizar operações em variáveis e valores.\n",
    "\n",
    "##### Operadores Aritméticos\n"
   ]
  },
  {
   "cell_type": "code",
   "execution_count": null,
   "id": "7fef94d2",
   "metadata": {},
   "outputs": [],
   "source": [
    "a = 10\n",
    "b = 3\n",
    "\n",
    "print(a + b)  # Adição: 13\n",
    "print(a - b)  # Subtração: 7\n",
    "print(a * b)  # Multiplicação: 30\n",
    "print(a / b)  # Divisão: 3.333...\n",
    "print(a % b)  # Módulo: 1\n",
    "print(a ** b)  # Exponenciação: 1000\n",
    "print(a // b)  # Divisão inteira: 3"
   ]
  },
  {
   "cell_type": "markdown",
   "id": "6b79da6b",
   "metadata": {},
   "source": [
    "\n",
    "##### Operadores de Comparação\n"
   ]
  },
  {
   "cell_type": "code",
   "execution_count": null,
   "id": "1f6fa6de",
   "metadata": {},
   "outputs": [],
   "source": [
    "a = 10\n",
    "b = 3\n",
    "\n",
    "print(a == b)  # Igual a: False\n",
    "print(a != b)  # Diferente de: True\n",
    "print(a > b)  # Maior que: True\n",
    "print(a < b)  # Menor que: False\n",
    "print(a >= b)  # Maior ou igual a: True\n",
    "print(a <= b)  # Menor ou igual a: False"
   ]
  },
  {
   "cell_type": "markdown",
   "id": "bb3e3dab",
   "metadata": {},
   "source": [
    "\n",
    "##### Operadores Lógicos\n"
   ]
  },
  {
   "cell_type": "code",
   "execution_count": null,
   "id": "de9666b2",
   "metadata": {},
   "outputs": [],
   "source": [
    "x = True\n",
    "y = False\n",
    "\n",
    "print(x and y)  # E lógico: False\n",
    "print(x or y)  # Ou lógico: True\n",
    "print(not x)  # Não lógico: False"
   ]
  },
  {
   "cell_type": "markdown",
   "id": "2ee68ef2",
   "metadata": {},
   "source": [
    "\n",
    "##### Operadores de Atribuição\n"
   ]
  },
  {
   "cell_type": "code",
   "execution_count": null,
   "id": "2e6f1aa6",
   "metadata": {},
   "outputs": [],
   "source": [
    "a = 5\n",
    "\n",
    "a += 2  # a = a + 2\n",
    "print(a)  # Saída: 7\n",
    "\n",
    "a *= 3  # a = a * 3\n",
    "print(a)  # Saída: 21\n",
    "\n",
    "a -= 4  # a = a - 4\n",
    "print(a)  # Saída: 17\n",
    "\n",
    "a /= 2  # a = a / 2\n",
    "print(a)  # Saída: 8.5"
   ]
  },
  {
   "cell_type": "markdown",
   "id": "68fa6365",
   "metadata": {},
   "source": [
    "\n"
   ]
  }
 ],
 "metadata": {},
 "nbformat": 4,
 "nbformat_minor": 5
}
