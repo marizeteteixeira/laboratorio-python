{
 "cells": [
  {
   "cell_type": "markdown",
   "id": "74b93880",
   "metadata": {},
   "source": [
    "# Exercícios - Strings\n",
    "\n",
    "### Exercício 1: Contagem de Caracteres\n",
    "\n",
    "Escreva uma função chamada contar_caracteres que recebe uma string como argumento e retorna um dicionário onde as chaves são os caracteres e os valores são a quantidade de vezes que cada caractere aparece na string.\n"
   ]
  },
  {
   "cell_type": "code",
   "execution_count": null,
   "id": "6fe47ebb",
   "metadata": {},
   "outputs": [],
   "source": [
    "def contar_caracteres(s):\n",
    "    contagem = {}\n",
    "    pass\n",
    "    return contagem\n",
    "\n",
    "# Teste a função\n",
    "print(contar_caracteres(\"programacao\"))"
   ]
  },
  {
   "cell_type": "markdown",
   "id": "a82e7472",
   "metadata": {},
   "source": [
    "\n",
    "### Exercício 2: Inversão de String\n",
    "\n",
    "Crie uma função chamada inverter_string que recebe uma string e retorna a string invertida."
   ]
  },
  {
   "cell_type": "code",
   "execution_count": null,
   "id": "101e5de3",
   "metadata": {},
   "outputs": [],
   "source": [
    "def inverter_string(s):\n",
    "    pass\n",
    "\n",
    "# Teste a função\n",
    "print(inverter_string(\"python\"))"
   ]
  },
  {
   "cell_type": "markdown",
   "id": "a70744c3",
   "metadata": {},
   "source": [
    "\n",
    "### Exercício 3: Substituição de Caracteres\n",
    "\n",
    "Crie uma função chamada substituir_caracteres que recebe uma string e dois caracteres (antigo e novo). A função deve substituir todas as ocorrências do caractere antigo pelo novo na string e retornar a nova string.\n"
   ]
  },
  {
   "cell_type": "code",
   "execution_count": null,
   "id": "8382b7fb",
   "metadata": {},
   "outputs": [],
   "source": [
    "def substituir_caracteres(s, antigo, novo):\n",
    "    pass\n",
    "\n",
    "# Teste a função\n",
    "print(substituir_caracteres(\"banana\", \"a\", \"o\"))"
   ]
  },
  {
   "cell_type": "markdown",
   "id": "80562bd8",
   "metadata": {},
   "source": [
    "\n",
    "### Exercício 4: Remoção de Vogais\n",
    "\n",
    "Escreva uma função chamada remover_vogais que remove todas as vogais (a, e, i, o, u) de uma string e retorna a string resultante."
   ]
  },
  {
   "cell_type": "code",
   "execution_count": null,
   "id": "acef4268",
   "metadata": {},
   "outputs": [],
   "source": [
    "def remover_vogais(s):\n",
    "    vogais = \"aeiouAEIOU\"\n",
    "    pass\n",
    "\n",
    "# Teste a função\n",
    "print(remover_vogais(\"programacao\"))"
   ]
  },
  {
   "cell_type": "markdown",
   "id": "a268d216",
   "metadata": {},
   "source": []
  }
 ],
 "metadata": {},
 "nbformat": 4,
 "nbformat_minor": 5
}
