{
 "cells": [
  {
   "cell_type": "markdown",
   "id": "6bcdb64d",
   "metadata": {},
   "source": [
    "# Exercícios - Trabalhando com Funções - GABARITO\n",
    "\n",
    "### Função com Parâmetro e Argumentos\n",
    "Crie uma função chamada `soma` que recebe dois parâmetros, `a` e `b`, e retorna a soma dos dois.\n"
   ]
  },
  {
   "cell_type": "code",
   "execution_count": null,
   "id": "891ceefb",
   "metadata": {},
   "outputs": [],
   "source": [
    "def soma(a, b):\n",
    "    return a + b\n",
    "\n",
    "# Teste a função\n",
    "print(soma(3, 4))   # resultado esperado 7\n",
    "print(soma(10, 5))  # resultado esperado 15"
   ]
  },
  {
   "cell_type": "markdown",
   "id": "f7cfd9a2",
   "metadata": {},
   "source": [
    "\n",
    "### Função com Argumento Padrão\n",
    "Crie uma função chamada `cumprimento` que recebe um nome e uma saudação. Se a saudação não for fornecida, use \"Olá\" como saudação padrão.\n"
   ]
  },
  {
   "cell_type": "code",
   "execution_count": null,
   "id": "ed5ead2a",
   "metadata": {},
   "outputs": [],
   "source": [
    "def cumprimento(nome, saudacao=\"Olá\"):\n",
    "    return f\"{saudacao}, {nome}!\"\n",
    "\n",
    "# Teste a função\n",
    "print(cumprimento(\"João\"))  # resultado esperado Olá, João!\n",
    "print(cumprimento(\"Maria\", \"Bom dia\")) # resultado esperado Bom dia, Maria!"
   ]
  },
  {
   "cell_type": "markdown",
   "id": "f4a59065",
   "metadata": {},
   "source": [
    "\n",
    "### Função com Argumentos Variáveis (`*args`)\n",
    "Crie uma função chamada `media` que recebe um número variável de argumentos e retorna a média aritmética desses números.\n"
   ]
  },
  {
   "cell_type": "code",
   "execution_count": null,
   "id": "7aab23cf",
   "metadata": {},
   "outputs": [],
   "source": [
    "def media(*args):\n",
    "    if len(args) == 0:\n",
    "        return 0\n",
    "    return sum(args) / len(args)\n",
    "\n",
    "# Teste a função\n",
    "print(media(1, 2, 3, 4, 5))  # resultado esperado 3.0\n",
    "print(media(10, 20))  # resultado esperado 15.0"
   ]
  },
  {
   "cell_type": "markdown",
   "id": "07c370a0",
   "metadata": {},
   "source": [
    "\n",
    "### Função com Argumentos Variáveis (`**kwargs`)\n",
    "Crie uma função chamada `descricao_pessoa` que recebe argumentos variáveis nomeados (como `nome`, `idade`, `cidade`) e retorna uma string descrevendo a pessoa.\n"
   ]
  },
  {
   "cell_type": "code",
   "execution_count": null,
   "id": "b892d76e",
   "metadata": {},
   "outputs": [],
   "source": [
    "def descricao_pessoa(**kwargs):\n",
    "    descricao = \", \".join([f\"{chave}: {valor}\" for chave, valor in kwargs.items()])\n",
    "    return f\"Descrição da pessoa: {descricao}\"\n",
    "\n",
    "# Teste a função\n",
    "print(descricao_pessoa(nome=\"João\", idade=30, cidade=\"São Paulo\"))\n",
    "# Resultado esperado\n",
    "# Descrição da pessoa: nome: João, idade: 30, cidade: São Paulo"
   ]
  },
  {
   "cell_type": "markdown",
   "id": "9b753ac4",
   "metadata": {},
   "source": [
    "\n",
    "### Função Lambda\n",
    "Crie uma função lambda que recebe dois números e retorna o maior dos dois.\n"
   ]
  },
  {
   "cell_type": "code",
   "execution_count": null,
   "id": "2eff79c8",
   "metadata": {},
   "outputs": [],
   "source": [
    "maior = lambda a, b: a if a > b else b\n",
    "\n",
    "# Teste a função\n",
    "print(maior(10, 20))  # resultado esperado 20\n",
    "print(maior(30, 15))  # resultado esperado 30"
   ]
  },
  {
   "cell_type": "markdown",
   "id": "b3c82d5c",
   "metadata": {},
   "source": []
  }
 ],
 "metadata": {},
 "nbformat": 4,
 "nbformat_minor": 5
}
