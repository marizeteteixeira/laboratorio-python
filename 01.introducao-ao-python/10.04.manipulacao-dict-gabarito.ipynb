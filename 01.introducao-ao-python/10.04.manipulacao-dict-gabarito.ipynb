{
 "cells": [
  {
   "cell_type": "markdown",
   "id": "833625aa",
   "metadata": {},
   "source": [
    "# Exercícios - DICT - GABARITO\n",
    "\n",
    "### Exercício 1: Adicionar e Atualizar Entradas\n",
    "Crie uma função chamada `adicionar_atualizar_entrada` que recebe um dicionário, uma chave e um valor. A função deve adicionar a chave e o valor ao dicionário se a chave não existir, ou atualizar o valor da chave se ela já existir.\n"
   ]
  },
  {
   "cell_type": "code",
   "execution_count": null,
   "id": "32101fba",
   "metadata": {},
   "outputs": [],
   "source": [
    "def adicionar_atualizar_entrada(dicionario, chave, valor):\n",
    "    dicionario[chave] = valor\n",
    "    return dicionario\n",
    "\n",
    "# Teste a função\n",
    "dicionario = {'a': 1, 'b': 2}\n",
    "print(adicionar_atualizar_entrada(dicionario, 'c', 3))  # resultado esperado {'a': 1, 'b': 2, 'c': 3}\n",
    "print(adicionar_atualizar_entrada(dicionario, 'a', 10))  # resultado esperado {'a': 10, 'b': 2, 'c': 3}"
   ]
  },
  {
   "cell_type": "markdown",
   "id": "c4e8d62d",
   "metadata": {},
   "source": [
    "\n",
    "### Exercício 2: Remover Entradas por Chave\n",
    "Escreva uma função chamada `remover_entrada` que recebe um dicionário e uma chave. A função deve remover a entrada correspondente à chave fornecida e retornar o dicionário atualizado. Se a chave não existir, retornar o dicionário inalterado.\n"
   ]
  },
  {
   "cell_type": "code",
   "execution_count": null,
   "id": "a7a94b6b",
   "metadata": {},
   "outputs": [],
   "source": [
    "def remover_entrada(dicionario, chave):\n",
    "    if chave in dicionario:\n",
    "        del dicionario[chave]\n",
    "    return dicionario\n",
    "\n",
    "# Teste a função\n",
    "dicionario = {'a': 1, 'b': 2, 'c': 3}\n",
    "print(remover_entrada(dicionario, 'b'))  # resultado esperado {'a': 1, 'c': 3}\n",
    "print(remover_entrada(dicionario, 'd'))  # resultado esperado {'a': 1, 'c': 3}"
   ]
  },
  {
   "cell_type": "markdown",
   "id": "32e2945e",
   "metadata": {},
   "source": [
    "\n",
    "### Exercício 3: Combinar Dois Dicionários\n",
    "Crie uma função chamada `combinar_dicionarios` que recebe dois dicionários e retorna um novo dicionário que combina as entradas de ambos. Se uma chave existir em ambos os dicionários, o valor do segundo dicionário deve sobrescrever o valor do primeiro.\n"
   ]
  },
  {
   "cell_type": "code",
   "execution_count": null,
   "id": "54ed9b69",
   "metadata": {},
   "outputs": [],
   "source": [
    "def combinar_dicionarios(dic1, dic2):\n",
    "    dic_combinado = dic1.copy()  # Cria uma cópia do primeiro dicionário\n",
    "    dic_combinado.update(dic2)   # Atualiza a cópia com os valores do segundo dicionário\n",
    "    return dic_combinado\n",
    "\n",
    "# Teste a função\n",
    "dic1 = {'a': 1, 'b': 2}\n",
    "dic2 = {'b': 3, 'c': 4}\n",
    "print(combinar_dicionarios(dic1, dic2))  # resultado esperado {'a': 1, 'b': 3, 'c': 4}"
   ]
  },
  {
   "cell_type": "markdown",
   "id": "64db1df4",
   "metadata": {},
   "source": []
  }
 ],
 "metadata": {},
 "nbformat": 4,
 "nbformat_minor": 5
}
