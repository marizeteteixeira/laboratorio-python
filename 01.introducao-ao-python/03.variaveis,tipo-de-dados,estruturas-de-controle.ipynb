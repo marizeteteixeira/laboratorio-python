{
 "cells": [
  {
   "cell_type": "markdown",
   "id": "94c06f04",
   "metadata": {},
   "source": [
    "# Variáveis, tipos de dados, estruturas de controle e estruturas de repetição\n",
    "\n",
    "## Aprendendo trabalhar com variáveis\n",
    "\n",
    "Vamos explorar detalhadamente os conceitos fundamentais de Python, incluindo a criação de variáveis, tipos de dados, estruturas de dados como listas, conjuntos e dicionários, operadores, estruturas de controle, estruturas de repetição e funções.\n",
    "\n",
    "### 1. Criação de Variáveis e Tipos de Dados\n",
    "\n",
    "**Variáveis** são usadas para armazenar dados em um programa. Em Python, você não precisa declarar explicitamente o tipo de uma variável, pois a linguagem é dinamicamente tipada. Basta atribuir um valor a uma variável, e Python determinará automaticamente o tipo de dado.\n",
    "\n",
    "- Exemplo de código em Python\n"
   ]
  },
  {
   "cell_type": "code",
   "execution_count": null,
   "id": "ed6cdc81",
   "metadata": {},
   "outputs": [],
   "source": [
    "# Criação de variáveis\n",
    "numero = 10       # Inteiro\n",
    "texto = \"Olá\"     # String\n",
    "preco = 99.99     # Float\n",
    "is_valido = True  # Booleano\n",
    "\n",
    "# Imprimindo os valores e tipos\n",
    "print(numero, type(numero))   # Saída: 10 <class 'int'>\n",
    "print(texto, type(texto))     # Saída: Olá <class 'str'>\n",
    "print(preco, type(preco))     # Saída: 99.99 <class 'float'>\n",
    "print(is_valido, type(is_valido))  # Saída: True <class 'bool'>"
   ]
  },
  {
   "cell_type": "markdown",
   "id": "60949028",
   "metadata": {},
   "source": [
    "\n",
    "## String\n",
    "\n",
    "Strings são sequências de caracteres usadas para representar texto em Python. Elas são um dos tipos de dados mais comuns e fundamentais em Python, e a linguagem oferece uma variedade de operações e métodos para manipulá-las.\n",
    "\n",
    "### Criação de Strings\n",
    "\n",
    "Você pode criar strings em Python usando aspas simples (`'`) ou duplas (`\"`).\n"
   ]
  },
  {
   "cell_type": "code",
   "execution_count": null,
   "id": "8093e24d",
   "metadata": {},
   "outputs": [],
   "source": [
    "# Usando aspas simples\n",
    "string1 = 'Hello, World!'\n",
    "\n",
    "# Usando aspas duplas\n",
    "string2 = \"Hello, World!\""
   ]
  },
  {
   "cell_type": "markdown",
   "id": "068232e6",
   "metadata": {},
   "source": [
    "\n",
    "Para criar strings de múltiplas linhas, você pode usar aspas triplas (`'''` ou `\"\"\"`).\n"
   ]
  },
  {
   "cell_type": "code",
   "execution_count": null,
   "id": "99aea951",
   "metadata": {},
   "outputs": [],
   "source": [
    "multiline_string = \"\"\"Esta é uma string\n",
    "de múltiplas linhas\"\"\""
   ]
  },
  {
   "cell_type": "markdown",
   "id": "083c917c",
   "metadata": {},
   "source": [
    "\n",
    "### Acessando Caracteres em Strings\n",
    "\n",
    "Você pode acessar caracteres individuais em uma string usando índices, começando do zero. Índices negativos acessam caracteres a partir do final da string.\n"
   ]
  },
  {
   "cell_type": "code",
   "execution_count": null,
   "id": "8eeeb41c",
   "metadata": {},
   "outputs": [],
   "source": [
    "string = \"Python\"\n",
    "print(string[0])  # Saída: P\n",
    "print(string[5])  # Saída: n\n",
    "print(string[-1]) # Saída: n"
   ]
  },
  {
   "cell_type": "markdown",
   "id": "bc85921e",
   "metadata": {},
   "source": [
    "\n",
    "### Fatiamento (Slicing)\n",
    "\n",
    "Você pode extrair substrings (subsequências) de uma string usando a sintaxe de fatiamento.\n"
   ]
  },
  {
   "cell_type": "code",
   "execution_count": null,
   "id": "120df91f",
   "metadata": {},
   "outputs": [],
   "source": [
    "string = \"Hello, World!\"\n",
    "print(string[0:5])  # Saída: Hello\n",
    "print(string[7:])   # Saída: World!\n",
    "print(string[:5])   # Saída: Hello\n",
    "print(string[::2])  # Saída: Hlo ol!"
   ]
  },
  {
   "cell_type": "markdown",
   "id": "11054d5a",
   "metadata": {},
   "source": [
    "\n",
    "### Métodos Comuns de Strings\n",
    "\n",
    "Python fornece vários métodos embutidos para manipulação de strings.\n",
    "\n",
    "- `len()`: Retorna o comprimento da string.\n"
   ]
  },
  {
   "cell_type": "code",
   "execution_count": null,
   "id": "87c1ebc8",
   "metadata": {},
   "outputs": [],
   "source": [
    "print(len(\"Python\"))  # Saída: 6"
   ]
  },
  {
   "cell_type": "markdown",
   "id": "6ea435df",
   "metadata": {},
   "source": [
    "\n",
    "- `str.lower()`: Converte todos os caracteres da string para minúsculas.\n"
   ]
  },
  {
   "cell_type": "code",
   "execution_count": null,
   "id": "072ca3a0",
   "metadata": {},
   "outputs": [],
   "source": [
    "print(\"PYTHON\".lower())  # Saída: python"
   ]
  },
  {
   "cell_type": "markdown",
   "id": "fee0b513",
   "metadata": {},
   "source": [
    "\n",
    "- `str.upper()`: Converte todos os caracteres da string para maiúsculas.\n"
   ]
  },
  {
   "cell_type": "code",
   "execution_count": null,
   "id": "a03d81a7",
   "metadata": {},
   "outputs": [],
   "source": [
    "print(\"python\".upper())  # Saída: PYTHON"
   ]
  },
  {
   "cell_type": "markdown",
   "id": "8383bff5",
   "metadata": {},
   "source": [
    "\n",
    "- `str.strip()`: Remove espaços em branco do início e do fim da string.\n"
   ]
  },
  {
   "cell_type": "code",
   "execution_count": null,
   "id": "69adf456",
   "metadata": {},
   "outputs": [],
   "source": [
    "print(\"   Hello, World!   \".strip())  # Saída: Hello, World!"
   ]
  },
  {
   "cell_type": "markdown",
   "id": "8cd7f2dd",
   "metadata": {},
   "source": [
    "\n",
    "- `str.replace(old, new)`: Substitui todas as ocorrências da substring `old` por `new`.\n"
   ]
  },
  {
   "cell_type": "code",
   "execution_count": null,
   "id": "8c5c10f1",
   "metadata": {},
   "outputs": [],
   "source": [
    "print(\"Hello, World!\".replace(\"World\", \"Python\"))  # Saída: Hello, Python!"
   ]
  },
  {
   "cell_type": "markdown",
   "id": "818cfd42",
   "metadata": {},
   "source": [
    "\n",
    "- `str.split(separator)`: Divide a string em uma lista de substrings, usando `separator` como delimitador.\n"
   ]
  },
  {
   "cell_type": "code",
   "execution_count": null,
   "id": "f5fa4f89",
   "metadata": {},
   "outputs": [],
   "source": [
    "print(\"Hello, World!\".split(\", \"))  # Saída: ['Hello', 'World!']"
   ]
  },
  {
   "cell_type": "markdown",
   "id": "08e1ca91",
   "metadata": {},
   "source": [
    "\n",
    "- `str.join(iterable)`: Junta uma sequência de strings em uma única string, separadas por uma string delimitadora.\n"
   ]
  },
  {
   "cell_type": "code",
   "execution_count": null,
   "id": "d627ec7c",
   "metadata": {},
   "outputs": [],
   "source": [
    "print(\", \".join([\"Hello\", \"World\"]))  # Saída: Hello, World"
   ]
  },
  {
   "cell_type": "markdown",
   "id": "b76f82c1",
   "metadata": {},
   "source": [
    "\n",
    "- `str.find(sub)`: Retorna o índice da primeira ocorrência de `sub` na string, ou -1 se não encontrada.\n"
   ]
  },
  {
   "cell_type": "code",
   "execution_count": null,
   "id": "e284c5a2",
   "metadata": {},
   "outputs": [],
   "source": [
    "print(\"Hello, World!\".find(\"World\"))  # Saída: 7"
   ]
  },
  {
   "cell_type": "markdown",
   "id": "76046895",
   "metadata": {},
   "source": [
    "\n",
    "- `str.count(sub)`: Retorna o número de ocorrências de `sub` na string.\n"
   ]
  },
  {
   "cell_type": "code",
   "execution_count": null,
   "id": "a96f1b8d",
   "metadata": {},
   "outputs": [],
   "source": [
    "print(\"Hello, World! Hello, Python!\".count(\"Hello\"))  # Saída: 2"
   ]
  },
  {
   "cell_type": "markdown",
   "id": "2f9d119a",
   "metadata": {},
   "source": [
    "\n",
    "- `str.startswith(prefix)`: Retorna `True` se a string começar com `prefix`.\n"
   ]
  },
  {
   "cell_type": "code",
   "execution_count": null,
   "id": "065e62a5",
   "metadata": {},
   "outputs": [],
   "source": [
    "print(\"Hello, World!\".startswith(\"Hello\"))  # Saída: True"
   ]
  },
  {
   "cell_type": "markdown",
   "id": "f4432063",
   "metadata": {},
   "source": [
    "\n",
    "- `str.endswith(suffix)`: Retorna `True` se a string terminar com `suffix`.\n"
   ]
  },
  {
   "cell_type": "code",
   "execution_count": null,
   "id": "d6978d63",
   "metadata": {},
   "outputs": [],
   "source": [
    "print(\"Hello, World!\".endswith(\"World!\"))  # Saída: True"
   ]
  },
  {
   "cell_type": "markdown",
   "id": "91b4ec10",
   "metadata": {},
   "source": [
    "\n",
    "### Concatenação de Strings\n",
    "\n",
    "Você pode concatenar (juntar) strings usando o operador `+`.\n"
   ]
  },
  {
   "cell_type": "code",
   "execution_count": null,
   "id": "0f81f540",
   "metadata": {},
   "outputs": [],
   "source": [
    "str1 = \"Hello, \"\n",
    "str2 = \"World!\"\n",
    "result = str1 + str2\n",
    "print(result)  # Saída: Hello, World!"
   ]
  },
  {
   "cell_type": "markdown",
   "id": "28e042b1",
   "metadata": {},
   "source": [
    "\n",
    "### Formatação de Strings\n",
    "\n",
    "Python oferece várias maneiras de formatar strings para incluir variáveis e expressões.\n",
    "\n",
    "- Operador `%`: Um método antigo de formatação de strings.\n"
   ]
  },
  {
   "cell_type": "code",
   "execution_count": null,
   "id": "99b99a31",
   "metadata": {},
   "outputs": [],
   "source": [
    "name = \"Alice\"\n",
    "age = 30\n",
    "print(\"Name: %s, Age: %d\" % (name, age))  # Saída: Name: Alice, Age: 30"
   ]
  },
  {
   "cell_type": "markdown",
   "id": "6ba5e825",
   "metadata": {},
   "source": [
    "\n",
    "- Método `str.format()`: Um método mais recente e poderoso.\n"
   ]
  },
  {
   "cell_type": "code",
   "execution_count": null,
   "id": "8ac8e5b8",
   "metadata": {},
   "outputs": [],
   "source": [
    "print(\"Name: {}, Age: {}\".format(name, age))  # Saída: Name: Alice, Age: 30\n",
    "print(\"Name: {0}, Age: {1}\".format(name, age))  # Saída: Name: Alice, Age: 30\n",
    "print(\"Name: {name}, Age: {age}\".format(name=name, age=age))  # Saída: Name: Alice, Age: 30"
   ]
  },
  {
   "cell_type": "markdown",
   "id": "33e8dbcc",
   "metadata": {},
   "source": [
    "\n",
    "- F-strings (a partir do Python 3.6): A maneira mais moderna e concisa.\n"
   ]
  },
  {
   "cell_type": "code",
   "execution_count": null,
   "id": "5c1039de",
   "metadata": {},
   "outputs": [],
   "source": [
    "print(f\"Name: {name}, Age: {age}\")  # Saída: Name: Alice, Age: 30"
   ]
  },
  {
   "cell_type": "markdown",
   "id": "f13df419",
   "metadata": {},
   "source": [
    "\n",
    "### Verificação e Manipulação de Substrings\n",
    "\n",
    "- `in` e `not in`: Verificam se uma substring está presente em uma string.\n"
   ]
  },
  {
   "cell_type": "code",
   "execution_count": null,
   "id": "3f3ca3a8",
   "metadata": {},
   "outputs": [],
   "source": [
    "print(\"Python\" in \"Hello, Python!\")  # Saída: True\n",
    "print(\"Java\" not in \"Hello, Python!\")  # Saída: True"
   ]
  },
  {
   "cell_type": "markdown",
   "id": "17f9b705",
   "metadata": {},
   "source": [
    "\n",
    "- `str.index(sub)`: Retorna o índice da primeira ocorrência de `sub` na string, ou levanta um `ValueError` se não encontrada.\n"
   ]
  },
  {
   "cell_type": "code",
   "execution_count": null,
   "id": "63a5668a",
   "metadata": {},
   "outputs": [],
   "source": [
    "print(\"Hello, World!\".index(\"World\"))  # Saída: 7"
   ]
  },
  {
   "cell_type": "markdown",
   "id": "3d4d272c",
   "metadata": {},
   "source": [
    "\n",
    "- `str.startswith(prefix)`: Verifica se a string começa com `prefix`.\n"
   ]
  },
  {
   "cell_type": "code",
   "execution_count": null,
   "id": "38262228",
   "metadata": {},
   "outputs": [],
   "source": [
    "print(\"Hello, World!\".startswith(\"Hello\"))  # Saída: True"
   ]
  },
  {
   "cell_type": "markdown",
   "id": "1f97b01a",
   "metadata": {},
   "source": [
    "\n",
    "- `str.endswith(suffix)`: Verifica se a string termina com `suffix`.\n"
   ]
  },
  {
   "cell_type": "code",
   "execution_count": null,
   "id": "4c2d7d58",
   "metadata": {},
   "outputs": [],
   "source": [
    "print(\"Hello, World!\".endswith(\"World!\"))  # Saída: True"
   ]
  },
  {
   "cell_type": "markdown",
   "id": "452e4e92",
   "metadata": {},
   "source": [
    "\n",
    "### Exemplos Práticos\n",
    "\n",
    "#### Reverter uma String\n"
   ]
  },
  {
   "cell_type": "code",
   "execution_count": null,
   "id": "57c345c2",
   "metadata": {},
   "outputs": [],
   "source": [
    "string = \"Python\"\n",
    "reversed_string = string[::-1]\n",
    "print(reversed_string)  # Saída: nohtyP"
   ]
  },
  {
   "cell_type": "markdown",
   "id": "ee1c8469",
   "metadata": {},
   "source": [
    "\n",
    "#### Verificar se uma String é Palíndromo\n"
   ]
  },
  {
   "cell_type": "code",
   "execution_count": null,
   "id": "690a14dd",
   "metadata": {},
   "outputs": [],
   "source": [
    "def is_palindrome(s):\n",
    "    s = s.lower().replace(\" \", \"\")\n",
    "    return s == s[::-1]\n",
    "\n",
    "print(is_palindrome(\"A man a plan a canal Panama\"))  # Saída: True"
   ]
  },
  {
   "cell_type": "markdown",
   "id": "22ce77c8",
   "metadata": {},
   "source": [
    "\n",
    "#### Contagem de Palavras em uma String\n"
   ]
  },
  {
   "cell_type": "code",
   "execution_count": null,
   "id": "66f76e49",
   "metadata": {},
   "outputs": [],
   "source": [
    "def word_count(s):\n",
    "    words = s.split()\n",
    "    return len(words)\n",
    "\n",
    "print(word_count(\"Hello, World! This is Python.\"))  # Saída: 5"
   ]
  },
  {
   "cell_type": "markdown",
   "id": "6b6286cf",
   "metadata": {},
   "source": [
    "\n",
    "## Integer\n",
    "\n",
    "Os inteiros são um dos tipos de dados fundamentais em Python, usados para representar números inteiros sem partes fracionárias. Aqui está uma explicação teórica e detalhada sobre como trabalhar com inteiros em Python e as possíveis operações que você pode realizar com eles.\n",
    "\n",
    "### Definição e Criação de Inteiros\n",
    "\n",
    "Em Python, inteiros são definidos automaticamente quando você atribui um valor inteiro a uma variável. Não há necessidade de declarar o tipo da variável explicitamente.\n"
   ]
  },
  {
   "cell_type": "code",
   "execution_count": null,
   "id": "6eace756",
   "metadata": {},
   "outputs": [],
   "source": [
    "# Definindo inteiros\n",
    "a = 10\n",
    "b = -5\n",
    "c = 0"
   ]
  },
  {
   "cell_type": "markdown",
   "id": "11f8c76d",
   "metadata": {},
   "source": [
    "\n",
    "### Operações Aritméticas\n",
    "\n",
    "Python oferece uma gama de operações aritméticas básicas que podem ser realizadas em inteiros.\n",
    "\n",
    "#### Adição (`+`)\n",
    "\n",
    "Adiciona dois números.\n"
   ]
  },
  {
   "cell_type": "code",
   "execution_count": null,
   "id": "770a8494",
   "metadata": {},
   "outputs": [],
   "source": [
    "x = 5\n",
    "y = 3\n",
    "soma = x + y\n",
    "print(soma)  # Saída: 8"
   ]
  },
  {
   "cell_type": "markdown",
   "id": "4d187f9a",
   "metadata": {},
   "source": [
    "\n",
    "#### Subtração (`-`)\n",
    "\n",
    "Subtrai um número de outro.\n"
   ]
  },
  {
   "cell_type": "code",
   "execution_count": null,
   "id": "43db3b12",
   "metadata": {},
   "outputs": [],
   "source": [
    "diferenca = x - y\n",
    "print(diferenca)  # Saída: 2"
   ]
  },
  {
   "cell_type": "markdown",
   "id": "77a22e10",
   "metadata": {},
   "source": [
    "\n",
    "#### Multiplicação (`*`)\n",
    "\n",
    "Multiplica dois números.\n"
   ]
  },
  {
   "cell_type": "code",
   "execution_count": null,
   "id": "b0cf0b69",
   "metadata": {},
   "outputs": [],
   "source": [
    "produto = x * y\n",
    "print(produto)  # Saída: 15"
   ]
  },
  {
   "cell_type": "markdown",
   "id": "1775560b",
   "metadata": {},
   "source": [
    "\n",
    "#### Divisão (`/`)\n",
    "\n",
    "Divide um número pelo outro, retornando um número de ponto flutuante.\n"
   ]
  },
  {
   "cell_type": "code",
   "execution_count": null,
   "id": "f4215096",
   "metadata": {},
   "outputs": [],
   "source": [
    "divisao = x / y\n",
    "print(divisao)  # Saída: 1.6666666666666667"
   ]
  },
  {
   "cell_type": "markdown",
   "id": "fcc1e7b7",
   "metadata": {},
   "source": [
    "\n",
    "#### Divisão Inteira (`//`)\n",
    "\n",
    "Divide um número pelo outro, retornando apenas a parte inteira do quociente.\n"
   ]
  },
  {
   "cell_type": "code",
   "execution_count": null,
   "id": "9292ce31",
   "metadata": {},
   "outputs": [],
   "source": [
    "divisao_inteira = x // y\n",
    "print(divisao_inteira)  # Saída: 1"
   ]
  },
  {
   "cell_type": "markdown",
   "id": "5978376f",
   "metadata": {},
   "source": [
    "\n",
    "#### Módulo (`%`)\n",
    "\n",
    "Retorna o restante da divisão de um número pelo outro.\n"
   ]
  },
  {
   "cell_type": "code",
   "execution_count": null,
   "id": "671b3bab",
   "metadata": {},
   "outputs": [],
   "source": [
    "resto = x % y\n",
    "print(resto)  # Saída: 2"
   ]
  },
  {
   "cell_type": "markdown",
   "id": "bb2687f6",
   "metadata": {},
   "source": [
    "\n",
    "#### Exponenciação (`**`)\n",
    "\n",
    "Eleva um número à potência de outro.\n"
   ]
  },
  {
   "cell_type": "code",
   "execution_count": null,
   "id": "479d8ecf",
   "metadata": {},
   "outputs": [],
   "source": [
    "potencia = x ** y\n",
    "print(potencia)  # Saída: 125"
   ]
  },
  {
   "cell_type": "markdown",
   "id": "7a074cc8",
   "metadata": {},
   "source": [
    "\n",
    "### Operações de Atribuição\n",
    "\n",
    "Python oferece operadores de atribuição que combinam uma operação aritmética com a atribuição.\n"
   ]
  },
  {
   "cell_type": "code",
   "execution_count": null,
   "id": "b282508b",
   "metadata": {},
   "outputs": [],
   "source": [
    "a = 10\n",
    "a += 5  # Equivalente a a = a + 5\n",
    "print(a)  # Saída: 15\n",
    "\n",
    "a -= 3  # Equivalente a a = a - 3\n",
    "print(a)  # Saída: 12\n",
    "\n",
    "a *= 2  # Equivalente a a = a * 2\n",
    "print(a)  # Saída: 24\n",
    "\n",
    "a /= 4  # Equivalente a a = a / 4\n",
    "print(a)  # Saída: 6.0\n",
    "\n",
    "a //= 2  # Equivalente a a = a // 2\n",
    "print(a)  # Saída: 3.0\n",
    "\n",
    "a %= 2  # Equivalente a a = a % 2\n",
    "print(a)  # Saída: 1.0\n",
    "\n",
    "a **= 3  # Equivalente a a = a ** 3\n",
    "print(a)  # Saída: 1.0"
   ]
  },
  {
   "cell_type": "markdown",
   "id": "6dafe58c",
   "metadata": {},
   "source": [
    "\n",
    "### Operações de Comparação\n",
    "\n",
    "Python permite comparar inteiros usando operadores de comparação. Esses operadores retornam valores booleanos (`True` ou `False`).\n"
   ]
  },
  {
   "cell_type": "code",
   "execution_count": null,
   "id": "2b4b7f59",
   "metadata": {},
   "outputs": [],
   "source": [
    "x = 5\n",
    "y = 3\n",
    "\n",
    "print(x == y)  # Igual a (==), Saída: False\n",
    "print(x != y)  # Diferente de (!=), Saída: True\n",
    "print(x > y)   # Maior que (>), Saída: True\n",
    "print(x < y)   # Menor que (<), Saída: False\n",
    "print(x >= y)  # Maior ou igual a (>=), Saída: True\n",
    "print(x <= y)  # Menor ou igual a (<=), Saída: False"
   ]
  },
  {
   "cell_type": "markdown",
   "id": "f1ad95a2",
   "metadata": {},
   "source": [
    "\n",
    "### Funções Matemáticas Embutidas\n",
    "\n",
    "Python fornece várias funções embutidas para operações matemáticas comuns.\n",
    "\n",
    "#### `abs()`\n",
    "\n",
    "Retorna o valor absoluto de um número.\n"
   ]
  },
  {
   "cell_type": "code",
   "execution_count": null,
   "id": "c9b89e4d",
   "metadata": {},
   "outputs": [],
   "source": [
    "a = -10\n",
    "print(abs(a))  # Saída: 10"
   ]
  },
  {
   "cell_type": "markdown",
   "id": "2a441499",
   "metadata": {},
   "source": [
    "\n",
    "#### `pow()`\n",
    "\n",
    "Eleva um número a uma potência. Equivalente ao operador `**`.\n"
   ]
  },
  {
   "cell_type": "code",
   "execution_count": null,
   "id": "107b2137",
   "metadata": {},
   "outputs": [],
   "source": [
    "print(pow(2, 3))  # Saída: 8"
   ]
  },
  {
   "cell_type": "markdown",
   "id": "abe41058",
   "metadata": {},
   "source": [
    "\n",
    "#### `divmod()`\n",
    "\n",
    "Retorna uma tupla contendo o quociente e o resto da divisão.\n"
   ]
  },
  {
   "cell_type": "code",
   "execution_count": null,
   "id": "7140760f",
   "metadata": {},
   "outputs": [],
   "source": [
    "print(divmod(10, 3))  # Saída: (3, 1)"
   ]
  },
  {
   "cell_type": "markdown",
   "id": "861874bd",
   "metadata": {},
   "source": [
    "\n",
    "### Conversão de Tipos\n",
    "\n",
    "Você pode converter outros tipos de dados para inteiros usando a função `int()`.\n"
   ]
  },
  {
   "cell_type": "code",
   "execution_count": null,
   "id": "0e252562",
   "metadata": {},
   "outputs": [],
   "source": [
    "print(int(3.14))    # Converte float para int, Saída: 3\n",
    "print(int(\"10\"))    # Converte string para int, Saída: 10\n",
    "print(int(True))    # Converte booleano para int, Saída: 1\n",
    "print(int(False))   # Converte booleano para int, Saída: 0"
   ]
  },
  {
   "cell_type": "markdown",
   "id": "bbc204f2",
   "metadata": {},
   "source": [
    "\n",
    "### Representação Binária, Octal e Hexadecimal\n",
    "\n",
    "Você pode representar inteiros em diferentes bases numéricas.\n",
    "\n",
    "#### Binário\n"
   ]
  },
  {
   "cell_type": "code",
   "execution_count": null,
   "id": "4eaecaca",
   "metadata": {},
   "outputs": [],
   "source": [
    "binario = bin(10)\n",
    "print(binario)  # Saída: 0b1010"
   ]
  },
  {
   "cell_type": "markdown",
   "id": "65b66a5d",
   "metadata": {},
   "source": [
    "\n",
    "#### Octal\n"
   ]
  },
  {
   "cell_type": "code",
   "execution_count": null,
   "id": "bf234e7c",
   "metadata": {},
   "outputs": [],
   "source": [
    "octal = oct(10)\n",
    "print(octal)  # Saída: 0o12"
   ]
  },
  {
   "cell_type": "markdown",
   "id": "b31899aa",
   "metadata": {},
   "source": [
    "\n",
    "#### Hexadecimal\n"
   ]
  },
  {
   "cell_type": "code",
   "execution_count": null,
   "id": "00297995",
   "metadata": {},
   "outputs": [],
   "source": [
    "hexadecimal = hex(10)\n",
    "print(hexadecimal)  # Saída: 0xa"
   ]
  },
  {
   "cell_type": "markdown",
   "id": "7a54e376",
   "metadata": {},
   "source": [
    "\n",
    "### Geração de Números Aleatórios\n",
    "\n",
    "Para gerar números inteiros aleatórios, você pode usar o módulo `random`.\n"
   ]
  },
  {
   "cell_type": "code",
   "execution_count": null,
   "id": "6dbe1b8c",
   "metadata": {},
   "outputs": [],
   "source": [
    "import random\n",
    "\n",
    "aleatorio = random.randint(1, 100)  # Gera um número inteiro aleatório entre 1 e 100\n",
    "print(aleatorio)"
   ]
  },
  {
   "cell_type": "markdown",
   "id": "6e50f96c",
   "metadata": {},
   "source": [
    "\n",
    "## Float\n",
    "\n",
    "Floats, ou números de ponto flutuante, são usados para representar números com partes fracionárias em Python. Eles são uma parte essencial da linguagem e permitem uma ampla variedade de operações matemáticas e científicas. Aqui está uma explicação teórica e detalhada sobre como trabalhar com floats em Python e as possíveis operações que você pode realizar com eles.\n",
    "\n",
    "### Definição e Criação de Floats\n",
    "\n",
    "Em Python, floats são definidos automaticamente quando você atribui um valor decimal a uma variável. Não há necessidade de declarar o tipo da variável explicitamente.\n"
   ]
  },
  {
   "cell_type": "code",
   "execution_count": null,
   "id": "02d23968",
   "metadata": {},
   "outputs": [],
   "source": [
    "# Definindo floats\n",
    "a = 10.5\n",
    "b = -3.14\n",
    "c = 0.0"
   ]
  },
  {
   "cell_type": "markdown",
   "id": "743d1679",
   "metadata": {},
   "source": [
    "\n",
    "Você também pode criar floats usando a notação científica (ou notação exponencial).\n"
   ]
  },
  {
   "cell_type": "code",
   "execution_count": null,
   "id": "8ac20c80",
   "metadata": {},
   "outputs": [],
   "source": [
    "d = 1.23e4  # Equivalente a 1.23 * 10^4\n",
    "e = 4.56e-3 # Equivalente a 4.56 * 10^-3"
   ]
  },
  {
   "cell_type": "markdown",
   "id": "b6c13a9e",
   "metadata": {},
   "source": [
    "\n",
    "### Operações Aritméticas\n",
    "\n",
    "Python oferece uma gama de operações aritméticas básicas que podem ser realizadas em floats.\n",
    "\n",
    "#### Adição (`+`)\n",
    "\n",
    "Adiciona dois números.\n"
   ]
  },
  {
   "cell_type": "code",
   "execution_count": null,
   "id": "872aa9f5",
   "metadata": {},
   "outputs": [],
   "source": [
    "x = 5.5\n",
    "y = 3.2\n",
    "soma = x + y\n",
    "print(soma)  # Saída: 8.7"
   ]
  },
  {
   "cell_type": "markdown",
   "id": "c64fe950",
   "metadata": {},
   "source": [
    "\n",
    "#### Subtração (`-`)\n",
    "\n",
    "Subtrai um número de outro.\n"
   ]
  },
  {
   "cell_type": "code",
   "execution_count": null,
   "id": "10e017e2",
   "metadata": {},
   "outputs": [],
   "source": [
    "diferenca = x - y\n",
    "print(diferenca)  # Saída: 2.3"
   ]
  },
  {
   "cell_type": "markdown",
   "id": "5a08bb92",
   "metadata": {},
   "source": [
    "\n",
    "#### Multiplicação (`*`)\n",
    "\n",
    "Multiplica dois números.\n"
   ]
  },
  {
   "cell_type": "code",
   "execution_count": null,
   "id": "6c1f970c",
   "metadata": {},
   "outputs": [],
   "source": [
    "produto = x * y\n",
    "print(produto)  # Saída: 17.6"
   ]
  },
  {
   "cell_type": "markdown",
   "id": "0bb99f64",
   "metadata": {},
   "source": [
    "\n",
    "#### Divisão (`/`)\n",
    "\n",
    "Divide um número pelo outro.\n"
   ]
  },
  {
   "cell_type": "code",
   "execution_count": null,
   "id": "94d13a21",
   "metadata": {},
   "outputs": [],
   "source": [
    "divisao = x / y\n",
    "print(divisao)  # Saída: 1.71875"
   ]
  },
  {
   "cell_type": "markdown",
   "id": "19271e46",
   "metadata": {},
   "source": [
    "\n",
    "#### Divisão Inteira (`//`)\n",
    "\n",
    "Divide um número pelo outro, retornando apenas a parte inteira do quociente.\n"
   ]
  },
  {
   "cell_type": "code",
   "execution_count": null,
   "id": "ed5d75ba",
   "metadata": {},
   "outputs": [],
   "source": [
    "divisao_inteira = x // y\n",
    "print(divisao_inteira)  # Saída: 1.0"
   ]
  },
  {
   "cell_type": "markdown",
   "id": "89428186",
   "metadata": {},
   "source": [
    "\n",
    "#### Módulo (`%`)\n",
    "\n",
    "Retorna o restante da divisão de um número pelo outro.\n"
   ]
  },
  {
   "cell_type": "code",
   "execution_count": null,
   "id": "473688fa",
   "metadata": {},
   "outputs": [],
   "source": [
    "resto = x % y\n",
    "print(resto)  # Saída: 2.3"
   ]
  },
  {
   "cell_type": "markdown",
   "id": "0fd25a25",
   "metadata": {},
   "source": [
    "\n",
    "#### Exponenciação (`**`)\n",
    "\n",
    "Eleva um número à potência de outro.\n"
   ]
  },
  {
   "cell_type": "code",
   "execution_count": null,
   "id": "a19f2e25",
   "metadata": {},
   "outputs": [],
   "source": [
    "potencia = x ** y\n",
    "print(potencia)  # Saída: 279.8416377442883"
   ]
  },
  {
   "cell_type": "markdown",
   "id": "d0f323e7",
   "metadata": {},
   "source": [
    "\n",
    "### Operações de Atribuição\n",
    "\n",
    "Python oferece operadores de atribuição que combinam uma operação aritmética com a atribuição.\n"
   ]
  },
  {
   "cell_type": "code",
   "execution_count": null,
   "id": "bb997399",
   "metadata": {},
   "outputs": [],
   "source": [
    "a = 10.5\n",
    "a += 2.5  # Equivalente a a = a + 2.5\n",
    "print(a)  # Saída: 13.0\n",
    "\n",
    "a -= 1.5  # Equivalente a a = a - 1.5\n",
    "print(a)  # Saída: 11.5\n",
    "\n",
    "a *= 2  # Equivalente a a = a * 2\n",
    "print(a)  # Saída: 23.0\n",
    "\n",
    "a /= 2  # Equivalente a a = a / 2\n",
    "print(a)  # Saída: 11.5\n",
    "\n",
    "a //= 2  # Equivalente a a = a // 2\n",
    "print(a)  # Saída: 5.0\n",
    "\n",
    "a %= 2  # Equivalente a a = a % 2\n",
    "print(a)  # Saída: 1.0\n",
    "\n",
    "a **= 2  # Equivalente a a = a ** 2\n",
    "print(a)  # Saída: 1.0"
   ]
  },
  {
   "cell_type": "markdown",
   "id": "caba91ed",
   "metadata": {},
   "source": [
    "\n",
    "### Operações de Comparação\n",
    "\n",
    "Python permite comparar floats usando operadores de comparação. Esses operadores retornam valores booleanos (`True` ou `False`).\n"
   ]
  },
  {
   "cell_type": "code",
   "execution_count": null,
   "id": "8e9eb0f0",
   "metadata": {},
   "outputs": [],
   "source": [
    "x = 5.5\n",
    "y = 3.2\n",
    "\n",
    "print(x == y)  # Igual a (==), Saída: False\n",
    "print(x != y)  # Diferente de (!=), Saída: True\n",
    "print(x > y)   # Maior que (>), Saída: True\n",
    "print(x < y)   # Menor que (<), Saída: False\n",
    "print(x >= y)  # Maior ou igual a (>=), Saída: True\n",
    "print(x <= y)  # Menor ou igual a (<=), Saída: False"
   ]
  },
  {
   "cell_type": "markdown",
   "id": "84f6575e",
   "metadata": {},
   "source": [
    "\n",
    "### Funções Matemáticas Embutidas\n",
    "\n",
    "Python fornece várias funções embutidas e no módulo `math` para operações matemáticas comuns com floats.\n",
    "\n",
    "#### `abs()`\n",
    "\n",
    "Retorna o valor absoluto de um número.\n"
   ]
  },
  {
   "cell_type": "code",
   "execution_count": null,
   "id": "7ac4b55d",
   "metadata": {},
   "outputs": [],
   "source": [
    "a = -10.5\n",
    "print(abs(a))  # Saída: 10.5"
   ]
  },
  {
   "cell_type": "markdown",
   "id": "70b7b699",
   "metadata": {},
   "source": [
    "\n",
    "#### `round()`\n",
    "\n",
    "Arredonda um número para um número específico de dígitos.\n"
   ]
  },
  {
   "cell_type": "code",
   "execution_count": null,
   "id": "aa1f9be6",
   "metadata": {},
   "outputs": [],
   "source": [
    "a = 5.678\n",
    "print(round(a, 2))  # Saída: 5.68"
   ]
  },
  {
   "cell_type": "markdown",
   "id": "f9e58a46",
   "metadata": {},
   "source": [
    "\n",
    "#### `math.floor()`\n",
    "\n",
    "Arredonda um número para baixo para o inteiro mais próximo.\n"
   ]
  },
  {
   "cell_type": "code",
   "execution_count": null,
   "id": "2524a91d",
   "metadata": {},
   "outputs": [],
   "source": [
    "import math\n",
    "print(math.floor(3.7))  # Saída: 3"
   ]
  },
  {
   "cell_type": "markdown",
   "id": "0492b35f",
   "metadata": {},
   "source": [
    "\n",
    "#### `math.ceil()`\n",
    "\n",
    "Arredonda um número para cima para o inteiro mais próximo.\n"
   ]
  },
  {
   "cell_type": "code",
   "execution_count": null,
   "id": "74299946",
   "metadata": {},
   "outputs": [],
   "source": [
    "print(math.ceil(3.2))  # Saída: 4"
   ]
  },
  {
   "cell_type": "markdown",
   "id": "73bc9578",
   "metadata": {},
   "source": [
    "\n",
    "#### `math.sqrt()`\n",
    "\n",
    "Retorna a raiz quadrada de um número.\n"
   ]
  },
  {
   "cell_type": "code",
   "execution_count": null,
   "id": "e7b6966e",
   "metadata": {},
   "outputs": [],
   "source": [
    "print(math.sqrt(16))  # Saída: 4.0"
   ]
  },
  {
   "cell_type": "markdown",
   "id": "a542a8c0",
   "metadata": {},
   "source": [
    "\n",
    "### Conversão de Tipos\n",
    "\n",
    "Você pode converter outros tipos de dados para floats usando a função `float()`.\n"
   ]
  },
  {
   "cell_type": "code",
   "execution_count": null,
   "id": "00d82de3",
   "metadata": {},
   "outputs": [],
   "source": [
    "print(float(5))      # Converte int para float, Saída: 5.0\n",
    "print(float(\"3.14\")) # Converte string para float, Saída: 3.14"
   ]
  },
  {
   "cell_type": "markdown",
   "id": "03f3f008",
   "metadata": {},
   "source": [
    "\n",
    "### Geração de Números Aleatórios\n",
    "\n",
    "Para gerar números de ponto flutuante aleatórios, você pode usar o módulo `random`.\n"
   ]
  },
  {
   "cell_type": "code",
   "execution_count": null,
   "id": "aeb26169",
   "metadata": {},
   "outputs": [],
   "source": [
    "import random\n",
    "\n",
    "aleatorio = random.uniform(1.0, 10.0)  # Gera um número float aleatório entre 1.0 e 10.0\n",
    "print(aleatorio)"
   ]
  },
  {
   "cell_type": "markdown",
   "id": "c66b242b",
   "metadata": {},
   "source": [
    "\n",
    "### Tratamento de Erros em Operações com Floats\n",
    "\n",
    "Floats podem introduzir erros de precisão devido à sua representação interna em binário. É importante estar ciente dessas limitações ao trabalhar com floats.\n",
    "\n",
    "##### Comparação com Tolerância\n",
    "\n",
    "Ao comparar floats, é recomendável usar uma tolerância para considerar pequenas diferenças.\n"
   ]
  },
  {
   "cell_type": "code",
   "execution_count": null,
   "id": "4a7c47b4",
   "metadata": {},
   "outputs": [],
   "source": [
    "a = 0.1 + 0.2\n",
    "b = 0.3\n",
    "tolerancia = 1e-9\n",
    "\n",
    "print(\"a: {:.20f}\".format(a))  # Saída: a: 0.30000000000000004441\n",
    "print(\"tolerancia: {:.20f}\".format(tolerancia))  # Saída: b: 0.00000000100000000000\n",
    "print(\"abs(a - b): {:.20f}\".format(abs(a - b)))  # Saída: b: 0.00000000000000005551\n",
    "print(abs(a - b) < tolerancia)  # Saída: True"
   ]
  },
  {
   "cell_type": "markdown",
   "id": "45a92b16",
   "metadata": {},
   "source": [
    "\n",
    "## Boolean\n",
    "\n",
    "Os booleanos são um tipo de dado fundamental em Python, representando valores de verdade: `True` e `False`. Eles são essenciais para controle de fluxo em programas, como condicionais e loops, e para expressar resultados de comparações lógicas. Aqui está uma explicação teórica e detalhada sobre como trabalhar com booleanos em Python e as possíveis operações que você pode realizar com eles.\n",
    "\n",
    "### Definição e Criação de Booleanos\n",
    "\n",
    "Em Python, os valores booleanos são representados pelas palavras-chave `True` e `False`. Eles podem ser atribuídos a variáveis da seguinte forma:\n"
   ]
  },
  {
   "cell_type": "code",
   "execution_count": null,
   "id": "8c4843bc",
   "metadata": {},
   "outputs": [],
   "source": [
    "verdadeiro = True\n",
    "falso = False"
   ]
  },
  {
   "cell_type": "markdown",
   "id": "bd7f39a1",
   "metadata": {},
   "source": [
    "\n",
    "Os booleanos são frequentemente o resultado de expressões de comparação ou operações lógicas.\n",
    "\n",
    "### Operações de Comparação\n",
    "\n",
    "Python permite comparar valores usando operadores de comparação, que retornam booleanos.\n",
    "\n",
    "#### Igualdade (`==`)\n",
    "\n",
    "Verifica se dois valores são iguais.\n"
   ]
  },
  {
   "cell_type": "code",
   "execution_count": null,
   "id": "3744d443",
   "metadata": {},
   "outputs": [],
   "source": [
    "a = 5\n",
    "b = 3\n",
    "print(a == b)  # Saída: False\n",
    "print(a == 5)  # Saída: True"
   ]
  },
  {
   "cell_type": "markdown",
   "id": "c5653b37",
   "metadata": {},
   "source": [
    "\n",
    "#### Diferença (`!=`)\n",
    "\n",
    "Verifica se dois valores são diferentes.\n"
   ]
  },
  {
   "cell_type": "code",
   "execution_count": null,
   "id": "fc1858e5",
   "metadata": {},
   "outputs": [],
   "source": [
    "print(a != b)  # Saída: True\n",
    "print(a != 5)  # Saída: False"
   ]
  },
  {
   "cell_type": "markdown",
   "id": "063e02a6",
   "metadata": {},
   "source": [
    "\n",
    "#### Maior que (`>`)\n",
    "\n",
    "Verifica se um valor é maior que o outro.\n"
   ]
  },
  {
   "cell_type": "code",
   "execution_count": null,
   "id": "f11062a6",
   "metadata": {},
   "outputs": [],
   "source": [
    "print(a > b)   # Saída: True\n",
    "print(a > 5)   # Saída: False"
   ]
  },
  {
   "cell_type": "markdown",
   "id": "ba330269",
   "metadata": {},
   "source": [
    "\n",
    "#### Menor que (`<`)\n",
    "\n",
    "Verifica se um valor é menor que o outro.\n"
   ]
  },
  {
   "cell_type": "code",
   "execution_count": null,
   "id": "917a4449",
   "metadata": {},
   "outputs": [],
   "source": [
    "print(a < b)   # Saída: False\n",
    "print(a < 10)  # Saída: True"
   ]
  },
  {
   "cell_type": "markdown",
   "id": "cedc70b2",
   "metadata": {},
   "source": [
    "\n",
    "#### Maior ou igual a (`>=`)\n",
    "\n",
    "Verifica se um valor é maior ou igual ao outro.\n"
   ]
  },
  {
   "cell_type": "code",
   "execution_count": null,
   "id": "9ffd50cf",
   "metadata": {},
   "outputs": [],
   "source": [
    "print(a >= b)  # Saída: True\n",
    "print(a >= 5)  # Saída: True"
   ]
  },
  {
   "cell_type": "markdown",
   "id": "b511c658",
   "metadata": {},
   "source": [
    "\n",
    "#### Menor ou igual a (`<=`)\n",
    "\n",
    "Verifica se um valor é menor ou igual ao outro.\n"
   ]
  },
  {
   "cell_type": "code",
   "execution_count": null,
   "id": "ea3a2351",
   "metadata": {},
   "outputs": [],
   "source": [
    "print(a <= b)  # Saída: False\n",
    "print(a <= 5)  # Saída: True"
   ]
  },
  {
   "cell_type": "markdown",
   "id": "f299e6bb",
   "metadata": {},
   "source": [
    "\n",
    "### Operações Lógicas\n",
    "\n",
    "Python oferece operadores lógicos para combinar expressões booleanas.\n",
    "\n",
    "#### E (`and`)\n",
    "\n",
    "Retorna `True` se ambas as expressões forem verdadeiras.\n"
   ]
  },
  {
   "cell_type": "code",
   "execution_count": null,
   "id": "0f1aa812",
   "metadata": {},
   "outputs": [],
   "source": [
    "x = True\n",
    "y = False\n",
    "print(x and y)  # Saída: False\n",
    "print(x and not y)  # Saída: True"
   ]
  },
  {
   "cell_type": "markdown",
   "id": "328f690f",
   "metadata": {},
   "source": [
    "\n",
    "#### Ou (`or`)\n",
    "\n",
    "Retorna `True` se pelo menos uma das expressões for verdadeira.\n"
   ]
  },
  {
   "cell_type": "code",
   "execution_count": null,
   "id": "2404b014",
   "metadata": {},
   "outputs": [],
   "source": [
    "print(x or y)  # Saída: True\n",
    "print(y or y)  # Saída: False"
   ]
  },
  {
   "cell_type": "markdown",
   "id": "eaf7bad3",
   "metadata": {},
   "source": [
    "\n",
    "#### Não (`not`)\n",
    "\n",
    "Inverte o valor de verdade de uma expressão.\n"
   ]
  },
  {
   "cell_type": "code",
   "execution_count": null,
   "id": "746acc54",
   "metadata": {},
   "outputs": [],
   "source": [
    "print(not x)  # Saída: False\n",
    "print(not y)  # Saída: True"
   ]
  },
  {
   "cell_type": "markdown",
   "id": "ab294135",
   "metadata": {},
   "source": [
    "\n",
    "### Funções Booleanas Embutidas\n",
    "\n",
    "Python fornece algumas funções embutidas úteis para trabalhar com booleanos.\n",
    "\n",
    "#### `bool()`\n",
    "\n",
    "Converte um valor para seu equivalente booleano.\n"
   ]
  },
  {
   "cell_type": "code",
   "execution_count": null,
   "id": "02855c1c",
   "metadata": {},
   "outputs": [],
   "source": [
    "print(bool(0))      # Saída: False\n",
    "print(bool(1))      # Saída: True\n",
    "print(bool(\"\"))     # Saída: False\n",
    "print(bool(\"Python\"))  # Saída: True"
   ]
  },
  {
   "cell_type": "markdown",
   "id": "5a56c259",
   "metadata": {},
   "source": [
    "\n",
    "#### `any()`\n",
    "\n",
    "Retorna `True` se pelo menos um dos elementos do iterável for verdadeiro.\n"
   ]
  },
  {
   "cell_type": "code",
   "execution_count": null,
   "id": "f3d34189",
   "metadata": {},
   "outputs": [],
   "source": [
    "print(any([False, False, True]))  # Saída: True\n",
    "print(any([False, False, False]))  # Saída: False"
   ]
  },
  {
   "cell_type": "markdown",
   "id": "91aa4b4e",
   "metadata": {},
   "source": [
    "\n",
    "#### `all()`\n",
    "\n",
    "Retorna `True` se todos os elementos do iterável forem verdadeiros.\n"
   ]
  },
  {
   "cell_type": "code",
   "execution_count": null,
   "id": "96783d69",
   "metadata": {},
   "outputs": [],
   "source": [
    "print(all([True, True, True]))  # Saída: True\n",
    "print(all([True, False, True]))  # Saída: False"
   ]
  },
  {
   "cell_type": "markdown",
   "id": "838d7d4c",
   "metadata": {},
   "source": [
    "\n",
    "### Uso de Booleanos em Condicionais\n",
    "\n",
    "Os booleanos são fundamentais para estruturas de controle de fluxo, como condicionais e loops.\n",
    "\n",
    "#### `if` e `else`\n"
   ]
  },
  {
   "cell_type": "code",
   "execution_count": null,
   "id": "0e31e9bd",
   "metadata": {},
   "outputs": [],
   "source": [
    "a = 10\n",
    "b = 5\n",
    "\n",
    "if a > b:\n",
    "    print(\"a é maior que b\")\n",
    "else:\n",
    "    print(\"a não é maior que b\")"
   ]
  },
  {
   "cell_type": "markdown",
   "id": "1a93ac3d",
   "metadata": {},
   "source": [
    "\n",
    "#### `elif`\n"
   ]
  },
  {
   "cell_type": "code",
   "execution_count": null,
   "id": "2ca081c8",
   "metadata": {},
   "outputs": [],
   "source": [
    "a = 10\n",
    "b = 10\n",
    "\n",
    "if a > b:\n",
    "    print(\"a é maior que b\")\n",
    "elif a == b:\n",
    "    print(\"a é igual a b\")\n",
    "else:\n",
    "    print(\"a é menor que b\")"
   ]
  },
  {
   "cell_type": "markdown",
   "id": "504ec307",
   "metadata": {},
   "source": [
    "\n",
    "### Uso de Booleanos em Loops\n",
    "\n",
    "#### `while`\n"
   ]
  },
  {
   "cell_type": "code",
   "execution_count": null,
   "id": "ac0d474d",
   "metadata": {},
   "outputs": [],
   "source": [
    "count = 0\n",
    "\n",
    "while count < 5:\n",
    "    print(count)\n",
    "    count += 1"
   ]
  },
  {
   "cell_type": "markdown",
   "id": "f521e7f4",
   "metadata": {},
   "source": [
    "\n",
    "### Booleanos e Estruturas de Dados\n",
    "\n",
    "Python considera vários valores como `False` em um contexto booleano, incluindo:\n",
    "\n",
    "- `None`\n",
    "- `False`\n",
    "- Zero de qualquer tipo: `0`, `0.0`, `0j`\n",
    "- Sequências e coleções vazias: `''`, `()`, `[]`, `{}`, `set()`\n",
    "\n",
    "Todos os outros valores são considerados `True`.\n",
    "\n",
    "### Comparações Múltiplas\n",
    "\n",
    "Python permite encadear comparações para expressões mais concisas.\n"
   ]
  },
  {
   "cell_type": "code",
   "execution_count": null,
   "id": "53070d48",
   "metadata": {},
   "outputs": [],
   "source": [
    "a = 5\n",
    "print(1 < a < 10)  # Saída: True\n",
    "print(10 < a < 20)  # Saída: False"
   ]
  },
  {
   "cell_type": "markdown",
   "id": "5c24df1f",
   "metadata": {},
   "source": []
  }
 ],
 "metadata": {},
 "nbformat": 4,
 "nbformat_minor": 5
}
