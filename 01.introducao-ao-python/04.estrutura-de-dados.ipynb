{
 "cells": [
  {
   "cell_type": "markdown",
   "id": "9482a42a",
   "metadata": {},
   "source": [
    "### Estruturas de Dados em Python: Listas, Conjuntos e Dicionários\n",
    "\n",
    "Python oferece várias estruturas de dados embutidas que facilitam a manipulação e organização de dados. As três estruturas de dados mais comuns são listas, conjuntos e dicionários.\n",
    "\n",
    "### 1. Listas\n",
    "\n",
    "Listas são coleções ordenadas e mutáveis de elementos que permitem duplicatas. Elas são uma das estruturas de dados mais utilizadas em Python devido à sua flexibilidade.\n",
    "\n",
    "#### Criação de Listas\n",
    "\n",
    "Criar listas usando colchetes `[]` ou a função `list()`.\n"
   ]
  },
  {
   "cell_type": "code",
   "execution_count": null,
   "id": "957efa55",
   "metadata": {},
   "outputs": [],
   "source": [
    "# Criando uma lista vazia\n",
    "lista_vazia = []\n",
    "\n",
    "# Criando uma lista com elementos\n",
    "frutas = [\"maçã\", \"banana\", \"laranja\"]\n",
    "\n",
    "# Usando a função list()\n",
    "outra_lista = list([1, 2, 3])"
   ]
  },
  {
   "cell_type": "markdown",
   "id": "87c3ebf7",
   "metadata": {},
   "source": [
    "\n",
    "#### Acessando Elementos\n",
    "\n",
    "Os elementos em uma lista podem ser acessados usando índices, começando do zero. Índices negativos acessam elementos a partir do final da lista.\n"
   ]
  },
  {
   "cell_type": "code",
   "execution_count": null,
   "id": "6f3ce5a4",
   "metadata": {},
   "outputs": [],
   "source": [
    "print(frutas[0])  # Saída: maçã\n",
    "print(frutas[2])  # Saída: laranja\n",
    "print(frutas[-1]) # Saída: laranja"
   ]
  },
  {
   "cell_type": "markdown",
   "id": "b7948d16",
   "metadata": {},
   "source": [
    "\n",
    "#### Modificando Elementos\n",
    "\n",
    "Listas são mutáveis, o que significa que você pode alterar os elementos após a criação da lista.\n"
   ]
  },
  {
   "cell_type": "code",
   "execution_count": null,
   "id": "12f20761",
   "metadata": {},
   "outputs": [],
   "source": [
    "frutas[1] = \"manga\"\n",
    "print(frutas)  # Saída: ['maçã', 'manga', 'laranja']"
   ]
  },
  {
   "cell_type": "markdown",
   "id": "afb41abc",
   "metadata": {},
   "source": [
    "\n",
    "#### Adicionando e Removendo Elementos\n",
    "\n",
    "Você pode adicionar elementos a uma lista usando `append()`, `insert()` e `extend()`. Para remover elementos, use `remove()`, `pop()` e `del`.\n"
   ]
  },
  {
   "cell_type": "code",
   "execution_count": null,
   "id": "fd789c3b",
   "metadata": {},
   "outputs": [],
   "source": [
    "# Adicionando elementos\n",
    "frutas.append(\"uva\")\n",
    "print(frutas)  # Saída: ['maçã', 'manga', 'laranja', 'uva']\n",
    "\n",
    "# Inserindo elementos em uma posição específica\n",
    "frutas.insert(1, \"abacaxi\")\n",
    "print(frutas)  # Saída: ['maçã', 'abacaxi', 'manga', 'laranja', 'uva']\n",
    "\n",
    "# Removendo elementos\n",
    "frutas.remove(\"maçã\")\n",
    "print(frutas)  # Saída: ['abacaxi', 'manga', 'laranja', 'uva']\n",
    "\n",
    "# Removendo o último elemento\n",
    "frutas.pop()\n",
    "print(frutas)  # Saída: ['abacaxi', 'manga', 'laranja']\n",
    "\n",
    "# Removendo por índice\n",
    "del frutas[0]\n",
    "print(frutas)  # Saída: ['manga', 'laranja']"
   ]
  },
  {
   "cell_type": "markdown",
   "id": "db1fc805",
   "metadata": {},
   "source": [
    "\n",
    "#### Iterando sobre Listas\n",
    "\n",
    "Você pode iterar sobre os elementos de uma lista usando um loop `for`.\n"
   ]
  },
  {
   "cell_type": "code",
   "execution_count": null,
   "id": "aff603cb",
   "metadata": {},
   "outputs": [],
   "source": [
    "for fruta in frutas:\n",
    "    print(fruta)"
   ]
  },
  {
   "cell_type": "markdown",
   "id": "b16514f2",
   "metadata": {},
   "source": [
    "\n",
    "#### List Comprehensions\n",
    "\n",
    "List comprehensions oferecem uma maneira concisa e legível de criar listas.\n"
   ]
  },
  {
   "cell_type": "code",
   "execution_count": null,
   "id": "c32d5e2c",
   "metadata": {},
   "outputs": [],
   "source": [
    "quadrados = [x**2 for x in range(10)]\n",
    "print(quadrados)  # Saída: [0, 1, 4, 9, 16, 25, 36, 49, 64, 81]"
   ]
  },
  {
   "cell_type": "markdown",
   "id": "91761cb7",
   "metadata": {},
   "source": [
    "\n",
    "#### Métodos Comuns de Listas\n",
    "\n",
    "- `append(x)`: Adiciona um item ao final da lista.\n",
    "- `insert(i, x)`: Insere um item na posição especificada.\n",
    "- `remove(x)`: Remove a primeira ocorrência do item.\n",
    "- `pop([i])`: Remove e retorna o item na posição especificada (ou o último item se não especificado).\n",
    "- `sort()`: Ordena a lista.\n",
    "- `reverse()`: Inverte a ordem dos elementos na lista.\n",
    "- `extend(iterable)`: Adiciona todos os elementos de um iterável ao final da lista.\n",
    "\n",
    "### 2. Conjuntos\n",
    "\n",
    "Conjuntos são coleções desordenadas de elementos únicos. Eles são úteis para eliminar duplicatas e realizar operações matemáticas como união e interseção.\n",
    "\n",
    "#### Criação de Conjuntos\n",
    "\n",
    "Criar conjuntos usando chaves `{}` ou a função `set()`.\n"
   ]
  },
  {
   "cell_type": "code",
   "execution_count": null,
   "id": "c23feab4",
   "metadata": {},
   "outputs": [],
   "source": [
    "# Criando um conjunto vazio\n",
    "conjunto_vazio = set()\n",
    "\n",
    "# Criando um conjunto com elementos\n",
    "numeros = {1, 2, 3, 4, 5}\n",
    "\n",
    "# Usando a função set()\n",
    "outro_conjunto = set([1, 2, 2, 3, 4])\n",
    "print(outro_conjunto)  # Saída: {1, 2, 3, 4}"
   ]
  },
  {
   "cell_type": "markdown",
   "id": "8fdf5a0b",
   "metadata": {},
   "source": [
    "\n",
    "#### Adicionando e Removendo Elementos\n",
    "\n",
    "Adicionar elementos a um conjunto usando `add()` e remover elementos usando `remove()` ou `discard()`.\n"
   ]
  },
  {
   "cell_type": "code",
   "execution_count": null,
   "id": "0ec2f59f",
   "metadata": {},
   "outputs": [],
   "source": [
    "# Adicionando elementos\n",
    "numeros.add(6)\n",
    "print(numeros)  # Saída: {1, 2, 3, 4, 5, 6}\n",
    "\n",
    "# Removendo elementos\n",
    "numeros.remove(3)\n",
    "print(numeros)  # Saída: {1, 2, 4, 5, 6}\n",
    "\n",
    "# Tentando remover um elemento que não existe\n",
    "numeros.discard(10)  # Não gera erro"
   ]
  },
  {
   "cell_type": "markdown",
   "id": "2fa9b5fc",
   "metadata": {},
   "source": [
    "\n",
    "#### Operações com Conjuntos\n",
    "\n",
    "Conjuntos suportam várias operações matemáticas.\n"
   ]
  },
  {
   "cell_type": "code",
   "execution_count": null,
   "id": "da6015be",
   "metadata": {},
   "outputs": [],
   "source": [
    "a = {1, 2, 3}\n",
    "b = {3, 4, 5}\n",
    "\n",
    "# União\n",
    "print(a | b)  # Saída: {1, 2, 3, 4, 5}\n",
    "\n",
    "# Interseção\n",
    "print(a & b)  # Saída: {3}\n",
    "\n",
    "# Diferença\n",
    "print(a - b)  # Saída: {1, 2}\n",
    "\n",
    "# Diferença simétrica\n",
    "print(a ^ b)  # Saída: {1, 2, 4, 5}"
   ]
  },
  {
   "cell_type": "markdown",
   "id": "d455469b",
   "metadata": {},
   "source": [
    "\n",
    "#### Iterando sobre Conjuntos\n",
    "\n",
    "Para iterar sobre os elementos de um conjunto usando um loop `for`.\n"
   ]
  },
  {
   "cell_type": "code",
   "execution_count": null,
   "id": "c604badd",
   "metadata": {},
   "outputs": [],
   "source": [
    "for numero in numeros:\n",
    "    print(numero)"
   ]
  },
  {
   "cell_type": "markdown",
   "id": "b130d1f5",
   "metadata": {},
   "source": [
    "\n",
    "#### Métodos Comuns de Conjuntos\n",
    "\n",
    "- `add(x)`: Adiciona um item ao conjunto.\n",
    "- `remove(x)`: Remove um item do conjunto. Levanta `KeyError` se o item não estiver presente.\n",
    "- `discard(x)`: Remove um item do conjunto, se ele estiver presente.\n",
    "- `pop()`: Remove e retorna um item arbitrário do conjunto.\n",
    "- `clear()`: Remove todos os itens do conjunto.\n",
    "- `union(*others)`: Retorna a união de conjuntos.\n",
    "- `intersection(*others)`: Retorna a interseção de conjuntos.\n",
    "- `difference(*others)`: Retorna a diferença de conjuntos.\n",
    "- `symmetric_difference(other)`: Retorna a diferença simétrica de conjuntos.\n",
    "\n",
    "### 3. Tuplas\n",
    "\n",
    "Tuplas são uma estrutura de dados fundamental em Python. Elas são semelhantes às listas, mas possuem características únicas que as tornam úteis em diferentes contextos. Aqui está uma explicação teórica e detalhada sobre tuplas, suas operações e usos comuns.\n",
    "\n",
    "#### Definição e Criação de Tuplas\n",
    "\n",
    "Uma tupla é uma coleção ordenada e imutável de elementos. Diferente das listas, as tuplas não podem ser modificadas após serem criadas, o que as torna úteis para armazenar dados que não devem ser alterados.\n",
    "\n",
    "##### Criando Tuplas\n",
    "\n",
    "Tuplas são definidas usando parênteses `()` e podem conter elementos de tipos diferentes.\n"
   ]
  },
  {
   "cell_type": "code",
   "execution_count": null,
   "id": "f09d33f7",
   "metadata": {},
   "outputs": [],
   "source": [
    "# Tupla vazia\n",
    "tupla_vazia = ()\n",
    "\n",
    "# Tupla com um único elemento (note a vírgula)\n",
    "tupla_unico = (1,)\n",
    "\n",
    "# Tupla com múltiplos elementos\n",
    "tupla_multiplos = (1, 2, 3, \"Python\", [4, 5, 6])"
   ]
  },
  {
   "cell_type": "markdown",
   "id": "79284b7b",
   "metadata": {},
   "source": [
    "\n",
    "##### Sem Parênteses\n",
    "\n",
    "Tuplas também podem ser criadas sem parênteses, apenas separando os elementos por vírgulas.\n"
   ]
  },
  {
   "cell_type": "code",
   "execution_count": null,
   "id": "bc049329",
   "metadata": {},
   "outputs": [],
   "source": [
    "tupla_sem_parenteses = 1, 2, 3"
   ]
  },
  {
   "cell_type": "markdown",
   "id": "521bd851",
   "metadata": {},
   "source": [
    "\n",
    "#### Acessando Elementos em uma Tupla\n",
    "\n",
    "Os elementos em uma tupla podem ser acessados usando índices, começando do zero.\n"
   ]
  },
  {
   "cell_type": "code",
   "execution_count": null,
   "id": "761430a3",
   "metadata": {},
   "outputs": [],
   "source": [
    "tupla = (10, 20, 30, 40, 50)\n",
    "print(tupla[0])  # Saída: 10\n",
    "print(tupla[3])  # Saída: 40"
   ]
  },
  {
   "cell_type": "markdown",
   "id": "2a9ae885",
   "metadata": {},
   "source": [
    "\n",
    "#### Fatiamento (Slicing)\n",
    "\n",
    "Assim como as listas, as tuplas suportam fatiamento para acessar subsequências.\n"
   ]
  },
  {
   "cell_type": "code",
   "execution_count": null,
   "id": "77bd61e2",
   "metadata": {},
   "outputs": [],
   "source": [
    "tupla = (10, 20, 30, 40, 50)\n",
    "print(tupla[1:4])  # Saída: (20, 30, 40)\n",
    "print(tupla[:3])   # Saída: (10, 20, 30)\n",
    "print(tupla[::2])  # Saída: (10, 30, 50)"
   ]
  },
  {
   "cell_type": "markdown",
   "id": "6791b293",
   "metadata": {},
   "source": [
    "\n",
    "#### Imutabilidade das Tuplas\n",
    "\n",
    "Uma das principais características das tuplas é a imutabilidade. Uma vez criada, uma tupla não pode ser modificada (adicionar, remover ou alterar elementos).\n"
   ]
  },
  {
   "cell_type": "code",
   "execution_count": null,
   "id": "b9bb854b",
   "metadata": {},
   "outputs": [],
   "source": [
    "tupla = (10, 20, 30)\n",
    "# tupla[1] = 40  # Isso gera um erro, pois tuplas são imutáveis"
   ]
  },
  {
   "cell_type": "markdown",
   "id": "6fac16c3",
   "metadata": {},
   "source": [
    "\n",
    "#### Operações Comuns com Tuplas\n",
    "\n",
    "##### Concatenação e Repetição\n",
    "\n",
    "Tuplas podem ser concatenadas e repetidas usando os operadores `+` e `*`, respectivamente.\n"
   ]
  },
  {
   "cell_type": "code",
   "execution_count": null,
   "id": "4366bd4b",
   "metadata": {},
   "outputs": [],
   "source": [
    "tupla1 = (1, 2, 3)\n",
    "tupla2 = (4, 5, 6)\n",
    "concatenada = tupla1 + tupla2\n",
    "print(concatenada)  # Saída: (1, 2, 3, 4, 5, 6)\n",
    "\n",
    "repetida = tupla1 * 3\n",
    "print(repetida)  # Saída: (1, 2, 3, 1, 2, 3, 1, 2, 3)"
   ]
  },
  {
   "cell_type": "markdown",
   "id": "c61ab302",
   "metadata": {},
   "source": [
    "\n",
    "##### Verificação de Pertinência\n",
    "\n",
    "Você pode verificar se um elemento está presente em uma tupla usando o operador `in`.\n"
   ]
  },
  {
   "cell_type": "code",
   "execution_count": null,
   "id": "6d284987",
   "metadata": {},
   "outputs": [],
   "source": [
    "tupla = (1, 2, 3, 4, 5)\n",
    "print(3 in tupla)  # Saída: True\n",
    "print(6 in tupla)  # Saída: False"
   ]
  },
  {
   "cell_type": "markdown",
   "id": "d34d382e",
   "metadata": {},
   "source": [
    "\n",
    "##### Descompactação (Unpacking)\n",
    "\n",
    "Tuplas podem ser descompactadas em variáveis individuais.\n"
   ]
  },
  {
   "cell_type": "code",
   "execution_count": null,
   "id": "82054abf",
   "metadata": {},
   "outputs": [],
   "source": [
    "tupla = (10, 20, 30)\n",
    "a, b, c = tupla\n",
    "print(a)  # Saída: 10\n",
    "print(b)  # Saída: 20\n",
    "print(c)  # Saída: 30"
   ]
  },
  {
   "cell_type": "markdown",
   "id": "e520dbdd",
   "metadata": {},
   "source": [
    "\n",
    "##### Métodos Embutidos\n",
    "\n",
    "Embora as tuplas tenham poucos métodos devido à sua imutabilidade, dois métodos são úteis: `count()` e `index()`.\n",
    "\n",
    "- `count(x)`: Retorna o número de vezes que o valor `x` aparece na tupla.\n"
   ]
  },
  {
   "cell_type": "code",
   "execution_count": null,
   "id": "515f957a",
   "metadata": {},
   "outputs": [],
   "source": [
    "tupla = (1, 2, 3, 2, 2, 4, 5)\n",
    "print(tupla.count(2))  # Saída: 3"
   ]
  },
  {
   "cell_type": "markdown",
   "id": "8b86a12a",
   "metadata": {},
   "source": [
    "\n",
    "- `index(x)`: Retorna o índice da primeira ocorrência do valor `x` na tupla.\n"
   ]
  },
  {
   "cell_type": "code",
   "execution_count": null,
   "id": "4305750d",
   "metadata": {},
   "outputs": [],
   "source": [
    "tupla = (1, 2, 3, 4, 5)\n",
    "print(tupla.index(3))  # Saída: 2"
   ]
  },
  {
   "cell_type": "markdown",
   "id": "02d4eeed",
   "metadata": {},
   "source": [
    "\n",
    "#### Usos Comuns de Tuplas\n",
    "\n",
    "##### Passagem de Múltiplos Valores\n",
    "\n",
    "Tuplas são frequentemente usadas para retornar múltiplos valores de uma função.\n"
   ]
  },
  {
   "cell_type": "code",
   "execution_count": null,
   "id": "0323839d",
   "metadata": {},
   "outputs": [],
   "source": [
    "def dividir(dividendo, divisor):\n",
    "    quociente = dividendo // divisor\n",
    "    resto = dividendo % divisor\n",
    "    return quociente, resto\n",
    "\n",
    "resultado = dividir(10, 3)\n",
    "print(resultado)  # Saída: (3, 1)"
   ]
  },
  {
   "cell_type": "markdown",
   "id": "93f9d9de",
   "metadata": {},
   "source": [
    "\n",
    "##### Armazenamento de Dados Imutáveis\n",
    "\n",
    "Tuplas são ideais para armazenar dados que não devem ser alterados ao longo da execução do programa, como coordenadas geográficas, informações de configuração, etc.\n"
   ]
  },
  {
   "cell_type": "code",
   "execution_count": null,
   "id": "6cb8d308",
   "metadata": {},
   "outputs": [],
   "source": [
    "coordenadas = (40.7128, -74.0060)\n",
    "config = ('localhost', 8080, 'admin', 'password')"
   ]
  },
  {
   "cell_type": "markdown",
   "id": "6eba3a71",
   "metadata": {},
   "source": [
    "\n",
    "##### Chaves em Dicionários\n",
    "\n",
    "Tuplas podem ser usadas como chaves em dicionários devido à sua imutabilidade.\n"
   ]
  },
  {
   "cell_type": "code",
   "execution_count": null,
   "id": "dc07965c",
   "metadata": {},
   "outputs": [],
   "source": [
    "tupla1 = (1, 2)\n",
    "tupla2 = (3, 4)\n",
    "dicionario = {tupla1: \"A\", tupla2: \"B\"}\n",
    "print(dicionario[tupla1])  # Saída: A"
   ]
  },
  {
   "cell_type": "markdown",
   "id": "0be10553",
   "metadata": {},
   "source": [
    "\n",
    "\n",
    "### 4. Dicionários\n",
    "\n",
    "Dicionários são coleções desordenadas de pares chave-valor. As chaves devem ser únicas e imutáveis, enquanto os valores podem ser de qualquer tipo.\n",
    "\n",
    "#### Criação de Dicionários\n",
    "\n",
    "Criar dicionários usando chaves `{}` ou a função `dict()`.\n"
   ]
  },
  {
   "cell_type": "code",
   "execution_count": null,
   "id": "fa00d185",
   "metadata": {},
   "outputs": [],
   "source": [
    "# Criando um dicionário vazio\n",
    "dicionario_vazio = {}\n",
    "\n",
    "# Criando um dicionário com pares chave-valor\n",
    "pessoa = {\"nome\": \"Alice\", \"idade\": 30, \"cidade\": \"São Paulo\"}\n",
    "\n",
    "# Usando a função dict()\n",
    "outro_dicionario = dict(nome=\"Bob\", idade=25)"
   ]
  },
  {
   "cell_type": "markdown",
   "id": "a56e5427",
   "metadata": {},
   "source": [
    "\n",
    "#### Acessando Valores\n",
    "\n",
    "Os valores em um dicionário podem ser acessados usando as chaves.\n"
   ]
  },
  {
   "cell_type": "code",
   "execution_count": null,
   "id": "f182bea7",
   "metadata": {},
   "outputs": [],
   "source": [
    "print(pessoa[\"nome\"])  # Saída: Alice\n",
    "print(pessoa.get(\"idade\"))  # Saída: 30"
   ]
  },
  {
   "cell_type": "markdown",
   "id": "b69a0fed",
   "metadata": {},
   "source": [
    "\n",
    "#### Modificando Valores\n"
   ]
  },
  {
   "cell_type": "code",
   "execution_count": null,
   "id": "7c009257",
   "metadata": {},
   "outputs": [],
   "source": [
    "pessoa[\"idade\"] = 31\n",
    "print(pessoa)  # Saída: {'nome': 'Alice', 'idade': 31, 'cidade': 'São Paulo'}"
   ]
  },
  {
   "cell_type": "markdown",
   "id": "d56dd83f",
   "metadata": {},
   "source": [
    "\n",
    "#### Adicionando e Removendo Pares Chave-Valor\n"
   ]
  },
  {
   "cell_type": "code",
   "execution_count": null,
   "id": "3ac36e73",
   "metadata": {},
   "outputs": [],
   "source": [
    "# Adicionando um novo par chave-valor\n",
    "pessoa[\"profissao\"] = \"Engenheira\"\n",
    "print(pessoa)  # Saída: {'nome': 'Alice', 'idade': 31, 'cidade': 'São Paulo', 'profissao': 'Engenheira'}\n",
    "\n",
    "# Removendo um par chave-valor\n",
    "del pessoa[\"cidade\"]\n",
    "print(pessoa)  # Saída: {'nome': 'Alice', 'idade': 31, 'profissao': 'Engenheira'}"
   ]
  },
  {
   "cell_type": "markdown",
   "id": "94ae21cc",
   "metadata": {},
   "source": [
    "\n",
    "#### Iterando sobre Dicionários\n",
    "\n",
    "Você pode iterar sobre as chaves, valores ou pares chave-valor de um dicionário usando loops `for`.\n"
   ]
  },
  {
   "cell_type": "code",
   "execution_count": null,
   "id": "3f45f448",
   "metadata": {},
   "outputs": [],
   "source": [
    "# Iterando sobre chaves\n",
    "for chave in pessoa:\n",
    "    print(chave, pessoa[chave])\n",
    "\n",
    "# Iterando sobre pares chave-valor\n",
    "for chave, valor in pessoa.items():\n",
    "    print(chave, valor)"
   ]
  },
  {
   "cell_type": "markdown",
   "id": "b9e82128",
   "metadata": {},
   "source": [
    "\n",
    "#### Dicionários Comprehensions\n",
    "\n",
    "Dicionários comprehensions permitem criar dicionários de maneira concisa e legível.\n"
   ]
  },
  {
   "cell_type": "code",
   "execution_count": null,
   "id": "991cf288",
   "metadata": {},
   "outputs": [],
   "source": [
    "quadrados = {x: x**2 for x in range(5)}\n",
    "print(quadrados)  # Saída: {0: 0, 1: 1, 2: 4, 3: 9, 4: 16}"
   ]
  },
  {
   "cell_type": "markdown",
   "id": "6aba6d10",
   "metadata": {},
   "source": [
    "\n",
    "#### Métodos Comuns de Dicionários\n",
    "\n",
    "- `keys()`: Retorna uma visão das chaves do dicionário.\n",
    "- `values()`: Retorna uma visão dos valores do dicionário.\n",
    "- `items()`: Retorna uma visão dos pares chave-valor do dicionário.\n",
    "- `get(key, default=None)`: Retorna o valor para a chave, se a chave estiver no dicionário; caso contrário, retorna o valor padrão.\n",
    "- `pop(key, default=None)`: Remove a chave e retorna o valor correspondente. Se a chave não estiver no dicionário, retorna o valor padrão.\n",
    "- `popitem()`: Remove e retorna um par chave-valor arbitrário do dicionário.\n",
    "- `clear()`: Remove todos os itens do dicionário.\n",
    "- `update([other])`: Atualiza o dicionário com os pares chave-valor de `other`.\n",
    "\n",
    "### Comparação entre Listas, Conjuntos e Dicionários\n",
    "\n",
    "| Característica           | Listas                        | Conjuntos                    | Tuplas                       | Dicionários                  |\n",
    "|--------------------------|-------------------------------|------------------------------|------------------------------|------------------------------|\n",
    "| **Ordenação**            | Ordenadas                     | Desordenadas                 | Ordenadas                    | Desordenadas                 |\n",
    "| **Mutabilidade**         | Mutáveis                      | Mutáveis                     | Imutáveis                    | Mutáveis                      |\n",
    "| **Permite Duplicatas**   | Sim                           | Não                          | Sim                          | Chaves: Não, Valores: Sim    |\n",
    "| **Acesso**               | Acesso por índice             | Acesso direto                | Acesso por índice            | Acesso por chave             |\n",
    "| **Métodos Comuns**       | append, insert, remove, pop,  | add, remove, discard, pop,   | count, index                 | keys, values, items, get,    |\n",
    "|                          | sort, reverse, extend         | clear, union, intersection,  |                              | pop, popitem, update, clear  |\n",
    "|                          |                               | difference, symmetric_diff   |                              |                              |\n",
    "| **Iteração**             | Sim, com `for`                | Sim, com `for`               | Sim, com `for`               | Sim, com `for`               |\n",
    "| **Exemplo de Uso**       | Sequências ordenadas de itens | Eliminar duplicatas,         | Armazenar dados imutáveis,   | Armazenar pares chave-valor  |\n",
    "|                          |                               | operações matemáticas        | múltiplos valores de retorno | dados relacionais            |\n",
    "| **Criação**              | `[]` ou `list()`              | `{}` ou `set()`              | `()` ou `tuple()`            | `{}` ou `dict()`             |\n",
    "\n",
    "\n",
    "\n"
   ]
  }
 ],
 "metadata": {},
 "nbformat": 4,
 "nbformat_minor": 5
}
