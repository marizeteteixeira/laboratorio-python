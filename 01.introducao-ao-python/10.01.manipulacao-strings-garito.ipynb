{
 "cells": [
  {
   "cell_type": "markdown",
   "id": "71101bca",
   "metadata": {},
   "source": [
    "# Exercícios - Strings GABARITO\n",
    "\n",
    "## Exercício 1: Contagem de Caracteres\n",
    "\n",
    "Escreva uma função chamada contar_caracteres que recebe uma string como argumento e retorna um dicionário onde as chaves são os caracteres e os valores são a quantidade de vezes que cada caractere aparece na string.\n"
   ]
  },
  {
   "cell_type": "code",
   "execution_count": null,
   "id": "5fea888b",
   "metadata": {},
   "outputs": [],
   "source": [
    "def contar_caracteres(s):\n",
    "    contagem = {}\n",
    "    for caractere in s:\n",
    "        if caractere in contagem:\n",
    "            contagem[caractere] += 1\n",
    "        else:\n",
    "            contagem[caractere] = 1\n",
    "    return contagem\n",
    "\n",
    "# Teste a função\n",
    "print(contar_caracteres(\"programacao\"))"
   ]
  },
  {
   "cell_type": "markdown",
   "id": "b911e496",
   "metadata": {},
   "source": [
    "\n",
    "## Exercício 2: Inversão de String\n",
    "\n",
    "Crie uma função chamada inverter_string que recebe uma string e retorna a string invertida."
   ]
  },
  {
   "cell_type": "code",
   "execution_count": null,
   "id": "36f8aa9e",
   "metadata": {},
   "outputs": [],
   "source": [
    "def inverter_string(s):\n",
    "    return s[::-1]\n",
    "\n",
    "# Teste a função\n",
    "print(inverter_string(\"python\"))"
   ]
  },
  {
   "cell_type": "markdown",
   "id": "d7435f2e",
   "metadata": {},
   "source": [
    "\n",
    "## Exercício 3: Substituição de Caracteres\n",
    "\n",
    "Crie uma função chamada substituir_caracteres que recebe uma string e dois caracteres (antigo e novo). A função deve substituir todas as ocorrências do caractere antigo pelo novo na string e retornar a nova string.\n"
   ]
  },
  {
   "cell_type": "code",
   "execution_count": null,
   "id": "7e0f7893",
   "metadata": {},
   "outputs": [],
   "source": [
    "def substituir_caracteres(s, antigo, novo):\n",
    "    return s.replace(antigo, novo)\n",
    "\n",
    "# Teste a função\n",
    "print(substituir_caracteres(\"banana\", \"a\", \"o\"))"
   ]
  },
  {
   "cell_type": "markdown",
   "id": "4970ca52",
   "metadata": {},
   "source": [
    "\n",
    "## Exercício 4: Remoção de Vogais\n",
    "\n",
    "Escreva uma função chamada remover_vogais que remove todas as vogais (a, e, i, o, u) de uma string e retorna a string resultante."
   ]
  },
  {
   "cell_type": "code",
   "execution_count": null,
   "id": "207e80f5",
   "metadata": {},
   "outputs": [],
   "source": [
    "def remover_vogais(s):\n",
    "    vogais = \"aeiouAEIOU\"\n",
    "    return \"\".join([caractere for caractere in s if caractere not in vogais])\n",
    "\n",
    "# Teste a função\n",
    "print(remover_vogais(\"programacao\"))"
   ]
  },
  {
   "cell_type": "markdown",
   "id": "c24a0442",
   "metadata": {},
   "source": []
  }
 ],
 "metadata": {},
 "nbformat": 4,
 "nbformat_minor": 5
}
