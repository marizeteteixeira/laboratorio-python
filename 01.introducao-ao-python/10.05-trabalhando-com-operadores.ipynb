{
 "cells": [
  {
   "cell_type": "markdown",
   "id": "baef1992",
   "metadata": {},
   "source": [
    "# Exercícios sobre operadores\n",
    "\n",
    "### Operadores Aritméticos\n",
    "\n",
    "#### Exercício 1: Calculadora Simples\n",
    "Crie uma função chamada `calculadora_simples` que recebe três argumentos: dois números e um operador aritmético (como string). A função deve realizar a operação especificada entre os dois números e retornar o resultado.\n"
   ]
  },
  {
   "cell_type": "code",
   "execution_count": null,
   "id": "9df4600d",
   "metadata": {},
   "outputs": [],
   "source": [
    "def calculadora_simples(num1, num2, operador):\n",
    "    pass\n",
    "\n",
    "# Teste a função\n",
    "print(calculadora_simples(10, 5, '+'))  # resultado esperado 15\n",
    "print(calculadora_simples(10, 5, '-'))  # resultado esperado 5\n",
    "print(calculadora_simples(10, 5, '*'))  # resultado esperado 50\n",
    "print(calculadora_simples(10, 5, '/'))  # resultado esperado 2.0\n",
    "print(calculadora_simples(10, 5, '%'))  # resultado esperado Operador inválido"
   ]
  },
  {
   "cell_type": "markdown",
   "id": "e23d1026",
   "metadata": {},
   "source": [
    "\n",
    "#### Exercício 2: Média Aritmética\n",
    "Crie uma função chamada `media_aritmetica` que recebe uma lista de números e retorna a média aritmética dos números na lista.\n"
   ]
  },
  {
   "cell_type": "code",
   "execution_count": null,
   "id": "96dbeb8a",
   "metadata": {},
   "outputs": [],
   "source": [
    "def media_aritmetica(numeros):\n",
    "    pass\n",
    "\n",
    "# Teste a função\n",
    "print(media_aritmetica([10, 20, 30, 40, 50]))  # resultado esperado 30.0"
   ]
  },
  {
   "cell_type": "markdown",
   "id": "d0bd6081",
   "metadata": {},
   "source": [
    "\n",
    "### Operadores de Comparação\n",
    "\n",
    "#### Exercício 1: Maior de Dois Números\n",
    "Crie uma função chamada `maior_de_dois` que recebe dois números como argumentos e retorna o maior dos dois.\n"
   ]
  },
  {
   "cell_type": "code",
   "execution_count": null,
   "id": "43d24f71",
   "metadata": {},
   "outputs": [],
   "source": [
    "def maior_de_dois(num1, num2):\n",
    "    pass\n",
    "\n",
    "# Teste a função\n",
    "print(maior_de_dois(10, 20))  # resultado esperado 20\n",
    "print(maior_de_dois(30, 15))  # resultado esperado 30"
   ]
  },
  {
   "cell_type": "markdown",
   "id": "76310435",
   "metadata": {},
   "source": [
    "\n",
    "#### Exercício 2: Verificação de Intervalo\n",
    "Crie uma função chamada `verificar_intervalo` que recebe um número e verifica se ele está no intervalo de 10 a 20 (inclusive). A função deve retornar True se o número estiver no intervalo, caso contrário, deve retornar False.\n"
   ]
  },
  {
   "cell_type": "code",
   "execution_count": null,
   "id": "80e81498",
   "metadata": {},
   "outputs": [],
   "source": [
    "def verificar_intervalo(num):\n",
    "    pass\n",
    "\n",
    "# Teste a função\n",
    "print(verificar_intervalo(15))  # resultado esperado True\n",
    "print(verificar_intervalo(25))  # resultado esperado False"
   ]
  },
  {
   "cell_type": "markdown",
   "id": "61b3ba68",
   "metadata": {},
   "source": [
    "\n",
    "### Operadores Lógicos\n",
    "\n",
    "#### Exercício 1: Verificação de Paridade\n",
    "Crie uma função chamada `verificar_paridade` que recebe um número e verifica se ele é par e positivo. A função deve retornar True se o número for par e positivo, caso contrário, deve retornar False.\n"
   ]
  },
  {
   "cell_type": "code",
   "execution_count": null,
   "id": "b79c6c1d",
   "metadata": {},
   "outputs": [],
   "source": [
    "def verificar_paridade(num):\n",
    "    pass\n",
    "\n",
    "# Teste a função\n",
    "print(verificar_paridade(10))  # resultado esperado True\n",
    "print(verificar_paridade(-2))  # resultado esperado False\n",
    "print(verificar_paridade(3))   # resultado esperado False"
   ]
  },
  {
   "cell_type": "markdown",
   "id": "f123740e",
   "metadata": {},
   "source": [
    "\n",
    "#### Exercício 2: Verificação de Condições Múltiplas\n",
    "Crie uma função chamada `verificar_condicoes` que recebe três números. A função deve retornar True se o primeiro número for maior que o segundo e o segundo número for maior que o terceiro, caso contrário, deve retornar False.\n"
   ]
  },
  {
   "cell_type": "code",
   "execution_count": null,
   "id": "a2ffd718",
   "metadata": {},
   "outputs": [],
   "source": [
    "def verificar_condicoes(num1, num2, num3):\n",
    "    pass\n",
    "\n",
    "# Teste a função\n",
    "print(verificar_condicoes(10, 5, 1))  # resultado esperado True\n",
    "print(verificar_condicoes(10, 5, 20)) # resultado esperado False"
   ]
  },
  {
   "cell_type": "markdown",
   "id": "0be8b67a",
   "metadata": {},
   "source": []
  }
 ],
 "metadata": {},
 "nbformat": 4,
 "nbformat_minor": 5
}
