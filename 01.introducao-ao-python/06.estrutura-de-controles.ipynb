{
 "cells": [
  {
   "cell_type": "markdown",
   "id": "7522a589",
   "metadata": {},
   "source": [
    "#### 5. Estruturas de Controle\n",
    "\n",
    "Estruturas de controle permitem que o fluxo do programa mude com base em condições específicas.\n",
    "\n",
    "##### Estruturas Condicionais (if, elif, else)\n"
   ]
  },
  {
   "cell_type": "code",
   "execution_count": null,
   "id": "cd6b1b98",
   "metadata": {},
   "outputs": [],
   "source": [
    "idade = 18\n",
    "\n",
    "if idade < 18:\n",
    "    print(\"Menor de idade\")\n",
    "elif idade == 18:\n",
    "    print(\"Tem 18 anos\")\n",
    "else:\n",
    "    print(\"Maior de idade\")"
   ]
  },
  {
   "cell_type": "markdown",
   "id": "a5fd7b78",
   "metadata": {},
   "source": []
  }
 ],
 "metadata": {},
 "nbformat": 4,
 "nbformat_minor": 5
}
