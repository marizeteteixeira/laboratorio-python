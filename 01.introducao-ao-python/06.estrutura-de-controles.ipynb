{
 "cells": [
  {
   "cell_type": "markdown",
   "id": "776acbbf",
   "metadata": {},
   "source": [
    "#### 5. Estruturas de Controle\n",
    "\n",
    "Estruturas de controle permitem que o fluxo do programa mude com base em condições específicas.\n",
    "\n",
    "##### Estruturas Condicionais (if, elif, else)\n"
   ]
  },
  {
   "cell_type": "code",
   "execution_count": null,
   "id": "e8eac520",
   "metadata": {},
   "outputs": [],
   "source": [
    "idade = 18\n",
    "\n",
    "if idade < 18:\n",
    "    print(\"Menor de idade\")\n",
    "elif idade == 18:\n",
    "    print(\"Tem 18 anos\")\n",
    "else:\n",
    "    print(\"Maior de idade\")"
   ]
  },
  {
   "cell_type": "markdown",
   "id": "9d3c0620",
   "metadata": {},
   "source": []
  }
 ],
 "metadata": {},
 "nbformat": 4,
 "nbformat_minor": 5
}
