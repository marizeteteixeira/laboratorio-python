{
 "cells": [
  {
   "cell_type": "markdown",
   "id": "1a513770",
   "metadata": {},
   "source": [
    "# Exercícios - SET - GABARITO\n",
    "\n",
    "### Exercício 1: União de Conjuntos\n",
    "Crie uma função chamada `uniao_conjuntos` que recebe dois conjuntos e retorna um novo conjunto que é a união dos dois.\n"
   ]
  },
  {
   "cell_type": "code",
   "execution_count": null,
   "id": "56be0aed",
   "metadata": {},
   "outputs": [],
   "source": [
    "def uniao_conjuntos(conjunto1, conjunto2):\n",
    "    return conjunto1.union(conjunto2)\n",
    "\n",
    "# Teste a função\n",
    "print(uniao_conjuntos({1, 2, 3}, {3, 4, 5}))"
   ]
  },
  {
   "cell_type": "markdown",
   "id": "018445b9",
   "metadata": {},
   "source": [
    "\n",
    "### Exercício 2: Interseção de Conjuntos\n",
    "Escreva uma função chamada `intersecao_conjuntos` que recebe dois conjuntos e retorna um novo conjunto que é a interseção dos dois.\n"
   ]
  },
  {
   "cell_type": "code",
   "execution_count": null,
   "id": "cf184fe2",
   "metadata": {},
   "outputs": [],
   "source": [
    "def intersecao_conjuntos(conjunto1, conjunto2):\n",
    "    return conjunto1.intersection(conjunto2)\n",
    "\n",
    "# Teste a função\n",
    "print(intersecao_conjuntos({1, 2, 3}, {3, 4, 5}))"
   ]
  },
  {
   "cell_type": "markdown",
   "id": "e36fe309",
   "metadata": {},
   "source": [
    "\n",
    "### Exercício 3: Diferença de Conjuntos\n",
    "Crie uma função chamada `diferenca_conjuntos` que recebe dois conjuntos e retorna um novo conjunto que é a diferença entre o primeiro e o segundo conjunto.\n"
   ]
  },
  {
   "cell_type": "code",
   "execution_count": null,
   "id": "71505f75",
   "metadata": {},
   "outputs": [],
   "source": [
    "def diferenca_conjuntos(conjunto1, conjunto2):\n",
    "    return conjunto1.difference(conjunto2)\n",
    "\n",
    "# Teste a função\n",
    "print(diferenca_conjuntos({1, 2, 3}, {3, 4, 5}))"
   ]
  },
  {
   "cell_type": "markdown",
   "id": "0468b23c",
   "metadata": {},
   "source": []
  }
 ],
 "metadata": {},
 "nbformat": 4,
 "nbformat_minor": 5
}
