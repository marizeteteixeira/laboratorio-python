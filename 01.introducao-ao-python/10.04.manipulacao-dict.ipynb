{
 "cells": [
  {
   "cell_type": "markdown",
   "id": "455c0675",
   "metadata": {},
   "source": [
    "# Exercícios - DICT\n",
    "\n",
    "### Exercício 1: Adicionar e Atualizar Entradas\n",
    "Crie uma função chamada `adicionar_atualizar_entrada` que recebe um dicionário, uma chave e um valor. A função deve adicionar a chave e o valor ao dicionário se a chave não existir, ou atualizar o valor da chave se ela já existir.\n"
   ]
  },
  {
   "cell_type": "code",
   "execution_count": null,
   "id": "8b8979d5",
   "metadata": {},
   "outputs": [],
   "source": [
    "def adicionar_atualizar_entrada(dicionario, chave, valor):\n",
    "    pass\n",
    "    return dicionario\n",
    "\n",
    "# Teste a função\n",
    "dicionario = {'a': 1, 'b': 2}\n",
    "print(adicionar_atualizar_entrada(dicionario, 'c', 3))  # resultado esperado {'a': 1, 'b': 2, 'c': 3}\n",
    "print(adicionar_atualizar_entrada(dicionario, 'a', 10))  # resultado esperado {'a': 10, 'b': 2, 'c': 3}"
   ]
  },
  {
   "cell_type": "markdown",
   "id": "9b24178f",
   "metadata": {},
   "source": [
    "\n",
    "### Exercício 2: Remover Entradas por Chave\n",
    "Escreva uma função chamada `remover_entrada` que recebe um dicionário e uma chave. A função deve remover a entrada correspondente à chave fornecida e retornar o dicionário atualizado. Se a chave não existir, retornar o dicionário inalterado.\n"
   ]
  },
  {
   "cell_type": "code",
   "execution_count": null,
   "id": "573eebdd",
   "metadata": {},
   "outputs": [],
   "source": [
    "def remover_entrada(dicionario, chave):\n",
    "    pass\n",
    "\n",
    "# Teste a função\n",
    "dicionario = {'a': 1, 'b': 2, 'c': 3}\n",
    "print(remover_entrada(dicionario, 'b'))  # resultado esperado {'a': 1, 'c': 3}\n",
    "print(remover_entrada(dicionario, 'd'))  # resultado esperado {'a': 1, 'c': 3}"
   ]
  },
  {
   "cell_type": "markdown",
   "id": "c07e49e4",
   "metadata": {},
   "source": [
    "\n",
    "### Exercício 3: Combinar Dois Dicionários\n",
    "Crie uma função chamada `combinar_dicionarios` que recebe dois dicionários e retorna um novo dicionário que combina as entradas de ambos. Se uma chave existir em ambos os dicionários, o valor do segundo dicionário deve sobrescrever o valor do primeiro.\n"
   ]
  },
  {
   "cell_type": "code",
   "execution_count": null,
   "id": "0010b2a6",
   "metadata": {},
   "outputs": [],
   "source": [
    "def combinar_dicionarios(dic1, dic2):\n",
    "    pass\n",
    "\n",
    "# Teste a função\n",
    "dic1 = {'a': 1, 'b': 2}\n",
    "dic2 = {'b': 3, 'c': 4}\n",
    "print(combinar_dicionarios(dic1, dic2))  # resultado esperado {'a': 1, 'b': 3, 'c': 4}"
   ]
  },
  {
   "cell_type": "markdown",
   "id": "494777ad",
   "metadata": {},
   "source": []
  }
 ],
 "metadata": {},
 "nbformat": 4,
 "nbformat_minor": 5
}
