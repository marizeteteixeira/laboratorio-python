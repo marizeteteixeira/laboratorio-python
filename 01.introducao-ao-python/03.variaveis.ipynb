{
  "nbformat": 4,
  "nbformat_minor": 0,
  "metadata": {
    "colab": {
      "provenance": []
    },
    "kernelspec": {
      "name": "python3",
      "display_name": "Python 3"
    },
    "language_info": {
      "name": "python"
    }
  },
  "cells": [
    {
      "cell_type": "markdown",
      "source": [
        "### Aprendendo trabalhar com variáveis\n",
        "\n",
        "Vamos explorar detalhadamente os conceitos fundamentais de Python, incluindo a criação de variáveis, tipos de dados, estruturas de dados como listas, conjuntos e dicionários, operadores, estruturas de controle, estruturas de repetição e funções.\n",
        "\n",
        "#### 1. Criação de Variáveis e Tipos de Dados\n",
        "\n",
        "**Variáveis** são usadas para armazenar dados em um programa. Em Python, você não precisa declarar explicitamente o tipo de uma variável, pois a linguagem é dinamicamente tipada. Basta atribuir um valor a uma variável, e Python determinará automaticamente o tipo de dado.\n",
        "\n",
        "- Exemplo de código em Python"
      ],
      "metadata": {
        "id": "c3ws3eLxIxds"
      }
    },
    {
      "cell_type": "code",
      "source": [
        "# Criação de variáveis\n",
        "numero = 10       # Inteiro\n",
        "texto = \"Olá\"     # String\n",
        "preco = 99.99     # Float\n",
        "is_valido = True  # Booleano\n",
        "\n",
        "# Imprimindo os valores e tipos\n",
        "print(numero, type(numero))   # Saída: 10 <class 'int'>\n",
        "print(texto, type(texto))     # Saída: Olá <class 'str'>\n",
        "print(preco, type(preco))     # Saída: 99.99 <class 'float'>\n",
        "print(is_valido, type(is_valido))  # Saída: True <class 'bool'>"
      ],
      "metadata": {
        "id": "af-GIRVdImeh"
      },
      "execution_count": null,
      "outputs": []
    }
  ]
}