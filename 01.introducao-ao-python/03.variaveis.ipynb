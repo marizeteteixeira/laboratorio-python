{
 "cells": [
  {
   "cell_type": "markdown",
   "id": "62555c8b",
   "metadata": {},
   "source": [
    "# Variáveis, tipos de dados, estruturas de controle e estruturas de repeticao\n",
    "\n",
    "## Aprendendo trabalhar com variáveis\n",
    "\n",
    "Vamos explorar detalhadamente os conceitos fundamentais de Python, incluindo a criação de variáveis, tipos de dados, estruturas de dados como listas, conjuntos e dicionários, operadores, estruturas de controle, estruturas de repetição e funções.\n",
    "\n",
    "### 1. Criação de Variáveis e Tipos de Dados\n",
    "\n",
    "**Variáveis** são usadas para armazenar dados em um programa. Em Python, você não precisa declarar explicitamente o tipo de uma variável, pois a linguagem é dinamicamente tipada. Basta atribuir um valor a uma variável, e Python determinará automaticamente o tipo de dado.\n",
    "\n",
    "- Exemplo de código em Python\n"
   ]
  },
  {
   "cell_type": "code",
   "execution_count": null,
   "id": "65af74fe",
   "metadata": {},
   "outputs": [],
   "source": [
    "# Criação de variáveis\n",
    "numero = 10       # Inteiro\n",
    "texto = \"Olá\"     # String\n",
    "preco = 99.99     # Float\n",
    "is_valido = True  # Booleano\n",
    "\n",
    "# Imprimindo os valores e tipos\n",
    "print(numero, type(numero))   # Saída: 10 <class 'int'>\n",
    "print(texto, type(texto))     # Saída: Olá <class 'str'>\n",
    "print(preco, type(preco))     # Saída: 99.99 <class 'float'>\n",
    "print(is_valido, type(is_valido))  # Saída: True <class 'bool'>"
   ]
  },
  {
   "cell_type": "markdown",
   "id": "a916e5f4",
   "metadata": {},
   "source": [
    "\n",
    "## String\n",
    "\n",
    "Strings são sequências de caracteres usadas para representar texto em Python. Elas são um dos tipos de dados mais comuns e fundamentais em Python, e a linguagem oferece uma variedade de operações e métodos para manipulá-las.\n",
    "\n",
    "### Criação de Strings\n",
    "\n",
    "Você pode criar strings em Python usando aspas simples (`'`) ou duplas (`\"`).\n"
   ]
  },
  {
   "cell_type": "code",
   "execution_count": null,
   "id": "3237b8f7",
   "metadata": {},
   "outputs": [],
   "source": [
    "# Usando aspas simples\n",
    "string1 = 'Hello, World!'\n",
    "\n",
    "# Usando aspas duplas\n",
    "string2 = \"Hello, World!\""
   ]
  },
  {
   "cell_type": "markdown",
   "id": "5d656c46",
   "metadata": {},
   "source": [
    "\n",
    "Para criar strings de múltiplas linhas, você pode usar aspas triplas (`'''` ou `\"\"\"`).\n"
   ]
  },
  {
   "cell_type": "code",
   "execution_count": null,
   "id": "aa401a6b",
   "metadata": {},
   "outputs": [],
   "source": [
    "multiline_string = \"\"\"Esta é uma string\n",
    "de múltiplas linhas\"\"\""
   ]
  },
  {
   "cell_type": "markdown",
   "id": "5f801d38",
   "metadata": {},
   "source": [
    "\n",
    "### Acessando Caracteres em Strings\n",
    "\n",
    "Você pode acessar caracteres individuais em uma string usando índices, começando do zero. Índices negativos acessam caracteres a partir do final da string.\n"
   ]
  },
  {
   "cell_type": "code",
   "execution_count": null,
   "id": "07382a37",
   "metadata": {},
   "outputs": [],
   "source": [
    "string = \"Python\"\n",
    "print(string[0])  # Saída: P\n",
    "print(string[5])  # Saída: n\n",
    "print(string[-1]) # Saída: n"
   ]
  },
  {
   "cell_type": "markdown",
   "id": "6ab94a65",
   "metadata": {},
   "source": [
    "\n",
    "### Fatiamento (Slicing)\n",
    "\n",
    "Você pode extrair substrings (subsequências) de uma string usando a sintaxe de fatiamento.\n"
   ]
  },
  {
   "cell_type": "code",
   "execution_count": null,
   "id": "872fe64d",
   "metadata": {},
   "outputs": [],
   "source": [
    "string = \"Hello, World!\"\n",
    "print(string[0:5])  # Saída: Hello\n",
    "print(string[7:])   # Saída: World!\n",
    "print(string[:5])   # Saída: Hello\n",
    "print(string[::2])  # Saída: Hlo ol!"
   ]
  },
  {
   "cell_type": "markdown",
   "id": "b951b426",
   "metadata": {},
   "source": [
    "\n",
    "### Métodos Comuns de Strings\n",
    "\n",
    "Python fornece vários métodos embutidos para manipulação de strings.\n",
    "\n",
    "- `len()`: Retorna o comprimento da string.\n"
   ]
  },
  {
   "cell_type": "code",
   "execution_count": null,
   "id": "60494559",
   "metadata": {},
   "outputs": [],
   "source": [
    "print(len(\"Python\"))  # Saída: 6"
   ]
  },
  {
   "cell_type": "markdown",
   "id": "4db55d11",
   "metadata": {},
   "source": [
    "\n",
    "- `str.lower()`: Converte todos os caracteres da string para minúsculas.\n"
   ]
  },
  {
   "cell_type": "code",
   "execution_count": null,
   "id": "d2ad4286",
   "metadata": {},
   "outputs": [],
   "source": [
    "print(\"PYTHON\".lower())  # Saída: python"
   ]
  },
  {
   "cell_type": "markdown",
   "id": "8643b1c6",
   "metadata": {},
   "source": [
    "\n",
    "- `str.upper()`: Converte todos os caracteres da string para maiúsculas.\n"
   ]
  },
  {
   "cell_type": "code",
   "execution_count": null,
   "id": "cdacfab1",
   "metadata": {},
   "outputs": [],
   "source": [
    "print(\"python\".upper())  # Saída: PYTHON"
   ]
  },
  {
   "cell_type": "markdown",
   "id": "e1bd0299",
   "metadata": {},
   "source": [
    "\n",
    "- `str.strip()`: Remove espaços em branco do início e do fim da string.\n"
   ]
  },
  {
   "cell_type": "code",
   "execution_count": null,
   "id": "8817a9bc",
   "metadata": {},
   "outputs": [],
   "source": [
    "print(\"   Hello, World!   \".strip())  # Saída: Hello, World!"
   ]
  },
  {
   "cell_type": "markdown",
   "id": "98a6d695",
   "metadata": {},
   "source": [
    "\n",
    "- `str.replace(old, new)`: Substitui todas as ocorrências da substring `old` por `new`.\n"
   ]
  },
  {
   "cell_type": "code",
   "execution_count": null,
   "id": "aeb43222",
   "metadata": {},
   "outputs": [],
   "source": [
    "print(\"Hello, World!\".replace(\"World\", \"Python\"))  # Saída: Hello, Python!"
   ]
  },
  {
   "cell_type": "markdown",
   "id": "2f8fcef9",
   "metadata": {},
   "source": [
    "\n",
    "- `str.split(separator)`: Divide a string em uma lista de substrings, usando `separator` como delimitador.\n"
   ]
  },
  {
   "cell_type": "code",
   "execution_count": null,
   "id": "7cc33352",
   "metadata": {},
   "outputs": [],
   "source": [
    "print(\"Hello, World!\".split(\", \"))  # Saída: ['Hello', 'World!']"
   ]
  },
  {
   "cell_type": "markdown",
   "id": "2e076f2b",
   "metadata": {},
   "source": [
    "\n",
    "- `str.join(iterable)`: Junta uma sequência de strings em uma única string, separadas por uma string delimitadora.\n"
   ]
  },
  {
   "cell_type": "code",
   "execution_count": null,
   "id": "3c7b494d",
   "metadata": {},
   "outputs": [],
   "source": [
    "print(\", \".join([\"Hello\", \"World\"]))  # Saída: Hello, World"
   ]
  },
  {
   "cell_type": "markdown",
   "id": "277c4475",
   "metadata": {},
   "source": [
    "\n",
    "- `str.find(sub)`: Retorna o índice da primeira ocorrência de `sub` na string, ou -1 se não encontrada.\n"
   ]
  },
  {
   "cell_type": "code",
   "execution_count": null,
   "id": "fe983ff6",
   "metadata": {},
   "outputs": [],
   "source": [
    "print(\"Hello, World!\".find(\"World\"))  # Saída: 7"
   ]
  },
  {
   "cell_type": "markdown",
   "id": "5b91ee97",
   "metadata": {},
   "source": [
    "\n",
    "- `str.count(sub)`: Retorna o número de ocorrências de `sub` na string.\n"
   ]
  },
  {
   "cell_type": "code",
   "execution_count": null,
   "id": "11915eda",
   "metadata": {},
   "outputs": [],
   "source": [
    "print(\"Hello, World! Hello, Python!\".count(\"Hello\"))  # Saída: 2"
   ]
  },
  {
   "cell_type": "markdown",
   "id": "01edc4fe",
   "metadata": {},
   "source": [
    "\n",
    "- `str.startswith(prefix)`: Retorna `True` se a string começar com `prefix`.\n"
   ]
  },
  {
   "cell_type": "code",
   "execution_count": null,
   "id": "95145382",
   "metadata": {},
   "outputs": [],
   "source": [
    "print(\"Hello, World!\".startswith(\"Hello\"))  # Saída: True"
   ]
  },
  {
   "cell_type": "markdown",
   "id": "3249ee48",
   "metadata": {},
   "source": [
    "\n",
    "- `str.endswith(suffix)`: Retorna `True` se a string terminar com `suffix`.\n"
   ]
  },
  {
   "cell_type": "code",
   "execution_count": null,
   "id": "3d267410",
   "metadata": {},
   "outputs": [],
   "source": [
    "print(\"Hello, World!\".endswith(\"World!\"))  # Saída: True"
   ]
  },
  {
   "cell_type": "markdown",
   "id": "4c2e5a9b",
   "metadata": {},
   "source": [
    "\n",
    "### Concatenação de Strings\n",
    "\n",
    "Você pode concatenar (juntar) strings usando o operador `+`.\n"
   ]
  },
  {
   "cell_type": "code",
   "execution_count": null,
   "id": "1b665ea6",
   "metadata": {},
   "outputs": [],
   "source": [
    "str1 = \"Hello, \"\n",
    "str2 = \"World!\"\n",
    "result = str1 + str2\n",
    "print(result)  # Saída: Hello, World!"
   ]
  },
  {
   "cell_type": "markdown",
   "id": "cf18e6b2",
   "metadata": {},
   "source": [
    "\n",
    "### Formatação de Strings\n",
    "\n",
    "Python oferece várias maneiras de formatar strings para incluir variáveis e expressões.\n",
    "\n",
    "- Operador `%`: Um método antigo de formatação de strings.\n"
   ]
  },
  {
   "cell_type": "code",
   "execution_count": null,
   "id": "1950a945",
   "metadata": {},
   "outputs": [],
   "source": [
    "name = \"Alice\"\n",
    "age = 30\n",
    "print(\"Name: %s, Age: %d\" % (name, age))  # Saída: Name: Alice, Age: 30"
   ]
  },
  {
   "cell_type": "markdown",
   "id": "8bcaf5d5",
   "metadata": {},
   "source": [
    "\n",
    "- Método `str.format()`: Um método mais recente e poderoso.\n"
   ]
  },
  {
   "cell_type": "code",
   "execution_count": null,
   "id": "0a48dfc2",
   "metadata": {},
   "outputs": [],
   "source": [
    "print(\"Name: {}, Age: {}\".format(name, age))  # Saída: Name: Alice, Age: 30\n",
    "print(\"Name: {0}, Age: {1}\".format(name, age))  # Saída: Name: Alice, Age: 30\n",
    "print(\"Name: {name}, Age: {age}\".format(name=name, age=age))  # Saída: Name: Alice, Age: 30"
   ]
  },
  {
   "cell_type": "markdown",
   "id": "ee8ae49e",
   "metadata": {},
   "source": [
    "\n",
    "- F-strings (a partir do Python 3.6): A maneira mais moderna e concisa.\n"
   ]
  },
  {
   "cell_type": "code",
   "execution_count": null,
   "id": "3b2d5e9b",
   "metadata": {},
   "outputs": [],
   "source": [
    "print(f\"Name: {name}, Age: {age}\")  # Saída: Name: Alice, Age: 30"
   ]
  },
  {
   "cell_type": "markdown",
   "id": "de2949e1",
   "metadata": {},
   "source": [
    "\n",
    "### Verificação e Manipulação de Substrings\n",
    "\n",
    "- `in` e `not in`: Verificam se uma substring está presente em uma string.\n"
   ]
  },
  {
   "cell_type": "code",
   "execution_count": null,
   "id": "e40ec962",
   "metadata": {},
   "outputs": [],
   "source": [
    "print(\"Python\" in \"Hello, Python!\")  # Saída: True\n",
    "print(\"Java\" not in \"Hello, Python!\")  # Saída: True"
   ]
  },
  {
   "cell_type": "markdown",
   "id": "ff4305da",
   "metadata": {},
   "source": [
    "\n",
    "- `str.index(sub)`: Retorna o índice da primeira ocorrência de `sub` na string, ou levanta um `ValueError` se não encontrada.\n"
   ]
  },
  {
   "cell_type": "code",
   "execution_count": null,
   "id": "4b64adaf",
   "metadata": {},
   "outputs": [],
   "source": [
    "print(\"Hello, World!\".index(\"World\"))  # Saída: 7"
   ]
  },
  {
   "cell_type": "markdown",
   "id": "8cd4257a",
   "metadata": {},
   "source": [
    "\n",
    "- `str.startswith(prefix)`: Verifica se a string começa com `prefix`.\n"
   ]
  },
  {
   "cell_type": "code",
   "execution_count": null,
   "id": "a9a01e9b",
   "metadata": {},
   "outputs": [],
   "source": [
    "print(\"Hello, World!\".startswith(\"Hello\"))  # Saída: True"
   ]
  },
  {
   "cell_type": "markdown",
   "id": "720125d9",
   "metadata": {},
   "source": [
    "\n",
    "- `str.endswith(suffix)`: Verifica se a string termina com `suffix`.\n"
   ]
  },
  {
   "cell_type": "code",
   "execution_count": null,
   "id": "9c765fef",
   "metadata": {},
   "outputs": [],
   "source": [
    "print(\"Hello, World!\".endswith(\"World!\"))  # Saída: True"
   ]
  },
  {
   "cell_type": "markdown",
   "id": "ef23db4b",
   "metadata": {},
   "source": [
    "\n",
    "### Exemplos Práticos\n",
    "\n",
    "#### Reverter uma String\n"
   ]
  },
  {
   "cell_type": "code",
   "execution_count": null,
   "id": "13e2364d",
   "metadata": {},
   "outputs": [],
   "source": [
    "string = \"Python\"\n",
    "reversed_string = string[::-1]\n",
    "print(reversed_string)  # Saída: nohtyP"
   ]
  },
  {
   "cell_type": "markdown",
   "id": "e5d91c1c",
   "metadata": {},
   "source": [
    "\n",
    "#### Verificar se uma String é Palíndromo\n"
   ]
  },
  {
   "cell_type": "code",
   "execution_count": null,
   "id": "4d653f04",
   "metadata": {},
   "outputs": [],
   "source": [
    "def is_palindrome(s):\n",
    "    s = s.lower().replace(\" \", \"\")\n",
    "    return s == s[::-1]\n",
    "\n",
    "print(is_palindrome(\"A man a plan a canal Panama\"))  # Saída: True"
   ]
  },
  {
   "cell_type": "markdown",
   "id": "7d06a21c",
   "metadata": {},
   "source": [
    "\n",
    "#### Contagem de Palavras em uma String\n"
   ]
  },
  {
   "cell_type": "code",
   "execution_count": null,
   "id": "c211771d",
   "metadata": {},
   "outputs": [],
   "source": [
    "def word_count(s):\n",
    "    words = s.split()\n",
    "    return len(words)\n",
    "\n",
    "print(word_count(\"Hello, World! This is Python.\"))  # Saída: 5"
   ]
  },
  {
   "cell_type": "markdown",
   "id": "ef4c8d6f",
   "metadata": {},
   "source": [
    "\n",
    "## Integer\n",
    "\n",
    "Os inteiros são um dos tipos de dados fundamentais em Python, usados para representar números inteiros sem partes fracionárias. Aqui está uma explicação teórica e detalhada sobre como trabalhar com inteiros em Python e as possíveis operações que você pode realizar com eles.\n",
    "\n",
    "### Definição e Criação de Inteiros\n",
    "\n",
    "Em Python, inteiros são definidos automaticamente quando você atribui um valor inteiro a uma variável. Não há necessidade de declarar o tipo da variável explicitamente.\n"
   ]
  },
  {
   "cell_type": "code",
   "execution_count": null,
   "id": "486a2daf",
   "metadata": {},
   "outputs": [],
   "source": [
    "# Definindo inteiros\n",
    "a = 10\n",
    "b = -5\n",
    "c = 0"
   ]
  },
  {
   "cell_type": "markdown",
   "id": "8bbe2e4f",
   "metadata": {},
   "source": [
    "\n",
    "### Operações Aritméticas\n",
    "\n",
    "Python oferece uma gama de operações aritméticas básicas que podem ser realizadas em inteiros.\n",
    "\n",
    "#### Adição (`+`)\n",
    "\n",
    "Adiciona dois números.\n"
   ]
  },
  {
   "cell_type": "code",
   "execution_count": null,
   "id": "0cb7fcdd",
   "metadata": {},
   "outputs": [],
   "source": [
    "x = 5\n",
    "y = 3\n",
    "soma = x + y\n",
    "print(soma)  # Saída: 8"
   ]
  },
  {
   "cell_type": "markdown",
   "id": "14acb763",
   "metadata": {},
   "source": [
    "\n",
    "#### Subtração (`-`)\n",
    "\n",
    "Subtrai um número de outro.\n"
   ]
  },
  {
   "cell_type": "code",
   "execution_count": null,
   "id": "9493a2d0",
   "metadata": {},
   "outputs": [],
   "source": [
    "diferenca = x - y\n",
    "print(diferenca)  # Saída: 2"
   ]
  },
  {
   "cell_type": "markdown",
   "id": "53c409c3",
   "metadata": {},
   "source": [
    "\n",
    "#### Multiplicação (`*`)\n",
    "\n",
    "Multiplica dois números.\n"
   ]
  },
  {
   "cell_type": "code",
   "execution_count": null,
   "id": "709cbcc1",
   "metadata": {},
   "outputs": [],
   "source": [
    "produto = x * y\n",
    "print(produto)  # Saída: 15"
   ]
  },
  {
   "cell_type": "markdown",
   "id": "2511ee29",
   "metadata": {},
   "source": [
    "\n",
    "#### Divisão (`/`)\n",
    "\n",
    "Divide um número pelo outro, retornando um número de ponto flutuante.\n"
   ]
  },
  {
   "cell_type": "code",
   "execution_count": null,
   "id": "09389574",
   "metadata": {},
   "outputs": [],
   "source": [
    "divisao = x / y\n",
    "print(divisao)  # Saída: 1.6666666666666667"
   ]
  },
  {
   "cell_type": "markdown",
   "id": "3ac94ae6",
   "metadata": {},
   "source": [
    "\n",
    "#### Divisão Inteira (`//`)\n",
    "\n",
    "Divide um número pelo outro, retornando apenas a parte inteira do quociente.\n"
   ]
  },
  {
   "cell_type": "code",
   "execution_count": null,
   "id": "8e3a9bd6",
   "metadata": {},
   "outputs": [],
   "source": [
    "divisao_inteira = x // y\n",
    "print(divisao_inteira)  # Saída: 1"
   ]
  },
  {
   "cell_type": "markdown",
   "id": "4db399f2",
   "metadata": {},
   "source": [
    "\n",
    "#### Módulo (`%`)\n",
    "\n",
    "Retorna o restante da divisão de um número pelo outro.\n"
   ]
  },
  {
   "cell_type": "code",
   "execution_count": null,
   "id": "415f1d14",
   "metadata": {},
   "outputs": [],
   "source": [
    "resto = x % y\n",
    "print(resto)  # Saída: 2"
   ]
  },
  {
   "cell_type": "markdown",
   "id": "64e5120b",
   "metadata": {},
   "source": [
    "\n",
    "#### Exponenciação (`**`)\n",
    "\n",
    "Eleva um número à potência de outro.\n"
   ]
  },
  {
   "cell_type": "code",
   "execution_count": null,
   "id": "5c566a62",
   "metadata": {},
   "outputs": [],
   "source": [
    "potencia = x ** y\n",
    "print(potencia)  # Saída: 125"
   ]
  },
  {
   "cell_type": "markdown",
   "id": "01cb8a0c",
   "metadata": {},
   "source": [
    "\n",
    "### Operações de Atribuição\n",
    "\n",
    "Python oferece operadores de atribuição que combinam uma operação aritmética com a atribuição.\n"
   ]
  },
  {
   "cell_type": "code",
   "execution_count": null,
   "id": "52d54e2e",
   "metadata": {},
   "outputs": [],
   "source": [
    "a = 10\n",
    "a += 5  # Equivalente a a = a + 5\n",
    "print(a)  # Saída: 15\n",
    "\n",
    "a -= 3  # Equivalente a a = a - 3\n",
    "print(a)  # Saída: 12\n",
    "\n",
    "a *= 2  # Equivalente a a = a * 2\n",
    "print(a)  # Saída: 24\n",
    "\n",
    "a /= 4  # Equivalente a a = a / 4\n",
    "print(a)  # Saída: 6.0\n",
    "\n",
    "a //= 2  # Equivalente a a = a // 2\n",
    "print(a)  # Saída: 3.0\n",
    "\n",
    "a %= 2  # Equivalente a a = a % 2\n",
    "print(a)  # Saída: 1.0\n",
    "\n",
    "a **= 3  # Equivalente a a = a ** 3\n",
    "print(a)  # Saída: 1.0"
   ]
  },
  {
   "cell_type": "markdown",
   "id": "4f6c400f",
   "metadata": {},
   "source": [
    "\n",
    "### Operações de Comparação\n",
    "\n",
    "Python permite comparar inteiros usando operadores de comparação. Esses operadores retornam valores booleanos (`True` ou `False`).\n"
   ]
  },
  {
   "cell_type": "code",
   "execution_count": null,
   "id": "df286288",
   "metadata": {},
   "outputs": [],
   "source": [
    "x = 5\n",
    "y = 3\n",
    "\n",
    "print(x == y)  # Igual a (==), Saída: False\n",
    "print(x != y)  # Diferente de (!=), Saída: True\n",
    "print(x > y)   # Maior que (>), Saída: True\n",
    "print(x < y)   # Menor que (<), Saída: False\n",
    "print(x >= y)  # Maior ou igual a (>=), Saída: True\n",
    "print(x <= y)  # Menor ou igual a (<=), Saída: False"
   ]
  },
  {
   "cell_type": "markdown",
   "id": "cfcf01bc",
   "metadata": {},
   "source": [
    "\n",
    "### Funções Matemáticas Embutidas\n",
    "\n",
    "Python fornece várias funções embutidas para operações matemáticas comuns.\n",
    "\n",
    "#### `abs()`\n",
    "\n",
    "Retorna o valor absoluto de um número.\n"
   ]
  },
  {
   "cell_type": "code",
   "execution_count": null,
   "id": "deb5f1c8",
   "metadata": {},
   "outputs": [],
   "source": [
    "a = -10\n",
    "print(abs(a))  # Saída: 10"
   ]
  },
  {
   "cell_type": "markdown",
   "id": "aa59ff7b",
   "metadata": {},
   "source": [
    "\n",
    "#### `pow()`\n",
    "\n",
    "Eleva um número a uma potência. Equivalente ao operador `**`.\n"
   ]
  },
  {
   "cell_type": "code",
   "execution_count": null,
   "id": "82ce8232",
   "metadata": {},
   "outputs": [],
   "source": [
    "print(pow(2, 3))  # Saída: 8"
   ]
  },
  {
   "cell_type": "markdown",
   "id": "08402b25",
   "metadata": {},
   "source": [
    "\n",
    "#### `divmod()`\n",
    "\n",
    "Retorna uma tupla contendo o quociente e o resto da divisão.\n"
   ]
  },
  {
   "cell_type": "code",
   "execution_count": null,
   "id": "11b5cbc4",
   "metadata": {},
   "outputs": [],
   "source": [
    "print(divmod(10, 3))  # Saída: (3, 1)"
   ]
  },
  {
   "cell_type": "markdown",
   "id": "ef1106ef",
   "metadata": {},
   "source": [
    "\n",
    "### Conversão de Tipos\n",
    "\n",
    "Você pode converter outros tipos de dados para inteiros usando a função `int()`.\n"
   ]
  },
  {
   "cell_type": "code",
   "execution_count": null,
   "id": "3a86adb5",
   "metadata": {},
   "outputs": [],
   "source": [
    "print(int(3.14))    # Converte float para int, Saída: 3\n",
    "print(int(\"10\"))    # Converte string para int, Saída: 10\n",
    "print(int(True))    # Converte booleano para int, Saída: 1\n",
    "print(int(False))   # Converte booleano para int, Saída: 0"
   ]
  },
  {
   "cell_type": "markdown",
   "id": "03344ec7",
   "metadata": {},
   "source": [
    "\n",
    "### Representação Binária, Octal e Hexadecimal\n",
    "\n",
    "Você pode representar inteiros em diferentes bases numéricas.\n",
    "\n",
    "#### Binário\n"
   ]
  },
  {
   "cell_type": "code",
   "execution_count": null,
   "id": "8168fe9e",
   "metadata": {},
   "outputs": [],
   "source": [
    "binario = bin(10)\n",
    "print(binario)  # Saída: 0b1010"
   ]
  },
  {
   "cell_type": "markdown",
   "id": "912d6de1",
   "metadata": {},
   "source": [
    "\n",
    "#### Octal\n"
   ]
  },
  {
   "cell_type": "code",
   "execution_count": null,
   "id": "15315f4c",
   "metadata": {},
   "outputs": [],
   "source": [
    "octal = oct(10)\n",
    "print(octal)  # Saída: 0o12"
   ]
  },
  {
   "cell_type": "markdown",
   "id": "ae94680e",
   "metadata": {},
   "source": [
    "\n",
    "#### Hexadecimal\n"
   ]
  },
  {
   "cell_type": "code",
   "execution_count": null,
   "id": "9e0819fb",
   "metadata": {},
   "outputs": [],
   "source": [
    "hexadecimal = hex(10)\n",
    "print(hexadecimal)  # Saída: 0xa"
   ]
  },
  {
   "cell_type": "markdown",
   "id": "557a97d4",
   "metadata": {},
   "source": [
    "\n",
    "### Geração de Números Aleatórios\n",
    "\n",
    "Para gerar números inteiros aleatórios, você pode usar o módulo `random`.\n"
   ]
  },
  {
   "cell_type": "code",
   "execution_count": null,
   "id": "bd028315",
   "metadata": {},
   "outputs": [],
   "source": [
    "import random\n",
    "\n",
    "aleatorio = random.randint(1, 100)  # Gera um número inteiro aleatório entre 1 e 100\n",
    "print(aleatorio)"
   ]
  },
  {
   "cell_type": "markdown",
   "id": "6a5be216",
   "metadata": {},
   "source": [
    "\n",
    "## Float\n",
    "\n",
    "Floats, ou números de ponto flutuante, são usados para representar números com partes fracionárias em Python. Eles são uma parte essencial da linguagem e permitem uma ampla variedade de operações matemáticas e científicas. Aqui está uma explicação teórica e detalhada sobre como trabalhar com floats em Python e as possíveis operações que você pode realizar com eles.\n",
    "\n",
    "### Definição e Criação de Floats\n",
    "\n",
    "Em Python, floats são definidos automaticamente quando você atribui um valor decimal a uma variável. Não há necessidade de declarar o tipo da variável explicitamente.\n"
   ]
  },
  {
   "cell_type": "code",
   "execution_count": null,
   "id": "a1d8f1b8",
   "metadata": {},
   "outputs": [],
   "source": [
    "# Definindo floats\n",
    "a = 10.5\n",
    "b = -3.14\n",
    "c = 0.0"
   ]
  },
  {
   "cell_type": "markdown",
   "id": "2c541cfb",
   "metadata": {},
   "source": [
    "\n",
    "Você também pode criar floats usando a notação científica (ou notação exponencial).\n"
   ]
  },
  {
   "cell_type": "code",
   "execution_count": null,
   "id": "cd82b157",
   "metadata": {},
   "outputs": [],
   "source": [
    "d = 1.23e4  # Equivalente a 1.23 * 10^4\n",
    "e = 4.56e-3 # Equivalente a 4.56 * 10^-3"
   ]
  },
  {
   "cell_type": "markdown",
   "id": "2725ccbc",
   "metadata": {},
   "source": [
    "\n",
    "### Operações Aritméticas\n",
    "\n",
    "Python oferece uma gama de operações aritméticas básicas que podem ser realizadas em floats.\n",
    "\n",
    "#### Adição (`+`)\n",
    "\n",
    "Adiciona dois números.\n"
   ]
  },
  {
   "cell_type": "code",
   "execution_count": null,
   "id": "0b29fbb2",
   "metadata": {},
   "outputs": [],
   "source": [
    "x = 5.5\n",
    "y = 3.2\n",
    "soma = x + y\n",
    "print(soma)  # Saída: 8.7"
   ]
  },
  {
   "cell_type": "markdown",
   "id": "8a6aa1d2",
   "metadata": {},
   "source": [
    "\n",
    "#### Subtração (`-`)\n",
    "\n",
    "Subtrai um número de outro.\n"
   ]
  },
  {
   "cell_type": "code",
   "execution_count": null,
   "id": "c9cc7751",
   "metadata": {},
   "outputs": [],
   "source": [
    "diferenca = x - y\n",
    "print(diferenca)  # Saída: 2.3"
   ]
  },
  {
   "cell_type": "markdown",
   "id": "a909268a",
   "metadata": {},
   "source": [
    "\n",
    "#### Multiplicação (`*`)\n",
    "\n",
    "Multiplica dois números.\n"
   ]
  },
  {
   "cell_type": "code",
   "execution_count": null,
   "id": "92be5262",
   "metadata": {},
   "outputs": [],
   "source": [
    "produto = x * y\n",
    "print(produto)  # Saída: 17.6"
   ]
  },
  {
   "cell_type": "markdown",
   "id": "90c46f90",
   "metadata": {},
   "source": [
    "\n",
    "#### Divisão (`/`)\n",
    "\n",
    "Divide um número pelo outro.\n"
   ]
  },
  {
   "cell_type": "code",
   "execution_count": null,
   "id": "45181f77",
   "metadata": {},
   "outputs": [],
   "source": [
    "divisao = x / y\n",
    "print(divisao)  # Saída: 1.71875"
   ]
  },
  {
   "cell_type": "markdown",
   "id": "507086c3",
   "metadata": {},
   "source": [
    "\n",
    "#### Divisão Inteira (`//`)\n",
    "\n",
    "Divide um número pelo outro, retornando apenas a parte inteira do quociente.\n"
   ]
  },
  {
   "cell_type": "code",
   "execution_count": null,
   "id": "7265d361",
   "metadata": {},
   "outputs": [],
   "source": [
    "divisao_inteira = x // y\n",
    "print(divisao_inteira)  # Saída: 1.0"
   ]
  },
  {
   "cell_type": "markdown",
   "id": "b871998a",
   "metadata": {},
   "source": [
    "\n",
    "#### Módulo (`%`)\n",
    "\n",
    "Retorna o restante da divisão de um número pelo outro.\n"
   ]
  },
  {
   "cell_type": "code",
   "execution_count": null,
   "id": "46f31f67",
   "metadata": {},
   "outputs": [],
   "source": [
    "resto = x % y\n",
    "print(resto)  # Saída: 2.3"
   ]
  },
  {
   "cell_type": "markdown",
   "id": "965bcc29",
   "metadata": {},
   "source": [
    "\n",
    "#### Exponenciação (`**`)\n",
    "\n",
    "Eleva um número à potência de outro.\n"
   ]
  },
  {
   "cell_type": "code",
   "execution_count": null,
   "id": "4a6e5d70",
   "metadata": {},
   "outputs": [],
   "source": [
    "potencia = x ** y\n",
    "print(potencia)  # Saída: 279.8416377442883"
   ]
  },
  {
   "cell_type": "markdown",
   "id": "2587e8ad",
   "metadata": {},
   "source": [
    "\n",
    "### Operações de Atribuição\n",
    "\n",
    "Python oferece operadores de atribuição que combinam uma operação aritmética com a atribuição.\n"
   ]
  },
  {
   "cell_type": "code",
   "execution_count": null,
   "id": "da3079c0",
   "metadata": {},
   "outputs": [],
   "source": [
    "a = 10.5\n",
    "a += 2.5  # Equivalente a a = a + 2.5\n",
    "print(a)  # Saída: 13.0\n",
    "\n",
    "a -= 1.5  # Equivalente a a = a - 1.5\n",
    "print(a)  # Saída: 11.5\n",
    "\n",
    "a *= 2  # Equivalente a a = a * 2\n",
    "print(a)  # Saída: 23.0\n",
    "\n",
    "a /= 2  # Equivalente a a = a / 2\n",
    "print(a)  # Saída: 11.5\n",
    "\n",
    "a //= 2  # Equivalente a a = a // 2\n",
    "print(a)  # Saída: 5.0\n",
    "\n",
    "a %= 2  # Equivalente a a = a % 2\n",
    "print(a)  # Saída: 1.0\n",
    "\n",
    "a **= 2  # Equivalente a a = a ** 2\n",
    "print(a)  # Saída: 1.0"
   ]
  },
  {
   "cell_type": "markdown",
   "id": "efd3cf77",
   "metadata": {},
   "source": [
    "\n",
    "### Operações de Comparação\n",
    "\n",
    "Python permite comparar floats usando operadores de comparação. Esses operadores retornam valores booleanos (`True` ou `False`).\n"
   ]
  },
  {
   "cell_type": "code",
   "execution_count": null,
   "id": "ba0829d9",
   "metadata": {},
   "outputs": [],
   "source": [
    "x = 5.5\n",
    "y = 3.2\n",
    "\n",
    "print(x == y)  # Igual a (==), Saída: False\n",
    "print(x != y)  # Diferente de (!=), Saída: True\n",
    "print(x > y)   # Maior que (>), Saída: True\n",
    "print(x < y)   # Menor que (<), Saída: False\n",
    "print(x >= y)  # Maior ou igual a (>=), Saída: True\n",
    "print(x <= y)  # Menor ou igual a (<=), Saída: False"
   ]
  },
  {
   "cell_type": "markdown",
   "id": "a8eeec5e",
   "metadata": {},
   "source": [
    "\n",
    "### Funções Matemáticas Embutidas\n",
    "\n",
    "Python fornece várias funções embutidas e no módulo `math` para operações matemáticas comuns com floats.\n",
    "\n",
    "#### `abs()`\n",
    "\n",
    "Retorna o valor absoluto de um número.\n"
   ]
  },
  {
   "cell_type": "code",
   "execution_count": null,
   "id": "d8c53c94",
   "metadata": {},
   "outputs": [],
   "source": [
    "a = -10.5\n",
    "print(abs(a))  # Saída: 10.5"
   ]
  },
  {
   "cell_type": "markdown",
   "id": "158e83ec",
   "metadata": {},
   "source": [
    "\n",
    "#### `round()`\n",
    "\n",
    "Arredonda um número para um número específico de dígitos.\n"
   ]
  },
  {
   "cell_type": "code",
   "execution_count": null,
   "id": "79de383d",
   "metadata": {},
   "outputs": [],
   "source": [
    "a = 5.678\n",
    "print(round(a, 2))  # Saída: 5.68"
   ]
  },
  {
   "cell_type": "markdown",
   "id": "9af462a6",
   "metadata": {},
   "source": [
    "\n",
    "#### `math.floor()`\n",
    "\n",
    "Arredonda um número para baixo para o inteiro mais próximo.\n"
   ]
  },
  {
   "cell_type": "code",
   "execution_count": null,
   "id": "e28f8c86",
   "metadata": {},
   "outputs": [],
   "source": [
    "import math\n",
    "print(math.floor(3.7))  # Saída: 3"
   ]
  },
  {
   "cell_type": "markdown",
   "id": "7adf8bab",
   "metadata": {},
   "source": [
    "\n",
    "#### `math.ceil()`\n",
    "\n",
    "Arredonda um número para cima para o inteiro mais próximo.\n"
   ]
  },
  {
   "cell_type": "code",
   "execution_count": null,
   "id": "daaa7992",
   "metadata": {},
   "outputs": [],
   "source": [
    "print(math.ceil(3.2))  # Saída: 4"
   ]
  },
  {
   "cell_type": "markdown",
   "id": "8b6e1783",
   "metadata": {},
   "source": [
    "\n",
    "#### `math.sqrt()`\n",
    "\n",
    "Retorna a raiz quadrada de um número.\n"
   ]
  },
  {
   "cell_type": "code",
   "execution_count": null,
   "id": "f0404e1c",
   "metadata": {},
   "outputs": [],
   "source": [
    "print(math.sqrt(16))  # Saída: 4.0"
   ]
  },
  {
   "cell_type": "markdown",
   "id": "53f865ed",
   "metadata": {},
   "source": [
    "\n",
    "### Conversão de Tipos\n",
    "\n",
    "Você pode converter outros tipos de dados para floats usando a função `float()`.\n"
   ]
  },
  {
   "cell_type": "code",
   "execution_count": null,
   "id": "852b66bf",
   "metadata": {},
   "outputs": [],
   "source": [
    "print(float(5))      # Converte int para float, Saída: 5.0\n",
    "print(float(\"3.14\")) # Converte string para float, Saída: 3.14"
   ]
  },
  {
   "cell_type": "markdown",
   "id": "325765ab",
   "metadata": {},
   "source": [
    "\n",
    "### Geração de Números Aleatórios\n",
    "\n",
    "Para gerar números de ponto flutuante aleatórios, você pode usar o módulo `random`.\n"
   ]
  },
  {
   "cell_type": "code",
   "execution_count": null,
   "id": "026e9951",
   "metadata": {},
   "outputs": [],
   "source": [
    "import random\n",
    "\n",
    "aleatorio = random.uniform(1.0, 10.0)  # Gera um número float aleatório entre 1.0 e 10.0\n",
    "print(aleatorio)"
   ]
  },
  {
   "cell_type": "markdown",
   "id": "dd0ff838",
   "metadata": {},
   "source": [
    "\n",
    "### Tratamento de Erros em Operações com Floats\n",
    "\n",
    "Floats podem introduzir erros de precisão devido à sua representação interna em binário. É importante estar ciente dessas limitações ao trabalhar com floats.\n",
    "\n",
    "##### Comparação com Tolerância\n",
    "\n",
    "Ao comparar floats, é recomendável usar uma tolerância para considerar pequenas diferenças.\n"
   ]
  },
  {
   "cell_type": "code",
   "execution_count": null,
   "id": "7bdf3d11",
   "metadata": {},
   "outputs": [],
   "source": [
    "a = 0.1 + 0.2\n",
    "b = 0.3\n",
    "tolerancia = 1e-9\n",
    "\n",
    "print(abs(a - b) < tolerancia)  # Saída: True"
   ]
  },
  {
   "cell_type": "markdown",
   "id": "f637d609",
   "metadata": {},
   "source": [
    "\n",
    "## Boolean\n",
    "\n",
    "Os booleanos são um tipo de dado fundamental em Python, representando valores de verdade: `True` e `False`. Eles são essenciais para controle de fluxo em programas, como condicionais e loops, e para expressar resultados de comparações lógicas. Aqui está uma explicação teórica e detalhada sobre como trabalhar com booleanos em Python e as possíveis operações que você pode realizar com eles.\n",
    "\n",
    "### Definição e Criação de Booleanos\n",
    "\n",
    "Em Python, os valores booleanos são representados pelas palavras-chave `True` e `False`. Eles podem ser atribuídos a variáveis da seguinte forma:\n"
   ]
  },
  {
   "cell_type": "code",
   "execution_count": null,
   "id": "676354dd",
   "metadata": {},
   "outputs": [],
   "source": [
    "verdadeiro = True\n",
    "falso = False"
   ]
  },
  {
   "cell_type": "markdown",
   "id": "4f30b13b",
   "metadata": {},
   "source": [
    "\n",
    "Os booleanos são frequentemente o resultado de expressões de comparação ou operações lógicas.\n",
    "\n",
    "### Operações de Comparação\n",
    "\n",
    "Python permite comparar valores usando operadores de comparação, que retornam booleanos.\n",
    "\n",
    "#### Igualdade (`==`)\n",
    "\n",
    "Verifica se dois valores são iguais.\n"
   ]
  },
  {
   "cell_type": "code",
   "execution_count": null,
   "id": "0135abda",
   "metadata": {},
   "outputs": [],
   "source": [
    "a = 5\n",
    "b = 3\n",
    "print(a == b)  # Saída: False\n",
    "print(a == 5)  # Saída: True"
   ]
  },
  {
   "cell_type": "markdown",
   "id": "f39463c3",
   "metadata": {},
   "source": [
    "\n",
    "#### Diferença (`!=`)\n",
    "\n",
    "Verifica se dois valores são diferentes.\n"
   ]
  },
  {
   "cell_type": "code",
   "execution_count": null,
   "id": "f3d55662",
   "metadata": {},
   "outputs": [],
   "source": [
    "print(a != b)  # Saída: True\n",
    "print(a != 5)  # Saída: False"
   ]
  },
  {
   "cell_type": "markdown",
   "id": "5077ed65",
   "metadata": {},
   "source": [
    "\n",
    "#### Maior que (`>`)\n",
    "\n",
    "Verifica se um valor é maior que o outro.\n"
   ]
  },
  {
   "cell_type": "code",
   "execution_count": null,
   "id": "e96e9687",
   "metadata": {},
   "outputs": [],
   "source": [
    "print(a > b)   # Saída: True\n",
    "print(a > 5)   # Saída: False"
   ]
  },
  {
   "cell_type": "markdown",
   "id": "7d4f0c37",
   "metadata": {},
   "source": [
    "\n",
    "#### Menor que (`<`)\n",
    "\n",
    "Verifica se um valor é menor que o outro.\n"
   ]
  },
  {
   "cell_type": "code",
   "execution_count": null,
   "id": "7c5f4111",
   "metadata": {},
   "outputs": [],
   "source": [
    "print(a < b)   # Saída: False\n",
    "print(a < 10)  # Saída: True"
   ]
  },
  {
   "cell_type": "markdown",
   "id": "756a48d2",
   "metadata": {},
   "source": [
    "\n",
    "#### Maior ou igual a (`>=`)\n",
    "\n",
    "Verifica se um valor é maior ou igual ao outro.\n"
   ]
  },
  {
   "cell_type": "code",
   "execution_count": null,
   "id": "b8262351",
   "metadata": {},
   "outputs": [],
   "source": [
    "print(a >= b)  # Saída: True\n",
    "print(a >= 5)  # Saída: True"
   ]
  },
  {
   "cell_type": "markdown",
   "id": "e0eb2030",
   "metadata": {},
   "source": [
    "\n",
    "#### Menor ou igual a (`<=`)\n",
    "\n",
    "Verifica se um valor é menor ou igual ao outro.\n"
   ]
  },
  {
   "cell_type": "code",
   "execution_count": null,
   "id": "b51ede23",
   "metadata": {},
   "outputs": [],
   "source": [
    "print(a <= b)  # Saída: False\n",
    "print(a <= 5)  # Saída: True"
   ]
  },
  {
   "cell_type": "markdown",
   "id": "a8d119be",
   "metadata": {},
   "source": [
    "\n",
    "### Operações Lógicas\n",
    "\n",
    "Python oferece operadores lógicos para combinar expressões booleanas.\n",
    "\n",
    "#### E (`and`)\n",
    "\n",
    "Retorna `True` se ambas as expressões forem verdadeiras.\n"
   ]
  },
  {
   "cell_type": "code",
   "execution_count": null,
   "id": "a4ef933c",
   "metadata": {},
   "outputs": [],
   "source": [
    "x = True\n",
    "y = False\n",
    "print(x and y)  # Saída: False\n",
    "print(x and not y)  # Saída: True"
   ]
  },
  {
   "cell_type": "markdown",
   "id": "66b974b2",
   "metadata": {},
   "source": [
    "\n",
    "#### Ou (`or`)\n",
    "\n",
    "Retorna `True` se pelo menos uma das expressões for verdadeira.\n"
   ]
  },
  {
   "cell_type": "code",
   "execution_count": null,
   "id": "fbdb1cb2",
   "metadata": {},
   "outputs": [],
   "source": [
    "print(x or y)  # Saída: True\n",
    "print(y or y)  # Saída: False"
   ]
  },
  {
   "cell_type": "markdown",
   "id": "89a4f5d2",
   "metadata": {},
   "source": [
    "\n",
    "#### Não (`not`)\n",
    "\n",
    "Inverte o valor de verdade de uma expressão.\n"
   ]
  },
  {
   "cell_type": "code",
   "execution_count": null,
   "id": "778b7c7b",
   "metadata": {},
   "outputs": [],
   "source": [
    "print(not x)  # Saída: False\n",
    "print(not y)  # Saída: True"
   ]
  },
  {
   "cell_type": "markdown",
   "id": "c05feb5c",
   "metadata": {},
   "source": [
    "\n",
    "### Funções Booleanas Embutidas\n",
    "\n",
    "Python fornece algumas funções embutidas úteis para trabalhar com booleanos.\n",
    "\n",
    "#### `bool()`\n",
    "\n",
    "Converte um valor para seu equivalente booleano.\n"
   ]
  },
  {
   "cell_type": "code",
   "execution_count": null,
   "id": "422c3f8c",
   "metadata": {},
   "outputs": [],
   "source": [
    "print(bool(0))      # Saída: False\n",
    "print(bool(1))      # Saída: True\n",
    "print(bool(\"\"))     # Saída: False\n",
    "print(bool(\"Python\"))  # Saída: True"
   ]
  },
  {
   "cell_type": "markdown",
   "id": "c24ee876",
   "metadata": {},
   "source": [
    "\n",
    "#### `any()`\n",
    "\n",
    "Retorna `True` se pelo menos um dos elementos do iterável for verdadeiro.\n"
   ]
  },
  {
   "cell_type": "code",
   "execution_count": null,
   "id": "0175d12e",
   "metadata": {},
   "outputs": [],
   "source": [
    "print(any([False, False, True]))  # Saída: True\n",
    "print(any([False, False, False]))  # Saída: False"
   ]
  },
  {
   "cell_type": "markdown",
   "id": "d923429c",
   "metadata": {},
   "source": [
    "\n",
    "#### `all()`\n",
    "\n",
    "Retorna `True` se todos os elementos do iterável forem verdadeiros.\n"
   ]
  },
  {
   "cell_type": "code",
   "execution_count": null,
   "id": "c393593d",
   "metadata": {},
   "outputs": [],
   "source": [
    "print(all([True, True, True]))  # Saída: True\n",
    "print(all([True, False, True]))  # Saída: False"
   ]
  },
  {
   "cell_type": "markdown",
   "id": "85a8cfc0",
   "metadata": {},
   "source": [
    "\n",
    "### Uso de Booleanos em Condicionais\n",
    "\n",
    "Os booleanos são fundamentais para estruturas de controle de fluxo, como condicionais e loops.\n",
    "\n",
    "#### `if` e `else`\n"
   ]
  },
  {
   "cell_type": "code",
   "execution_count": null,
   "id": "4a9137dd",
   "metadata": {},
   "outputs": [],
   "source": [
    "a = 10\n",
    "b = 5\n",
    "\n",
    "if a > b:\n",
    "    print(\"a é maior que b\")\n",
    "else:\n",
    "    print(\"a não é maior que b\")"
   ]
  },
  {
   "cell_type": "markdown",
   "id": "472e1ad6",
   "metadata": {},
   "source": [
    "\n",
    "#### `elif`\n"
   ]
  },
  {
   "cell_type": "code",
   "execution_count": null,
   "id": "114dc394",
   "metadata": {},
   "outputs": [],
   "source": [
    "a = 10\n",
    "b = 10\n",
    "\n",
    "if a > b:\n",
    "    print(\"a é maior que b\")\n",
    "elif a == b:\n",
    "    print(\"a é igual a b\")\n",
    "else:\n",
    "    print(\"a é menor que b\")"
   ]
  },
  {
   "cell_type": "markdown",
   "id": "508c40ab",
   "metadata": {},
   "source": [
    "\n",
    "### Uso de Booleanos em Loops\n",
    "\n",
    "#### `while`\n"
   ]
  },
  {
   "cell_type": "code",
   "execution_count": null,
   "id": "b45b0e2c",
   "metadata": {},
   "outputs": [],
   "source": [
    "count = 0\n",
    "\n",
    "while count < 5:\n",
    "    print(count)\n",
    "    count += 1"
   ]
  },
  {
   "cell_type": "markdown",
   "id": "4076c44c",
   "metadata": {},
   "source": [
    "\n",
    "### Booleanos e Estruturas de Dados\n",
    "\n",
    "Python considera vários valores como `False` em um contexto booleano, incluindo:\n",
    "\n",
    "- `None`\n",
    "- `False`\n",
    "- Zero de qualquer tipo: `0`, `0.0`, `0j`\n",
    "- Sequências e coleções vazias: `''`, `()`, `[]`, `{}`, `set()`\n",
    "\n",
    "Todos os outros valores são considerados `True`.\n",
    "\n",
    "### Comparações Múltiplas\n",
    "\n",
    "Python permite encadear comparações para expressões mais concisas.\n"
   ]
  },
  {
   "cell_type": "code",
   "execution_count": null,
   "id": "5f3fc423",
   "metadata": {},
   "outputs": [],
   "source": [
    "a = 5\n",
    "print(1 < a < 10)  # Saída: True\n",
    "print(10 < a < 20)  # Saída: False"
   ]
  },
  {
   "cell_type": "markdown",
   "id": "311c54fc",
   "metadata": {},
   "source": []
  }
 ],
 "metadata": {},
 "nbformat": 4,
 "nbformat_minor": 5
}
