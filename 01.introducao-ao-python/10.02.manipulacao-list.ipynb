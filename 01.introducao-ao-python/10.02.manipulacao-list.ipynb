{
 "cells": [
  {
   "cell_type": "markdown",
   "id": "614dd20f",
   "metadata": {},
   "source": [
    "# Exercícios - LIST\n",
    "\n",
    "### Exercício 1: Filtragem de Números Pares\n",
    "Escreva uma função chamada `filtrar_pares` que recebe uma lista de números inteiros e retorna uma nova lista contendo apenas os números pares da lista original.\n"
   ]
  },
  {
   "cell_type": "code",
   "execution_count": null,
   "id": "41702261",
   "metadata": {},
   "outputs": [],
   "source": [
    "def filtrar_pares(numeros):\n",
    "    pares = []\n",
    "    pass\n",
    "\n",
    "# Teste a função\n",
    "print(filtrar_pares([1, 2, 3, 4, 5, 6, 7, 8, 9, 10]))"
   ]
  },
  {
   "cell_type": "markdown",
   "id": "5fa3245a",
   "metadata": {},
   "source": [
    "\n",
    "### Exercício 2: Soma dos Elementos\n",
    "Crie uma função chamada `soma_elementos` que recebe uma lista de números e retorna a soma de todos os elementos da lista.\n"
   ]
  },
  {
   "cell_type": "code",
   "execution_count": null,
   "id": "875aa170",
   "metadata": {},
   "outputs": [],
   "source": [
    "def soma_elementos(numeros):\n",
    "    pass\n",
    "\n",
    "# Teste a função\n",
    "print(soma_elementos([1, 2, 3, 4, 5]))"
   ]
  },
  {
   "cell_type": "markdown",
   "id": "422b84f1",
   "metadata": {},
   "source": [
    "\n",
    "### Exercício 3: Remoção de Duplicatas\n",
    "Escreva uma função chamada `remover_duplicatas` que recebe uma lista e retorna uma nova lista sem elementos duplicados, mantendo a ordem original dos elementos.\n"
   ]
  },
  {
   "cell_type": "code",
   "execution_count": null,
   "id": "b4c05ed4",
   "metadata": {},
   "outputs": [],
   "source": [
    "def remover_duplicatas(lista):\n",
    "    lista_sem_duplicatas = []\n",
    "    pass\n",
    "    return lista_sem_duplicatas\n",
    "\n",
    "# Teste a função\n",
    "print(remover_duplicatas([1, 2, 2, 3, 4, 4, 5]))"
   ]
  },
  {
   "cell_type": "markdown",
   "id": "d45ae2e5",
   "metadata": {},
   "source": []
  }
 ],
 "metadata": {},
 "nbformat": 4,
 "nbformat_minor": 5
}
