{
 "cells": [
  {
   "cell_type": "markdown",
   "id": "c8829fed",
   "metadata": {},
   "source": [
    "# Exercícios - LIST - GABARITO\n",
    "\n",
    "### Exercício 1: Filtragem de Números Pares\n",
    "Escreva uma função chamada `filtrar_pares` que recebe uma lista de números inteiros e retorna uma nova lista contendo apenas os números pares da lista original.\n",
    "\n",
    "- Modo conservador"
   ]
  },
  {
   "cell_type": "code",
   "execution_count": null,
   "id": "e6eb10b4",
   "metadata": {},
   "outputs": [],
   "source": [
    "def filtrar_pares(numeros):\n",
    "    pares = []\n",
    "    for numero in numeros:\n",
    "        if numero % 2 == 0:\n",
    "            pares.append(numero)\n",
    "    return pares\n",
    "\n",
    "# Teste a função\n",
    "print(filtrar_pares([1, 2, 3, 4, 5, 6, 7, 8, 9, 10]))"
   ]
  },
  {
   "cell_type": "markdown",
   "id": "077b2593",
   "metadata": {},
   "source": [
    "\n",
    "- Modo pythonico"
   ]
  },
  {
   "cell_type": "code",
   "execution_count": null,
   "id": "caf3d818",
   "metadata": {},
   "outputs": [],
   "source": [
    "def filtrar_pares(numeros):\n",
    "    return [numero for numero in numeros if numero % 2 == 0]\n",
    "\n",
    "# Teste a função\n",
    "print(filtrar_pares([1, 2, 3, 4, 5, 6, 7, 8, 9, 10]))"
   ]
  },
  {
   "cell_type": "markdown",
   "id": "e6adefe2",
   "metadata": {},
   "source": [
    "\n",
    "### Exercício 2: Soma dos Elementos\n",
    "Crie uma função chamada `soma_elementos` que recebe uma lista de números e retorna a soma de todos os elementos da lista.\n"
   ]
  },
  {
   "cell_type": "code",
   "execution_count": null,
   "id": "eb05fda0",
   "metadata": {},
   "outputs": [],
   "source": [
    "def soma_elementos(numeros):\n",
    "    return sum(numeros)\n",
    "\n",
    "# Teste a função\n",
    "print(soma_elementos([1, 2, 3, 4, 5]))"
   ]
  },
  {
   "cell_type": "markdown",
   "id": "bc74c01d",
   "metadata": {},
   "source": [
    "\n",
    "### Exercício 3: Remoção de Duplicatas\n",
    "Escreva uma função chamada `remover_duplicatas` que recebe uma lista e retorna uma nova lista sem elementos duplicados, mantendo a ordem original dos elementos.\n",
    "\n",
    "- Modo conservador"
   ]
  },
  {
   "cell_type": "code",
   "execution_count": null,
   "id": "e512d939",
   "metadata": {},
   "outputs": [],
   "source": [
    "def remover_duplicatas(lista):\n",
    "    lista_sem_duplicatas = []\n",
    "    for item in lista:\n",
    "        if item not in lista_sem_duplicatas:\n",
    "            lista_sem_duplicatas.append(item)\n",
    "    return lista_sem_duplicatas\n",
    "\n",
    "# Teste a função\n",
    "print(remover_duplicatas([1, 2, 2, 3, 4, 4, 5]))"
   ]
  },
  {
   "cell_type": "markdown",
   "id": "31d6e8b0",
   "metadata": {},
   "source": [
    "\n",
    "- Modo pythonico"
   ]
  },
  {
   "cell_type": "code",
   "execution_count": null,
   "id": "2cd74d6d",
   "metadata": {},
   "outputs": [],
   "source": [
    "def remover_duplicatas(lista):\n",
    "    lista_sem_duplicatas = []\n",
    "    [lista_sem_duplicatas.append(item) for item in lista if item not in lista_sem_duplicatas]\n",
    "    return lista_sem_duplicatas\n",
    "\n",
    "# Teste a função\n",
    "print(remover_duplicatas([1, 2, 2, 3, 4, 4, 5]))"
   ]
  },
  {
   "cell_type": "markdown",
   "id": "171e8f58",
   "metadata": {},
   "source": [
    "\n",
    "- Outra forma"
   ]
  },
  {
   "cell_type": "code",
   "execution_count": null,
   "id": "12fa0bc7",
   "metadata": {},
   "outputs": [],
   "source": [
    "def remover_duplicatas(lista):\n",
    "    return list(set(lista))\n",
    "\n",
    "# Teste a função\n",
    "print(remover_duplicatas([1, 2, 2, 3, 4, 4, 5]))"
   ]
  },
  {
   "cell_type": "markdown",
   "id": "4cbde456",
   "metadata": {},
   "source": [
    "\n"
   ]
  }
 ],
 "metadata": {},
 "nbformat": 4,
 "nbformat_minor": 5
}
