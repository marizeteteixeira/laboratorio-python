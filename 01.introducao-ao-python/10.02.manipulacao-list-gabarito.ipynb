{
 "cells": [
  {
   "cell_type": "markdown",
   "id": "f15db495",
   "metadata": {},
   "source": [
    "# Exercícios - LIST - GABARITO\n",
    "\n",
    "### Exercício 1: Filtragem de Números Pares\n",
    "Escreva uma função chamada `filtrar_pares` que recebe uma lista de números inteiros e retorna uma nova lista contendo apenas os números pares da lista original.\n",
    "\n",
    "- Modo conservador"
   ]
  },
  {
   "cell_type": "code",
   "execution_count": null,
   "id": "817f3e83",
   "metadata": {},
   "outputs": [],
   "source": [
    "def filtrar_pares(numeros):\n",
    "    pares = []\n",
    "    for numero in numeros:\n",
    "        if numero % 2 == 0:\n",
    "            pares.append(numero)\n",
    "    return pares\n",
    "\n",
    "# Teste a função\n",
    "print(filtrar_pares([1, 2, 3, 4, 5, 6, 7, 8, 9, 10]))"
   ]
  },
  {
   "cell_type": "markdown",
   "id": "639d4c36",
   "metadata": {},
   "source": [
    "\n",
    "- Modo pythonico"
   ]
  },
  {
   "cell_type": "code",
   "execution_count": null,
   "id": "c09ac05b",
   "metadata": {},
   "outputs": [],
   "source": [
    "def filtrar_pares(numeros):\n",
    "    return [numero for numero in numeros if numero % 2 == 0]\n",
    "\n",
    "# Teste a função\n",
    "print(filtrar_pares([1, 2, 3, 4, 5, 6, 7, 8, 9, 10]))"
   ]
  },
  {
   "cell_type": "markdown",
   "id": "250649fd",
   "metadata": {},
   "source": [
    "\n",
    "### Exercício 2: Soma dos Elementos\n",
    "Crie uma função chamada `soma_elementos` que recebe uma lista de números e retorna a soma de todos os elementos da lista.\n"
   ]
  },
  {
   "cell_type": "code",
   "execution_count": null,
   "id": "0a4cd471",
   "metadata": {},
   "outputs": [],
   "source": [
    "def soma_elementos(numeros):\n",
    "    return sum(numeros)\n",
    "\n",
    "# Teste a função\n",
    "print(soma_elementos([1, 2, 3, 4, 5]))"
   ]
  },
  {
   "cell_type": "markdown",
   "id": "cef7a9be",
   "metadata": {},
   "source": [
    "\n",
    "### Exercício 3: Remoção de Duplicatas\n",
    "Escreva uma função chamada `remover_duplicatas` que recebe uma lista e retorna uma nova lista sem elementos duplicados, mantendo a ordem original dos elementos.\n",
    "\n",
    "- Modo conservador"
   ]
  },
  {
   "cell_type": "code",
   "execution_count": null,
   "id": "4ad351a9",
   "metadata": {},
   "outputs": [],
   "source": [
    "def remover_duplicatas(lista):\n",
    "    lista_sem_duplicatas = []\n",
    "    for item in lista:\n",
    "        if item not in lista_sem_duplicatas:\n",
    "            lista_sem_duplicatas.append(item)\n",
    "    return lista_sem_duplicatas\n",
    "\n",
    "# Teste a função\n",
    "print(remover_duplicatas([1, 2, 2, 3, 4, 4, 5]))"
   ]
  },
  {
   "cell_type": "markdown",
   "id": "e2878cb1",
   "metadata": {},
   "source": [
    "\n",
    "- Modo pythonico"
   ]
  },
  {
   "cell_type": "code",
   "execution_count": null,
   "id": "4a17db12",
   "metadata": {},
   "outputs": [],
   "source": [
    "def remover_duplicatas(lista):\n",
    "    lista_sem_duplicatas = []\n",
    "    [lista_sem_duplicatas.append(item) for item in lista if item not in lista_sem_duplicatas]\n",
    "    return lista_sem_duplicatas\n",
    "\n",
    "# Teste a função\n",
    "print(remover_duplicatas([1, 2, 2, 3, 4, 4, 5]))"
   ]
  },
  {
   "cell_type": "markdown",
   "id": "66282c8a",
   "metadata": {},
   "source": [
    "\n",
    "- Outra forma"
   ]
  },
  {
   "cell_type": "code",
   "execution_count": null,
   "id": "797b6104",
   "metadata": {},
   "outputs": [],
   "source": [
    "def remover_duplicatas(lista):\n",
    "    return list(set(lista))\n",
    "\n",
    "# Teste a função\n",
    "print(remover_duplicatas([1, 2, 2, 3, 4, 4, 5]))"
   ]
  },
  {
   "cell_type": "markdown",
   "id": "5bbfeace",
   "metadata": {},
   "source": [
    "\n"
   ]
  }
 ],
 "metadata": {},
 "nbformat": 4,
 "nbformat_minor": 5
}
