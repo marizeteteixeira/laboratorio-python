{
 "cells": [
  {
   "cell_type": "markdown",
   "id": "3f593301",
   "metadata": {},
   "source": [
    "#### 5. Estruturas de Repetição\n",
    "\n",
    "Estruturas de repetição permitem executar um bloco de código várias vezes.\n",
    "\n",
    "##### Laço `for`\n"
   ]
  },
  {
   "cell_type": "code",
   "execution_count": null,
   "id": "88f97b30",
   "metadata": {},
   "outputs": [],
   "source": [
    "# Iterando sobre uma lista\n",
    "frutas = [\"maçã\", \"banana\", \"laranja\"]\n",
    "\n",
    "for fruta in frutas:\n",
    "    print(fruta)\n",
    "# Saída:\n",
    "# maçã\n",
    "# banana\n",
    "# laranja"
   ]
  },
  {
   "cell_type": "markdown",
   "id": "e14412fe",
   "metadata": {},
   "source": [
    "\n",
    "##### Laço `while`\n"
   ]
  },
  {
   "cell_type": "code",
   "execution_count": null,
   "id": "a7a6bbb9",
   "metadata": {},
   "outputs": [],
   "source": [
    "# Laço while\n",
    "contador = 0\n",
    "\n",
    "while contador < 5:\n",
    "    print(contador)\n",
    "    contador += 1\n",
    "\n",
    "# Saída:\n",
    "# 0\n",
    "# 1\n",
    "# 2\n",
    "# 3\n",
    "# 4"
   ]
  },
  {
   "cell_type": "markdown",
   "id": "96c8eaa9",
   "metadata": {},
   "source": []
  }
 ],
 "metadata": {},
 "nbformat": 4,
 "nbformat_minor": 5
}
