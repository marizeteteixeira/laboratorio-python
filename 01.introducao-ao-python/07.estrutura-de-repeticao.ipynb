{
 "cells": [
  {
   "cell_type": "markdown",
   "id": "afc38745",
   "metadata": {},
   "source": [
    "#### 5. Estruturas de Repetição\n",
    "\n",
    "Estruturas de repetição permitem executar um bloco de código várias vezes.\n",
    "\n",
    "##### Laço `for`\n"
   ]
  },
  {
   "cell_type": "code",
   "execution_count": null,
   "id": "f22cc2f5",
   "metadata": {},
   "outputs": [],
   "source": [
    "# Iterando sobre uma lista\n",
    "frutas = [\"maçã\", \"banana\", \"laranja\"]\n",
    "\n",
    "for fruta in frutas:\n",
    "    print(fruta)\n",
    "# Saída:\n",
    "# maçã\n",
    "# banana\n",
    "# laranja"
   ]
  },
  {
   "cell_type": "markdown",
   "id": "f91439e6",
   "metadata": {},
   "source": [
    "\n",
    "##### Laço `while`\n"
   ]
  },
  {
   "cell_type": "code",
   "execution_count": null,
   "id": "af59ab59",
   "metadata": {},
   "outputs": [],
   "source": [
    "# Laço while\n",
    "contador = 0\n",
    "\n",
    "while contador < 5:\n",
    "    print(contador)\n",
    "    contador += 1\n",
    "\n",
    "# Saída:\n",
    "# 0\n",
    "# 1\n",
    "# 2\n",
    "# 3\n",
    "# 4"
   ]
  },
  {
   "cell_type": "markdown",
   "id": "379d5fa3",
   "metadata": {},
   "source": []
  }
 ],
 "metadata": {},
 "nbformat": 4,
 "nbformat_minor": 5
}
