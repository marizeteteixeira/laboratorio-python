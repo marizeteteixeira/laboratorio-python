{
 "cells": [
  {
   "cell_type": "markdown",
   "id": "b8d95762",
   "metadata": {},
   "source": [
    "# Exercícios - SET\n",
    "\n",
    "### Exercício 1: União de Conjuntos\n",
    "Crie uma função chamada `uniao_conjuntos` que recebe dois conjuntos e retorna um novo conjunto que é a união dos dois.\n"
   ]
  },
  {
   "cell_type": "code",
   "execution_count": null,
   "id": "57ce1e7d",
   "metadata": {},
   "outputs": [],
   "source": [
    "def uniao_conjuntos(conjunto1, conjunto2):\n",
    "    pass\n",
    "\n",
    "# Teste a função\n",
    "print(uniao_conjuntos({1, 2, 3}, {3, 4, 5}))"
   ]
  },
  {
   "cell_type": "markdown",
   "id": "48c81e63",
   "metadata": {},
   "source": [
    "\n",
    "### Exercício 2: Interseção de Conjuntos\n",
    "Escreva uma função chamada `intersecao_conjuntos` que recebe dois conjuntos e retorna um novo conjunto que é a interseção dos dois.\n"
   ]
  },
  {
   "cell_type": "code",
   "execution_count": null,
   "id": "82ee0bea",
   "metadata": {},
   "outputs": [],
   "source": [
    "def intersecao_conjuntos(conjunto1, conjunto2):\n",
    "    pass\n",
    "\n",
    "# Teste a função\n",
    "print(intersecao_conjuntos({1, 2, 3}, {3, 4, 5}))"
   ]
  },
  {
   "cell_type": "markdown",
   "id": "746aeab7",
   "metadata": {},
   "source": [
    "\n",
    "### Exercício 3: Diferença de Conjuntos\n",
    "Crie uma função chamada `diferenca_conjuntos` que recebe dois conjuntos e retorna um novo conjunto que é a diferença entre o primeiro e o segundo conjunto.\n"
   ]
  },
  {
   "cell_type": "code",
   "execution_count": null,
   "id": "47d0ce8a",
   "metadata": {},
   "outputs": [],
   "source": [
    "def diferenca_conjuntos(conjunto1, conjunto2):\n",
    "    pass\n",
    "\n",
    "# Teste a função\n",
    "print(diferenca_conjuntos({1, 2, 3}, {3, 4, 5}))"
   ]
  },
  {
   "cell_type": "markdown",
   "id": "bb7d9ccf",
   "metadata": {},
   "source": []
  }
 ],
 "metadata": {},
 "nbformat": 4,
 "nbformat_minor": 5
}
