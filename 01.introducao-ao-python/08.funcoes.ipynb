{
 "cells": [
  {
   "cell_type": "markdown",
   "id": "7f2cde73",
   "metadata": {},
   "source": [
    "#### 7. Funções\n",
    "\n",
    "Funções são blocos de código que realizam tarefas específicas e podem ser reutilizadas em diferentes partes de um programa. Em Python, as funções são definidas usando a palavra-chave `def`. Elas podem aceitar argumentos, retornar valores, e são fundamentais para a modularização e a reutilização do código.\n",
    "\n",
    "##### Exemplo Básico\n"
   ]
  },
  {
   "cell_type": "code",
   "execution_count": null,
   "id": "041b3908",
   "metadata": {},
   "outputs": [],
   "source": [
    "def saudacao(nome):\n",
    "    \"\"\"\n",
    "    Esta função retorna uma saudação personalizada.\n",
    "    \n",
    "    :param nome: O nome da pessoa a ser saudada.\n",
    "    :return: Uma string de saudação.\n",
    "    \"\"\"\n",
    "    return f\"Olá, {nome}!\"\n",
    "\n",
    "# Chamando a função\n",
    "mensagem = saudacao(\"Alice\")\n",
    "print(mensagem)  # Saída: Olá, Alice!"
   ]
  },
  {
   "cell_type": "markdown",
   "id": "96242ed8",
   "metadata": {},
   "source": [
    "\n",
    "##### Parâmetros e Argumentos\n",
    "\n",
    "- **Parâmetros**: Variáveis listadas entre parênteses na definição da função.\n",
    "- **Argumentos**: Valores passados para a função quando ela é chamada.\n",
    "\n",
    "###### Exemplos com Múltiplos Parâmetros\n"
   ]
  },
  {
   "cell_type": "code",
   "execution_count": null,
   "id": "1ca534a5",
   "metadata": {},
   "outputs": [],
   "source": [
    "def soma(a, b):\n",
    "    \"\"\"\n",
    "    Esta função retorna a soma de dois números.\n",
    "    \n",
    "    :param a: Primeiro número.\n",
    "    :param b: Segundo número.\n",
    "    :return: A soma de a e b.\n",
    "    \"\"\"\n",
    "    return a + b\n",
    "\n",
    "resultado = soma(3, 5)\n",
    "print(resultado)  # Saída: 8"
   ]
  },
  {
   "cell_type": "markdown",
   "id": "6ee26832",
   "metadata": {},
   "source": [
    "\n",
    "##### Argumentos Padrão\n",
    "\n",
    "Você pode definir valores padrão para os parâmetros, tornando-os opcionais ao chamar a função.\n"
   ]
  },
  {
   "cell_type": "code",
   "execution_count": null,
   "id": "a61bf54e",
   "metadata": {},
   "outputs": [],
   "source": [
    "def saudacao(nome, saudacao=\"Olá\"):\n",
    "    \"\"\"\n",
    "    Esta função retorna uma saudação personalizada, com uma saudação padrão.\n",
    "    \n",
    "    :param nome: O nome da pessoa a ser saudada.\n",
    "    :param saudacao: A saudação a ser usada. Padrão é 'Olá'.\n",
    "    :return: Uma string de saudação.\n",
    "    \"\"\"\n",
    "    return f\"{saudacao}, {nome}!\"\n",
    "\n",
    "print(saudacao(\"Alice\"))  # Saída: Olá, Alice!\n",
    "print(saudacao(\"Bob\", \"Oi\"))  # Saída: Oi, Bob!"
   ]
  },
  {
   "cell_type": "markdown",
   "id": "7f7961d9",
   "metadata": {},
   "source": [
    "\n",
    "##### Argumentos Variáveis\n",
    "\n",
    "Python permite funções com um número variável de argumentos usando `*args` e `**kwargs`.\n",
    "\n",
    "- **`*args`**: Usado para passar uma lista de argumentos de comprimento variável.\n",
    "- **`**kwargs`**: Usado para passar um dicionário de argumentos nomeados de comprimento variável.\n",
    "\n",
    "###### Exemplo com `*args`\n"
   ]
  },
  {
   "cell_type": "code",
   "execution_count": null,
   "id": "56a89f71",
   "metadata": {},
   "outputs": [],
   "source": [
    "def soma(*numeros):\n",
    "    \"\"\"\n",
    "    Esta função retorna a soma de um número variável de argumentos.\n",
    "    \n",
    "    :param numeros: Uma lista de números a serem somados.\n",
    "    :return: A soma dos números.\n",
    "    \"\"\"\n",
    "    total = 0\n",
    "    for numero in numeros:\n",
    "        total += numero\n",
    "    return total\n",
    "\n",
    "print(soma(1, 2, 3, 4))  # Saída: 10\n",
    "print(soma(10, 20))  # Saída: 30"
   ]
  },
  {
   "cell_type": "markdown",
   "id": "a0fce916",
   "metadata": {},
   "source": [
    "\n",
    "###### Exemplo com `**kwargs`\n"
   ]
  },
  {
   "cell_type": "code",
   "execution_count": null,
   "id": "6aec710b",
   "metadata": {},
   "outputs": [],
   "source": [
    "def mostrar_info(**kwargs):\n",
    "    \"\"\"\n",
    "    Esta função imprime informações fornecidas como argumentos nomeados.\n",
    "    \n",
    "    :param kwargs: Um dicionário de argumentos nomeados.\n",
    "    \"\"\"\n",
    "    for chave, valor in kwargs.items():\n",
    "        print(f\"{chave}: {valor}\")\n",
    "\n",
    "mostrar_info(nome=\"Alice\", idade=30, cidade=\"São Paulo\")\n",
    "# Saída:\n",
    "# nome: Alice\n",
    "# idade: 30\n",
    "# cidade: São Paulo"
   ]
  },
  {
   "cell_type": "markdown",
   "id": "65d42919",
   "metadata": {},
   "source": [
    "\n",
    "##### Funções Aninhadas\n",
    "\n",
    "Python permite definir funções dentro de outras funções.\n"
   ]
  },
  {
   "cell_type": "code",
   "execution_count": null,
   "id": "d315fd2d",
   "metadata": {},
   "outputs": [],
   "source": [
    "def pai():\n",
    "    \"\"\"\n",
    "    Esta função contém uma função aninhada.\n",
    "    \"\"\"\n",
    "    print(\"Função pai\")\n",
    "    \n",
    "    def filho():\n",
    "        print(\"Função filho\")\n",
    "    \n",
    "    filho()\n",
    "\n",
    "pai()\n",
    "# Saída:\n",
    "# Função pai\n",
    "# Função filho"
   ]
  },
  {
   "cell_type": "markdown",
   "id": "be00f9ed",
   "metadata": {},
   "source": [
    "\n",
    "##### Funções como Objetos de Primeira Classe\n",
    "\n",
    "Em Python, funções são objetos de primeira classe, o que significa que podem ser passadas como argumentos, retornadas por outras funções e atribuídas a variáveis.\n",
    "\n",
    "###### Exemplo: Passando Funções como Argumentos\n"
   ]
  },
  {
   "cell_type": "code",
   "execution_count": null,
   "id": "8ef8bfb6",
   "metadata": {},
   "outputs": [],
   "source": [
    "def aplicacao(func, valor):\n",
    "    \"\"\"\n",
    "    Esta função aplica uma função a um valor e retorna o resultado.\n",
    "    \n",
    "    :param func: A função a ser aplicada.\n",
    "    :param valor: O valor a ser passado para a função.\n",
    "    :return: O resultado da função aplicada ao valor.\n",
    "    \"\"\"\n",
    "    return func(valor)\n",
    "\n",
    "def quadrado(x):\n",
    "    return x * x\n",
    "\n",
    "resultado = aplicacao(quadrado, 5)\n",
    "print(resultado)  # Saída: 25"
   ]
  },
  {
   "cell_type": "markdown",
   "id": "7d81110f",
   "metadata": {},
   "source": [
    "\n",
    "###### Exemplo: Funções Retornando Funções\n"
   ]
  },
  {
   "cell_type": "code",
   "execution_count": null,
   "id": "a91b449c",
   "metadata": {},
   "outputs": [],
   "source": [
    "def criar_multiplicador(fator):\n",
    "    \"\"\"\n",
    "    Esta função retorna uma função que multiplica seu argumento pelo fator dado.\n",
    "    \n",
    "    :param fator: O fator de multiplicação.\n",
    "    :return: Uma função que multiplica seu argumento pelo fator.\n",
    "    \"\"\"\n",
    "    def multiplicar(numero):\n",
    "        return numero * fator\n",
    "    return multiplicar\n",
    "\n",
    "multiplicador_por_3 = criar_multiplicador(3)\n",
    "print(multiplicador_por_3(10))  # Saída: 30"
   ]
  },
  {
   "cell_type": "markdown",
   "id": "99b61675",
   "metadata": {},
   "source": [
    "\n",
    "##### Funções Lambda\n",
    "\n",
    "Funções lambda são pequenas funções anônimas definidas usando a palavra-chave `lambda`. Elas são úteis para funções curtas e simples.\n"
   ]
  },
  {
   "cell_type": "code",
   "execution_count": null,
   "id": "b53f9414",
   "metadata": {},
   "outputs": [],
   "source": [
    "# Função lambda que soma dois números\n",
    "soma = lambda a, b: a + b\n",
    "print(soma(3, 5))  # Saída: 8\n",
    "\n",
    "# Usando lambda com map\n",
    "numeros = [1, 2, 3, 4]\n",
    "quadrados = list(map(lambda x: x * x, numeros))\n",
    "print(quadrados)  # Saída: [1, 4, 9, 16]"
   ]
  },
  {
   "cell_type": "markdown",
   "id": "a3143504",
   "metadata": {},
   "source": [
    "\n",
    "##### Funções Decoradoras\n",
    "\n",
    "Decoradores são funções que modificam o comportamento de outras funções. Eles são frequentemente usados para adicionar funcionalidades adicionais a funções existentes.\n",
    "\n",
    "###### Exemplo de Decorador\n"
   ]
  },
  {
   "cell_type": "code",
   "execution_count": null,
   "id": "b9579c12",
   "metadata": {},
   "outputs": [],
   "source": [
    "def decorador(func):\n",
    "    \"\"\"\n",
    "    Este decorador adiciona uma mensagem antes e depois da execução da função decorada.\n",
    "    \n",
    "    :param func: A função a ser decorada.\n",
    "    :return: A função decorada.\n",
    "    \"\"\"\n",
    "    def funcao_decorada(*args, **kwargs):\n",
    "        print(\"Antes da execução\")\n",
    "        resultado = func(*args, **kwargs)\n",
    "        print(\"Depois da execução\")\n",
    "        return resultado\n",
    "    return funcao_decorada\n",
    "\n",
    "@decorador\n",
    "def saudacao(nome):\n",
    "    return f\"Olá, {nome}!\"\n",
    "\n",
    "print(saudacao(\"Alice\"))\n",
    "# Saída:\n",
    "# Antes da execução\n",
    "# Olá, Alice!\n",
    "# Depois da execução"
   ]
  },
  {
   "cell_type": "markdown",
   "id": "41351b23",
   "metadata": {},
   "source": []
  }
 ],
 "metadata": {},
 "nbformat": 4,
 "nbformat_minor": 5
}
