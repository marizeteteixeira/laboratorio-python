{
 "cells": [
  {
   "cell_type": "markdown",
   "id": "9f9d9979",
   "metadata": {},
   "source": [
    "# Exercícios - Trabalhando com Funções - GABARITO\n",
    "\n",
    "### Função com Parâmetro e Argumentos\n",
    "Crie uma função chamada `soma` que recebe dois parâmetros, `a` e `b`, e retorna a soma dos dois.\n"
   ]
  },
  {
   "cell_type": "code",
   "execution_count": null,
   "id": "ad243cc0",
   "metadata": {},
   "outputs": [],
   "source": [
    "# Criar a funcao soma\n",
    "\n",
    "# Teste a função\n",
    "print(soma(3, 4))   # resultado esperado 7\n",
    "print(soma(10, 5))  # resultado esperado 15"
   ]
  },
  {
   "cell_type": "markdown",
   "id": "42cc4411",
   "metadata": {},
   "source": [
    "\n",
    "### Função com Argumento Padrão\n",
    "Crie uma função chamada `cumprimento` que recebe um nome e uma saudação. Se a saudação não for fornecida, use \"Olá\" como saudação padrão.\n"
   ]
  },
  {
   "cell_type": "code",
   "execution_count": null,
   "id": "4def7216",
   "metadata": {},
   "outputs": [],
   "source": [
    "# Criar a funcao cumprimento\n",
    "\n",
    "# Teste a função\n",
    "print(cumprimento(\"João\"))  # resultado esperado Olá, João!\n",
    "print(cumprimento(\"Maria\", \"Bom dia\")) # resultado esperado Bom dia, Maria!"
   ]
  },
  {
   "cell_type": "markdown",
   "id": "41f88968",
   "metadata": {},
   "source": [
    "\n",
    "### Função com Argumentos Variáveis (`*args`)\n",
    "Crie uma função chamada `media` que recebe um número variável de argumentos e retorna a média aritmética desses números.\n"
   ]
  },
  {
   "cell_type": "code",
   "execution_count": null,
   "id": "11a7d1d6",
   "metadata": {},
   "outputs": [],
   "source": [
    "# Criar a funcao media\n",
    "\n",
    "# Teste a função\n",
    "print(media(1, 2, 3, 4, 5))  # resultado esperado 3.0\n",
    "print(media(10, 20))  # resultado esperado 15.0"
   ]
  },
  {
   "cell_type": "markdown",
   "id": "1aeb0c81",
   "metadata": {},
   "source": [
    "\n",
    "### Função com Argumentos Variáveis (`**kwargs`)\n",
    "Crie uma função chamada `descricao_pessoa` que recebe argumentos variáveis nomeados (como `nome`, `idade`, `cidade`) e retorna uma string descrevendo a pessoa.\n"
   ]
  },
  {
   "cell_type": "code",
   "execution_count": null,
   "id": "8471711d",
   "metadata": {},
   "outputs": [],
   "source": [
    "# Criar a funcao descricao_pessoa\n",
    "\n",
    "# Teste a função\n",
    "print(descricao_pessoa(nome=\"João\", idade=30, cidade=\"São Paulo\"))\n",
    "# Resultado esperado\n",
    "# Descrição da pessoa: nome: João, idade: 30, cidade: São Paulo"
   ]
  },
  {
   "cell_type": "markdown",
   "id": "5e8e176d",
   "metadata": {},
   "source": [
    "\n",
    "### Função Lambda\n",
    "Crie uma função lambda que recebe dois números e retorna o maior dos dois.\n"
   ]
  },
  {
   "cell_type": "code",
   "execution_count": null,
   "id": "bc5a9c99",
   "metadata": {},
   "outputs": [],
   "source": [
    "# Criar a funcao lambda maior\n",
    "\n",
    "# Teste a função\n",
    "print(maior(10, 20))  # resultado esperado 20\n",
    "print(maior(30, 15))  # resultado esperado 30"
   ]
  },
  {
   "cell_type": "markdown",
   "id": "968ea627",
   "metadata": {},
   "source": []
  }
 ],
 "metadata": {},
 "nbformat": 4,
 "nbformat_minor": 5
}
